{
  "nbformat": 4,
  "nbformat_minor": 0,
  "metadata": {
    "hide_input": false,
    "kernelspec": {
      "display_name": "Python 3",
      "language": "python",
      "name": "python3"
    },
    "language_info": {
      "codemirror_mode": {
        "name": "ipython",
        "version": 3
      },
      "file_extension": ".py",
      "mimetype": "text/x-python",
      "name": "python",
      "nbconvert_exporter": "python",
      "pygments_lexer": "ipython3",
      "version": "3.7.6"
    },
    "toc": {
      "base_numbering": 1,
      "nav_menu": {},
      "number_sections": true,
      "sideBar": true,
      "skip_h1_title": false,
      "title_cell": "Table of Contents",
      "title_sidebar": "Contents",
      "toc_cell": false,
      "toc_position": {},
      "toc_section_display": true,
      "toc_window_display": false
    },
    "varInspector": {
      "cols": {
        "lenName": 16,
        "lenType": 16,
        "lenVar": 40
      },
      "kernels_config": {
        "python": {
          "delete_cmd_postfix": "",
          "delete_cmd_prefix": "del ",
          "library": "var_list.py",
          "varRefreshCmd": "print(var_dic_list())"
        },
        "r": {
          "delete_cmd_postfix": ") ",
          "delete_cmd_prefix": "rm(",
          "library": "var_list.r",
          "varRefreshCmd": "cat(var_dic_list()) "
        }
      },
      "position": {
        "height": "529px",
        "left": "468px",
        "right": "20px",
        "top": "58px",
        "width": "778px"
      },
      "types_to_exclude": [
        "module",
        "function",
        "builtin_function_or_method",
        "instance",
        "_Feature"
      ],
      "window_display": false
    },
    "colab": {
      "name": "hw2.ipynb",
      "provenance": [],
      "toc_visible": true
    },
    "accelerator": "GPU",
    "widgets": {
      "application/vnd.jupyter.widget-state+json": {
        "b6fc8b9aac6e4d84846c11c07fdcc7bc": {
          "model_module": "@jupyter-widgets/controls",
          "model_name": "HBoxModel",
          "state": {
            "_view_name": "HBoxView",
            "_dom_classes": [],
            "_model_name": "HBoxModel",
            "_view_module": "@jupyter-widgets/controls",
            "_model_module_version": "1.5.0",
            "_view_count": null,
            "_view_module_version": "1.5.0",
            "box_style": "",
            "layout": "IPY_MODEL_d33ecfdce5f64a7489f1664a0f2b0aff",
            "_model_module": "@jupyter-widgets/controls",
            "children": [
              "IPY_MODEL_db377a7b10294d338e0f178df92102d7",
              "IPY_MODEL_e39635dfc6f24266ae7e4720e4945af9"
            ]
          }
        },
        "d33ecfdce5f64a7489f1664a0f2b0aff": {
          "model_module": "@jupyter-widgets/base",
          "model_name": "LayoutModel",
          "state": {
            "_view_name": "LayoutView",
            "grid_template_rows": null,
            "right": null,
            "justify_content": null,
            "_view_module": "@jupyter-widgets/base",
            "overflow": null,
            "_model_module_version": "1.2.0",
            "_view_count": null,
            "flex_flow": null,
            "width": null,
            "min_width": null,
            "border": null,
            "align_items": null,
            "bottom": null,
            "_model_module": "@jupyter-widgets/base",
            "top": null,
            "grid_column": null,
            "overflow_y": null,
            "overflow_x": null,
            "grid_auto_flow": null,
            "grid_area": null,
            "grid_template_columns": null,
            "flex": null,
            "_model_name": "LayoutModel",
            "justify_items": null,
            "grid_row": null,
            "max_height": null,
            "align_content": null,
            "visibility": null,
            "align_self": null,
            "height": null,
            "min_height": null,
            "padding": null,
            "grid_auto_rows": null,
            "grid_gap": null,
            "max_width": null,
            "order": null,
            "_view_module_version": "1.2.0",
            "grid_template_areas": null,
            "object_position": null,
            "object_fit": null,
            "grid_auto_columns": null,
            "margin": null,
            "display": null,
            "left": null
          }
        },
        "db377a7b10294d338e0f178df92102d7": {
          "model_module": "@jupyter-widgets/controls",
          "model_name": "FloatProgressModel",
          "state": {
            "_view_name": "ProgressView",
            "style": "IPY_MODEL_6ceb9d88539c4b7b98b32c5c2174f928",
            "_dom_classes": [],
            "description": "",
            "_model_name": "FloatProgressModel",
            "bar_style": "success",
            "max": 1,
            "_view_module": "@jupyter-widgets/controls",
            "_model_module_version": "1.5.0",
            "value": 1,
            "_view_count": null,
            "_view_module_version": "1.5.0",
            "orientation": "horizontal",
            "min": 0,
            "description_tooltip": null,
            "_model_module": "@jupyter-widgets/controls",
            "layout": "IPY_MODEL_d4dfb7817fd543999b8b137444e8f869"
          }
        },
        "e39635dfc6f24266ae7e4720e4945af9": {
          "model_module": "@jupyter-widgets/controls",
          "model_name": "HTMLModel",
          "state": {
            "_view_name": "HTMLView",
            "style": "IPY_MODEL_cc38b6fc6e9f456a8a1190cf27385050",
            "_dom_classes": [],
            "description": "",
            "_model_name": "HTMLModel",
            "placeholder": "​",
            "_view_module": "@jupyter-widgets/controls",
            "_model_module_version": "1.5.0",
            "value": " 5/? [18:54&lt;00:00, 226.87s/it]",
            "_view_count": null,
            "_view_module_version": "1.5.0",
            "description_tooltip": null,
            "_model_module": "@jupyter-widgets/controls",
            "layout": "IPY_MODEL_0ceeed036fc64df1ac55c351fe2daf98"
          }
        },
        "6ceb9d88539c4b7b98b32c5c2174f928": {
          "model_module": "@jupyter-widgets/controls",
          "model_name": "ProgressStyleModel",
          "state": {
            "_view_name": "StyleView",
            "_model_name": "ProgressStyleModel",
            "description_width": "initial",
            "_view_module": "@jupyter-widgets/base",
            "_model_module_version": "1.5.0",
            "_view_count": null,
            "_view_module_version": "1.2.0",
            "bar_color": null,
            "_model_module": "@jupyter-widgets/controls"
          }
        },
        "d4dfb7817fd543999b8b137444e8f869": {
          "model_module": "@jupyter-widgets/base",
          "model_name": "LayoutModel",
          "state": {
            "_view_name": "LayoutView",
            "grid_template_rows": null,
            "right": null,
            "justify_content": null,
            "_view_module": "@jupyter-widgets/base",
            "overflow": null,
            "_model_module_version": "1.2.0",
            "_view_count": null,
            "flex_flow": null,
            "width": null,
            "min_width": null,
            "border": null,
            "align_items": null,
            "bottom": null,
            "_model_module": "@jupyter-widgets/base",
            "top": null,
            "grid_column": null,
            "overflow_y": null,
            "overflow_x": null,
            "grid_auto_flow": null,
            "grid_area": null,
            "grid_template_columns": null,
            "flex": null,
            "_model_name": "LayoutModel",
            "justify_items": null,
            "grid_row": null,
            "max_height": null,
            "align_content": null,
            "visibility": null,
            "align_self": null,
            "height": null,
            "min_height": null,
            "padding": null,
            "grid_auto_rows": null,
            "grid_gap": null,
            "max_width": null,
            "order": null,
            "_view_module_version": "1.2.0",
            "grid_template_areas": null,
            "object_position": null,
            "object_fit": null,
            "grid_auto_columns": null,
            "margin": null,
            "display": null,
            "left": null
          }
        },
        "cc38b6fc6e9f456a8a1190cf27385050": {
          "model_module": "@jupyter-widgets/controls",
          "model_name": "DescriptionStyleModel",
          "state": {
            "_view_name": "StyleView",
            "_model_name": "DescriptionStyleModel",
            "description_width": "",
            "_view_module": "@jupyter-widgets/base",
            "_model_module_version": "1.5.0",
            "_view_count": null,
            "_view_module_version": "1.2.0",
            "_model_module": "@jupyter-widgets/controls"
          }
        },
        "0ceeed036fc64df1ac55c351fe2daf98": {
          "model_module": "@jupyter-widgets/base",
          "model_name": "LayoutModel",
          "state": {
            "_view_name": "LayoutView",
            "grid_template_rows": null,
            "right": null,
            "justify_content": null,
            "_view_module": "@jupyter-widgets/base",
            "overflow": null,
            "_model_module_version": "1.2.0",
            "_view_count": null,
            "flex_flow": null,
            "width": null,
            "min_width": null,
            "border": null,
            "align_items": null,
            "bottom": null,
            "_model_module": "@jupyter-widgets/base",
            "top": null,
            "grid_column": null,
            "overflow_y": null,
            "overflow_x": null,
            "grid_auto_flow": null,
            "grid_area": null,
            "grid_template_columns": null,
            "flex": null,
            "_model_name": "LayoutModel",
            "justify_items": null,
            "grid_row": null,
            "max_height": null,
            "align_content": null,
            "visibility": null,
            "align_self": null,
            "height": null,
            "min_height": null,
            "padding": null,
            "grid_auto_rows": null,
            "grid_gap": null,
            "max_width": null,
            "order": null,
            "_view_module_version": "1.2.0",
            "grid_template_areas": null,
            "object_position": null,
            "object_fit": null,
            "grid_auto_columns": null,
            "margin": null,
            "display": null,
            "left": null
          }
        }
      }
    }
  },
  "cells": [
    {
      "cell_type": "markdown",
      "metadata": {
        "id": "49UljZZnb8ZH"
      },
      "source": [
        "Датасет:\n",
        "https://www.kaggle.com/c/kkbox-music-recommendation-challenge/overview\n",
        "\n",
        "Можете мерять результат по 5-fold evaluation на train-set.\n",
        "\n",
        "Soft dead:\n",
        "25.10\n",
        "Dead dead:\n",
        "01.11"
      ]
    },
    {
      "cell_type": "code",
      "metadata": {
        "id": "Tu_JMycg3z0l",
        "outputId": "8f509150-e1ec-4125-b7db-a915f6277658",
        "colab": {
          "base_uri": "https://localhost:8080/"
        }
      },
      "source": [
        "from google.colab import drive\n",
        "drive.mount('/content/drive')"
      ],
      "execution_count": null,
      "outputs": [
        {
          "output_type": "stream",
          "text": [
            "Mounted at /content/drive\n"
          ],
          "name": "stdout"
        }
      ]
    },
    {
      "cell_type": "code",
      "metadata": {
        "id": "j_YWGzoe3P0F"
      },
      "source": [
        "!pip install -q kaggle\n",
        "!mkdir ~/.kaggle\n",
        "!cp '/content/drive/My Drive/AU/kaggle.json' ~/.kaggle\n",
        "!chmod 600 ~/.kaggle/kaggle.json"
      ],
      "execution_count": null,
      "outputs": []
    },
    {
      "cell_type": "code",
      "metadata": {
        "id": "cuV9cudqcM-p",
        "outputId": "62c909f1-a474-4bc9-d5b2-365d7d7c754a",
        "colab": {
          "base_uri": "https://localhost:8080/"
        }
      },
      "source": [
        "!kaggle competitions download -c kkbox-music-recommendation-challenge"
      ],
      "execution_count": null,
      "outputs": [
        {
          "output_type": "stream",
          "text": [
            "Warning: Looks like you're using an outdated API Version, please consider updating (server 1.5.9 / client 1.5.4)\n",
            "Downloading test.csv.7z to /content\n",
            " 60% 25.0M/41.9M [00:00<00:00, 29.5MB/s]\n",
            "100% 41.9M/41.9M [00:00<00:00, 57.4MB/s]\n",
            "Downloading sample_submission.csv.7z to /content\n",
            "  0% 0.00/453k [00:00<?, ?B/s]\n",
            "100% 453k/453k [00:00<00:00, 143MB/s]\n",
            "Downloading songs.csv.7z to /content\n",
            " 96% 97.0M/101M [00:01<00:00, 50.0MB/s]\n",
            "100% 101M/101M [00:01<00:00, 69.7MB/s] \n",
            "Downloading song_extra_info.csv.7z to /content\n",
            " 90% 89.0M/98.8M [00:01<00:00, 48.6MB/s]\n",
            "100% 98.8M/98.8M [00:01<00:00, 78.6MB/s]\n",
            "Downloading train.csv.7z to /content\n",
            " 84% 85.0M/101M [00:01<00:00, 39.1MB/s]\n",
            "100% 101M/101M [00:01<00:00, 74.6MB/s] \n",
            "Downloading members.csv.7z to /content\n",
            "  0% 0.00/1.29M [00:00<?, ?B/s]\n",
            "100% 1.29M/1.29M [00:00<00:00, 87.6MB/s]\n"
          ],
          "name": "stdout"
        }
      ]
    },
    {
      "cell_type": "markdown",
      "metadata": {
        "id": "3cQl8hedb8ZH"
      },
      "source": [
        "# Импорты"
      ]
    },
    {
      "cell_type": "code",
      "metadata": {
        "init_cell": true,
        "id": "cAQbSh8ub8ZH"
      },
      "source": [
        "import pandas as pd\n",
        "import xgboost as xgb\n",
        "import numpy as np\n",
        "from sklearn.preprocessing import OneHotEncoder, MultiLabelBinarizer\n",
        "import datetime\n",
        "import matplotlib.pyplot as plt\n",
        "from re import split\n",
        "from tqdm.auto import tqdm\n",
        "from sklearn.metrics import roc_auc_score\n",
        "from sklearn.model_selection import train_test_split, StratifiedKFold\n",
        "import lightgbm as lgb\n",
        "from gensim.models import Word2Vec\n",
        "from collections import defaultdict\n",
        "import multiprocessing"
      ],
      "execution_count": null,
      "outputs": []
    },
    {
      "cell_type": "markdown",
      "metadata": {
        "id": "igCUAvxLb8ZK"
      },
      "source": [
        "# Данные"
      ]
    },
    {
      "cell_type": "code",
      "metadata": {
        "id": "lYBynaAy6Uya",
        "outputId": "f0524db5-4c9d-4aec-99e5-f80e109e8193",
        "colab": {
          "base_uri": "https://localhost:8080/"
        }
      },
      "source": [
        "!7z x \"members.csv.7z\"\n",
        "!7z x \"song_extra_info.csv.7z\"\n",
        "!7z x \"songs.csv.7z\"\n",
        "!7z x \"test.csv.7z\"\n",
        "!7z x \"train.csv.7z\""
      ],
      "execution_count": null,
      "outputs": [
        {
          "output_type": "stream",
          "text": [
            "\n",
            "7-Zip [64] 16.02 : Copyright (c) 1999-2016 Igor Pavlov : 2016-05-21\n",
            "p7zip Version 16.02 (locale=en_US.UTF-8,Utf16=on,HugeFiles=on,64 bits,2 CPUs Intel(R) Xeon(R) CPU @ 2.20GHz (406F0),ASM,AES-NI)\n",
            "\n",
            "Scanning the drive for archives:\n",
            "  0M Scan\b\b\b\b\b\b\b\b\b         \b\b\b\b\b\b\b\b\b1 file, 1349856 bytes (1319 KiB)\n",
            "\n",
            "Extracting archive: members.csv.7z\n",
            "--\n",
            "Path = members.csv.7z\n",
            "Type = 7z\n",
            "Physical Size = 1349856\n",
            "Headers Size = 130\n",
            "Method = LZMA2:3m\n",
            "Solid = -\n",
            "Blocks = 1\n",
            "\n",
            "  0%\b\b\b\b    \b\b\b\bEverything is Ok\n",
            "\n",
            "Size:       2503827\n",
            "Compressed: 1349856\n",
            "\n",
            "7-Zip [64] 16.02 : Copyright (c) 1999-2016 Igor Pavlov : 2016-05-21\n",
            "p7zip Version 16.02 (locale=en_US.UTF-8,Utf16=on,HugeFiles=on,64 bits,2 CPUs Intel(R) Xeon(R) CPU @ 2.20GHz (406F0),ASM,AES-NI)\n",
            "\n",
            "Scanning the drive for archives:\n",
            "  0M Scan\b\b\b\b\b\b\b\b\b         \b\b\b\b\b\b\b\b\b1 file, 103608205 bytes (99 MiB)\n",
            "\n",
            "Extracting archive: song_extra_info.csv.7z\n",
            "--\n",
            "Path = song_extra_info.csv.7z\n",
            "Type = 7z\n",
            "Physical Size = 103608205\n",
            "Headers Size = 140\n",
            "Method = LZMA:25\n",
            "Solid = -\n",
            "Blocks = 1\n",
            "\n",
            "  0%\b\b\b\b    \b\b\b\b  2% - song_extra_info.csv\b\b\b\b\b\b\b\b\b\b\b\b\b\b\b\b\b\b\b\b\b\b\b\b\b\b                          \b\b\b\b\b\b\b\b\b\b\b\b\b\b\b\b\b\b\b\b\b\b\b\b\b\b  5% - song_extra_info.csv\b\b\b\b\b\b\b\b\b\b\b\b\b\b\b\b\b\b\b\b\b\b\b\b\b\b                          \b\b\b\b\b\b\b\b\b\b\b\b\b\b\b\b\b\b\b\b\b\b\b\b\b\b  8% - song_extra_info.csv\b\b\b\b\b\b\b\b\b\b\b\b\b\b\b\b\b\b\b\b\b\b\b\b\b\b                          \b\b\b\b\b\b\b\b\b\b\b\b\b\b\b\b\b\b\b\b\b\b\b\b\b\b 11% - song_extra_info.csv\b\b\b\b\b\b\b\b\b\b\b\b\b\b\b\b\b\b\b\b\b\b\b\b\b\b                          \b\b\b\b\b\b\b\b\b\b\b\b\b\b\b\b\b\b\b\b\b\b\b\b\b\b 14% - song_extra_info.csv\b\b\b\b\b\b\b\b\b\b\b\b\b\b\b\b\b\b\b\b\b\b\b\b\b\b                          \b\b\b\b\b\b\b\b\b\b\b\b\b\b\b\b\b\b\b\b\b\b\b\b\b\b 17% - song_extra_info.csv\b\b\b\b\b\b\b\b\b\b\b\b\b\b\b\b\b\b\b\b\b\b\b\b\b\b                          \b\b\b\b\b\b\b\b\b\b\b\b\b\b\b\b\b\b\b\b\b\b\b\b\b\b 20% - song_extra_info.csv\b\b\b\b\b\b\b\b\b\b\b\b\b\b\b\b\b\b\b\b\b\b\b\b\b\b                          \b\b\b\b\b\b\b\b\b\b\b\b\b\b\b\b\b\b\b\b\b\b\b\b\b\b 23% - song_extra_info.csv\b\b\b\b\b\b\b\b\b\b\b\b\b\b\b\b\b\b\b\b\b\b\b\b\b\b                          \b\b\b\b\b\b\b\b\b\b\b\b\b\b\b\b\b\b\b\b\b\b\b\b\b\b 26% - song_extra_info.csv\b\b\b\b\b\b\b\b\b\b\b\b\b\b\b\b\b\b\b\b\b\b\b\b\b\b                          \b\b\b\b\b\b\b\b\b\b\b\b\b\b\b\b\b\b\b\b\b\b\b\b\b\b 29% - song_extra_info.csv\b\b\b\b\b\b\b\b\b\b\b\b\b\b\b\b\b\b\b\b\b\b\b\b\b\b                          \b\b\b\b\b\b\b\b\b\b\b\b\b\b\b\b\b\b\b\b\b\b\b\b\b\b 32% - song_extra_info.csv\b\b\b\b\b\b\b\b\b\b\b\b\b\b\b\b\b\b\b\b\b\b\b\b\b\b                          \b\b\b\b\b\b\b\b\b\b\b\b\b\b\b\b\b\b\b\b\b\b\b\b\b\b 35% - song_extra_info.csv\b\b\b\b\b\b\b\b\b\b\b\b\b\b\b\b\b\b\b\b\b\b\b\b\b\b                          \b\b\b\b\b\b\b\b\b\b\b\b\b\b\b\b\b\b\b\b\b\b\b\b\b\b 39% - song_extra_info.csv\b\b\b\b\b\b\b\b\b\b\b\b\b\b\b\b\b\b\b\b\b\b\b\b\b\b                          \b\b\b\b\b\b\b\b\b\b\b\b\b\b\b\b\b\b\b\b\b\b\b\b\b\b 41% - song_extra_info.csv\b\b\b\b\b\b\b\b\b\b\b\b\b\b\b\b\b\b\b\b\b\b\b\b\b\b                          \b\b\b\b\b\b\b\b\b\b\b\b\b\b\b\b\b\b\b\b\b\b\b\b\b\b 45% - song_extra_info.csv\b\b\b\b\b\b\b\b\b\b\b\b\b\b\b\b\b\b\b\b\b\b\b\b\b\b                          \b\b\b\b\b\b\b\b\b\b\b\b\b\b\b\b\b\b\b\b\b\b\b\b\b\b 48% - song_extra_info.csv\b\b\b\b\b\b\b\b\b\b\b\b\b\b\b\b\b\b\b\b\b\b\b\b\b\b                          \b\b\b\b\b\b\b\b\b\b\b\b\b\b\b\b\b\b\b\b\b\b\b\b\b\b 50% - song_extra_info.csv\b\b\b\b\b\b\b\b\b\b\b\b\b\b\b\b\b\b\b\b\b\b\b\b\b\b                          \b\b\b\b\b\b\b\b\b\b\b\b\b\b\b\b\b\b\b\b\b\b\b\b\b\b 54% - song_extra_info.csv\b\b\b\b\b\b\b\b\b\b\b\b\b\b\b\b\b\b\b\b\b\b\b\b\b\b                          \b\b\b\b\b\b\b\b\b\b\b\b\b\b\b\b\b\b\b\b\b\b\b\b\b\b 57% - song_extra_info.csv\b\b\b\b\b\b\b\b\b\b\b\b\b\b\b\b\b\b\b\b\b\b\b\b\b\b                          \b\b\b\b\b\b\b\b\b\b\b\b\b\b\b\b\b\b\b\b\b\b\b\b\b\b 60% - song_extra_info.csv\b\b\b\b\b\b\b\b\b\b\b\b\b\b\b\b\b\b\b\b\b\b\b\b\b\b                          \b\b\b\b\b\b\b\b\b\b\b\b\b\b\b\b\b\b\b\b\b\b\b\b\b\b 63% - song_extra_info.csv\b\b\b\b\b\b\b\b\b\b\b\b\b\b\b\b\b\b\b\b\b\b\b\b\b\b                          \b\b\b\b\b\b\b\b\b\b\b\b\b\b\b\b\b\b\b\b\b\b\b\b\b\b 66% - song_extra_info.csv\b\b\b\b\b\b\b\b\b\b\b\b\b\b\b\b\b\b\b\b\b\b\b\b\b\b                          \b\b\b\b\b\b\b\b\b\b\b\b\b\b\b\b\b\b\b\b\b\b\b\b\b\b 69% - song_extra_info.csv\b\b\b\b\b\b\b\b\b\b\b\b\b\b\b\b\b\b\b\b\b\b\b\b\b\b                          \b\b\b\b\b\b\b\b\b\b\b\b\b\b\b\b\b\b\b\b\b\b\b\b\b\b 72% - song_extra_info.csv\b\b\b\b\b\b\b\b\b\b\b\b\b\b\b\b\b\b\b\b\b\b\b\b\b\b                          \b\b\b\b\b\b\b\b\b\b\b\b\b\b\b\b\b\b\b\b\b\b\b\b\b\b 75% - song_extra_info.csv\b\b\b\b\b\b\b\b\b\b\b\b\b\b\b\b\b\b\b\b\b\b\b\b\b\b                          \b\b\b\b\b\b\b\b\b\b\b\b\b\b\b\b\b\b\b\b\b\b\b\b\b\b 78% - song_extra_info.csv\b\b\b\b\b\b\b\b\b\b\b\b\b\b\b\b\b\b\b\b\b\b\b\b\b\b                          \b\b\b\b\b\b\b\b\b\b\b\b\b\b\b\b\b\b\b\b\b\b\b\b\b\b 81% - song_extra_info.csv\b\b\b\b\b\b\b\b\b\b\b\b\b\b\b\b\b\b\b\b\b\b\b\b\b\b                          \b\b\b\b\b\b\b\b\b\b\b\b\b\b\b\b\b\b\b\b\b\b\b\b\b\b 83% - song_extra_info.csv\b\b\b\b\b\b\b\b\b\b\b\b\b\b\b\b\b\b\b\b\b\b\b\b\b\b                          \b\b\b\b\b\b\b\b\b\b\b\b\b\b\b\b\b\b\b\b\b\b\b\b\b\b 86% - song_extra_info.csv\b\b\b\b\b\b\b\b\b\b\b\b\b\b\b\b\b\b\b\b\b\b\b\b\b\b                          \b\b\b\b\b\b\b\b\b\b\b\b\b\b\b\b\b\b\b\b\b\b\b\b\b\b 89% - song_extra_info.csv\b\b\b\b\b\b\b\b\b\b\b\b\b\b\b\b\b\b\b\b\b\b\b\b\b\b                          \b\b\b\b\b\b\b\b\b\b\b\b\b\b\b\b\b\b\b\b\b\b\b\b\b\b 92% - song_extra_info.csv\b\b\b\b\b\b\b\b\b\b\b\b\b\b\b\b\b\b\b\b\b\b\b\b\b\b                          \b\b\b\b\b\b\b\b\b\b\b\b\b\b\b\b\b\b\b\b\b\b\b\b\b\b 96% - song_extra_info.csv\b\b\b\b\b\b\b\b\b\b\b\b\b\b\b\b\b\b\b\b\b\b\b\b\b\b                          \b\b\b\b\b\b\b\b\b\b\b\b\b\b\b\b\b\b\b\b\b\b\b\b\b\b 99% - song_extra_info.csv\b\b\b\b\b\b\b\b\b\b\b\b\b\b\b\b\b\b\b\b\b\b\b\b\b\b                          \b\b\b\b\b\b\b\b\b\b\b\b\b\b\b\b\b\b\b\b\b\b\b\b\b\bEverything is Ok\n",
            "\n",
            "Size:       181010294\n",
            "Compressed: 103608205\n",
            "\n",
            "7-Zip [64] 16.02 : Copyright (c) 1999-2016 Igor Pavlov : 2016-05-21\n",
            "p7zip Version 16.02 (locale=en_US.UTF-8,Utf16=on,HugeFiles=on,64 bits,2 CPUs Intel(R) Xeon(R) CPU @ 2.20GHz (406F0),ASM,AES-NI)\n",
            "\n",
            "Scanning the drive for archives:\n",
            "  0M Scan\b\b\b\b\b\b\b\b\b         \b\b\b\b\b\b\b\b\b1 file, 105809525 bytes (101 MiB)\n",
            "\n",
            "Extracting archive: songs.csv.7z\n",
            "--\n",
            "Path = songs.csv.7z\n",
            "Type = 7z\n",
            "Physical Size = 105809525\n",
            "Headers Size = 122\n",
            "Method = LZMA2:24\n",
            "Solid = -\n",
            "Blocks = 1\n",
            "\n",
            "  0%\b\b\b\b    \b\b\b\b  2% - songs.csv\b\b\b\b\b\b\b\b\b\b\b\b\b\b\b\b                \b\b\b\b\b\b\b\b\b\b\b\b\b\b\b\b  5% - songs.csv\b\b\b\b\b\b\b\b\b\b\b\b\b\b\b\b                \b\b\b\b\b\b\b\b\b\b\b\b\b\b\b\b  9% - songs.csv\b\b\b\b\b\b\b\b\b\b\b\b\b\b\b\b                \b\b\b\b\b\b\b\b\b\b\b\b\b\b\b\b 12% - songs.csv\b\b\b\b\b\b\b\b\b\b\b\b\b\b\b\b                \b\b\b\b\b\b\b\b\b\b\b\b\b\b\b\b 15% - songs.csv\b\b\b\b\b\b\b\b\b\b\b\b\b\b\b\b                \b\b\b\b\b\b\b\b\b\b\b\b\b\b\b\b 18% - songs.csv\b\b\b\b\b\b\b\b\b\b\b\b\b\b\b\b                \b\b\b\b\b\b\b\b\b\b\b\b\b\b\b\b 20% - songs.csv\b\b\b\b\b\b\b\b\b\b\b\b\b\b\b\b                \b\b\b\b\b\b\b\b\b\b\b\b\b\b\b\b 24% - songs.csv\b\b\b\b\b\b\b\b\b\b\b\b\b\b\b\b                \b\b\b\b\b\b\b\b\b\b\b\b\b\b\b\b 27% - songs.csv\b\b\b\b\b\b\b\b\b\b\b\b\b\b\b\b                \b\b\b\b\b\b\b\b\b\b\b\b\b\b\b\b 30% - songs.csv\b\b\b\b\b\b\b\b\b\b\b\b\b\b\b\b                \b\b\b\b\b\b\b\b\b\b\b\b\b\b\b\b 33% - songs.csv\b\b\b\b\b\b\b\b\b\b\b\b\b\b\b\b                \b\b\b\b\b\b\b\b\b\b\b\b\b\b\b\b 35% - songs.csv\b\b\b\b\b\b\b\b\b\b\b\b\b\b\b\b                \b\b\b\b\b\b\b\b\b\b\b\b\b\b\b\b 39% - songs.csv\b\b\b\b\b\b\b\b\b\b\b\b\b\b\b\b                \b\b\b\b\b\b\b\b\b\b\b\b\b\b\b\b 41% - songs.csv\b\b\b\b\b\b\b\b\b\b\b\b\b\b\b\b                \b\b\b\b\b\b\b\b\b\b\b\b\b\b\b\b 44% - songs.csv\b\b\b\b\b\b\b\b\b\b\b\b\b\b\b\b                \b\b\b\b\b\b\b\b\b\b\b\b\b\b\b\b 47% - songs.csv\b\b\b\b\b\b\b\b\b\b\b\b\b\b\b\b                \b\b\b\b\b\b\b\b\b\b\b\b\b\b\b\b 50% - songs.csv\b\b\b\b\b\b\b\b\b\b\b\b\b\b\b\b                \b\b\b\b\b\b\b\b\b\b\b\b\b\b\b\b 52% - songs.csv\b\b\b\b\b\b\b\b\b\b\b\b\b\b\b\b                \b\b\b\b\b\b\b\b\b\b\b\b\b\b\b\b 55% - songs.csv\b\b\b\b\b\b\b\b\b\b\b\b\b\b\b\b                \b\b\b\b\b\b\b\b\b\b\b\b\b\b\b\b 58% - songs.csv\b\b\b\b\b\b\b\b\b\b\b\b\b\b\b\b                \b\b\b\b\b\b\b\b\b\b\b\b\b\b\b\b 61% - songs.csv\b\b\b\b\b\b\b\b\b\b\b\b\b\b\b\b                \b\b\b\b\b\b\b\b\b\b\b\b\b\b\b\b 64% - songs.csv\b\b\b\b\b\b\b\b\b\b\b\b\b\b\b\b                \b\b\b\b\b\b\b\b\b\b\b\b\b\b\b\b 67% - songs.csv\b\b\b\b\b\b\b\b\b\b\b\b\b\b\b\b                \b\b\b\b\b\b\b\b\b\b\b\b\b\b\b\b 69% - songs.csv\b\b\b\b\b\b\b\b\b\b\b\b\b\b\b\b                \b\b\b\b\b\b\b\b\b\b\b\b\b\b\b\b 71% - songs.csv\b\b\b\b\b\b\b\b\b\b\b\b\b\b\b\b                \b\b\b\b\b\b\b\b\b\b\b\b\b\b\b\b 74% - songs.csv\b\b\b\b\b\b\b\b\b\b\b\b\b\b\b\b                \b\b\b\b\b\b\b\b\b\b\b\b\b\b\b\b 77% - songs.csv\b\b\b\b\b\b\b\b\b\b\b\b\b\b\b\b                \b\b\b\b\b\b\b\b\b\b\b\b\b\b\b\b 80% - songs.csv\b\b\b\b\b\b\b\b\b\b\b\b\b\b\b\b                \b\b\b\b\b\b\b\b\b\b\b\b\b\b\b\b 83% - songs.csv\b\b\b\b\b\b\b\b\b\b\b\b\b\b\b\b                \b\b\b\b\b\b\b\b\b\b\b\b\b\b\b\b 86% - songs.csv\b\b\b\b\b\b\b\b\b\b\b\b\b\b\b\b                \b\b\b\b\b\b\b\b\b\b\b\b\b\b\b\b 89% - songs.csv\b\b\b\b\b\b\b\b\b\b\b\b\b\b\b\b                \b\b\b\b\b\b\b\b\b\b\b\b\b\b\b\b 92% - songs.csv\b\b\b\b\b\b\b\b\b\b\b\b\b\b\b\b                \b\b\b\b\b\b\b\b\b\b\b\b\b\b\b\b 95% - songs.csv\b\b\b\b\b\b\b\b\b\b\b\b\b\b\b\b                \b\b\b\b\b\b\b\b\b\b\b\b\b\b\b\b 98% - songs.csv\b\b\b\b\b\b\b\b\b\b\b\b\b\b\b\b                \b\b\b\b\b\b\b\b\b\b\b\b\b\b\b\bEverything is Ok\n",
            "\n",
            "Size:       221828666\n",
            "Compressed: 105809525\n",
            "\n",
            "7-Zip [64] 16.02 : Copyright (c) 1999-2016 Igor Pavlov : 2016-05-21\n",
            "p7zip Version 16.02 (locale=en_US.UTF-8,Utf16=on,HugeFiles=on,64 bits,2 CPUs Intel(R) Xeon(R) CPU @ 2.20GHz (406F0),ASM,AES-NI)\n",
            "\n",
            "Scanning the drive for archives:\n",
            "  0M Scan\b\b\b\b\b\b\b\b\b         \b\b\b\b\b\b\b\b\b1 file, 43925208 bytes (42 MiB)\n",
            "\n",
            "Extracting archive: test.csv.7z\n",
            "--\n",
            "Path = test.csv.7z\n",
            "Type = 7z\n",
            "Physical Size = 43925208\n",
            "Headers Size = 122\n",
            "Method = LZMA2:24\n",
            "Solid = -\n",
            "Blocks = 1\n",
            "\n",
            "  0%\b\b\b\b    \b\b\b\b  3% - test.csv\b\b\b\b\b\b\b\b\b\b\b\b\b\b\b               \b\b\b\b\b\b\b\b\b\b\b\b\b\b\b  9% - test.csv\b\b\b\b\b\b\b\b\b\b\b\b\b\b\b               \b\b\b\b\b\b\b\b\b\b\b\b\b\b\b 15% - test.csv\b\b\b\b\b\b\b\b\b\b\b\b\b\b\b               \b\b\b\b\b\b\b\b\b\b\b\b\b\b\b 21% - test.csv\b\b\b\b\b\b\b\b\b\b\b\b\b\b\b               \b\b\b\b\b\b\b\b\b\b\b\b\b\b\b 26% - test.csv\b\b\b\b\b\b\b\b\b\b\b\b\b\b\b               \b\b\b\b\b\b\b\b\b\b\b\b\b\b\b 32% - test.csv\b\b\b\b\b\b\b\b\b\b\b\b\b\b\b               \b\b\b\b\b\b\b\b\b\b\b\b\b\b\b 38% - test.csv\b\b\b\b\b\b\b\b\b\b\b\b\b\b\b               \b\b\b\b\b\b\b\b\b\b\b\b\b\b\b 43% - test.csv\b\b\b\b\b\b\b\b\b\b\b\b\b\b\b               \b\b\b\b\b\b\b\b\b\b\b\b\b\b\b 49% - test.csv\b\b\b\b\b\b\b\b\b\b\b\b\b\b\b               \b\b\b\b\b\b\b\b\b\b\b\b\b\b\b 55% - test.csv\b\b\b\b\b\b\b\b\b\b\b\b\b\b\b               \b\b\b\b\b\b\b\b\b\b\b\b\b\b\b 60% - test.csv\b\b\b\b\b\b\b\b\b\b\b\b\b\b\b               \b\b\b\b\b\b\b\b\b\b\b\b\b\b\b 66% - test.csv\b\b\b\b\b\b\b\b\b\b\b\b\b\b\b               \b\b\b\b\b\b\b\b\b\b\b\b\b\b\b 72% - test.csv\b\b\b\b\b\b\b\b\b\b\b\b\b\b\b               \b\b\b\b\b\b\b\b\b\b\b\b\b\b\b 78% - test.csv\b\b\b\b\b\b\b\b\b\b\b\b\b\b\b               \b\b\b\b\b\b\b\b\b\b\b\b\b\b\b 84% - test.csv\b\b\b\b\b\b\b\b\b\b\b\b\b\b\b               \b\b\b\b\b\b\b\b\b\b\b\b\b\b\b 89% - test.csv\b\b\b\b\b\b\b\b\b\b\b\b\b\b\b               \b\b\b\b\b\b\b\b\b\b\b\b\b\b\b 94% - test.csv\b\b\b\b\b\b\b\b\b\b\b\b\b\b\b               \b\b\b\b\b\b\b\b\b\b\b\b\b\b\b 98% - test.csv\b\b\b\b\b\b\b\b\b\b\b\b\b\b\b               \b\b\b\b\b\b\b\b\b\b\b\b\b\b\bEverything is Ok\n",
            "\n",
            "Size:       347789925\n",
            "Compressed: 43925208\n",
            "\n",
            "7-Zip [64] 16.02 : Copyright (c) 1999-2016 Igor Pavlov : 2016-05-21\n",
            "p7zip Version 16.02 (locale=en_US.UTF-8,Utf16=on,HugeFiles=on,64 bits,2 CPUs Intel(R) Xeon(R) CPU @ 2.20GHz (406F0),ASM,AES-NI)\n",
            "\n",
            "Scanning the drive for archives:\n",
            "  0M Scan\b\b\b\b\b\b\b\b\b         \b\b\b\b\b\b\b\b\b1 file, 106420688 bytes (102 MiB)\n",
            "\n",
            "Extracting archive: train.csv.7z\n",
            "--\n",
            "Path = train.csv.7z\n",
            "Type = 7z\n",
            "Physical Size = 106420688\n",
            "Headers Size = 122\n",
            "Method = LZMA2:24\n",
            "Solid = -\n",
            "Blocks = 1\n",
            "\n",
            "  0%\b\b\b\b    \b\b\b\b  1% - train.csv\b\b\b\b\b\b\b\b\b\b\b\b\b\b\b\b                \b\b\b\b\b\b\b\b\b\b\b\b\b\b\b\b  4% - train.csv\b\b\b\b\b\b\b\b\b\b\b\b\b\b\b\b                \b\b\b\b\b\b\b\b\b\b\b\b\b\b\b\b  7% - train.csv\b\b\b\b\b\b\b\b\b\b\b\b\b\b\b\b                \b\b\b\b\b\b\b\b\b\b\b\b\b\b\b\b  9% - train.csv\b\b\b\b\b\b\b\b\b\b\b\b\b\b\b\b                \b\b\b\b\b\b\b\b\b\b\b\b\b\b\b\b 11% - train.csv\b\b\b\b\b\b\b\b\b\b\b\b\b\b\b\b                \b\b\b\b\b\b\b\b\b\b\b\b\b\b\b\b 13% - train.csv\b\b\b\b\b\b\b\b\b\b\b\b\b\b\b\b                \b\b\b\b\b\b\b\b\b\b\b\b\b\b\b\b 16% - train.csv\b\b\b\b\b\b\b\b\b\b\b\b\b\b\b\b                \b\b\b\b\b\b\b\b\b\b\b\b\b\b\b\b 18% - train.csv\b\b\b\b\b\b\b\b\b\b\b\b\b\b\b\b                \b\b\b\b\b\b\b\b\b\b\b\b\b\b\b\b 21% - train.csv\b\b\b\b\b\b\b\b\b\b\b\b\b\b\b\b                \b\b\b\b\b\b\b\b\b\b\b\b\b\b\b\b 23% - train.csv\b\b\b\b\b\b\b\b\b\b\b\b\b\b\b\b                \b\b\b\b\b\b\b\b\b\b\b\b\b\b\b\b 25% - train.csv\b\b\b\b\b\b\b\b\b\b\b\b\b\b\b\b                \b\b\b\b\b\b\b\b\b\b\b\b\b\b\b\b 28% - train.csv\b\b\b\b\b\b\b\b\b\b\b\b\b\b\b\b                \b\b\b\b\b\b\b\b\b\b\b\b\b\b\b\b 30% - train.csv\b\b\b\b\b\b\b\b\b\b\b\b\b\b\b\b                \b\b\b\b\b\b\b\b\b\b\b\b\b\b\b\b 32% - train.csv\b\b\b\b\b\b\b\b\b\b\b\b\b\b\b\b                \b\b\b\b\b\b\b\b\b\b\b\b\b\b\b\b 34% - train.csv\b\b\b\b\b\b\b\b\b\b\b\b\b\b\b\b                \b\b\b\b\b\b\b\b\b\b\b\b\b\b\b\b 37% - train.csv\b\b\b\b\b\b\b\b\b\b\b\b\b\b\b\b                \b\b\b\b\b\b\b\b\b\b\b\b\b\b\b\b 39% - train.csv\b\b\b\b\b\b\b\b\b\b\b\b\b\b\b\b                \b\b\b\b\b\b\b\b\b\b\b\b\b\b\b\b 41% - train.csv\b\b\b\b\b\b\b\b\b\b\b\b\b\b\b\b                \b\b\b\b\b\b\b\b\b\b\b\b\b\b\b\b 43% - train.csv\b\b\b\b\b\b\b\b\b\b\b\b\b\b\b\b                \b\b\b\b\b\b\b\b\b\b\b\b\b\b\b\b 45% - train.csv\b\b\b\b\b\b\b\b\b\b\b\b\b\b\b\b                \b\b\b\b\b\b\b\b\b\b\b\b\b\b\b\b 48% - train.csv\b\b\b\b\b\b\b\b\b\b\b\b\b\b\b\b                \b\b\b\b\b\b\b\b\b\b\b\b\b\b\b\b 50% - train.csv\b\b\b\b\b\b\b\b\b\b\b\b\b\b\b\b                \b\b\b\b\b\b\b\b\b\b\b\b\b\b\b\b 52% - train.csv\b\b\b\b\b\b\b\b\b\b\b\b\b\b\b\b                \b\b\b\b\b\b\b\b\b\b\b\b\b\b\b\b 54% - train.csv\b\b\b\b\b\b\b\b\b\b\b\b\b\b\b\b                \b\b\b\b\b\b\b\b\b\b\b\b\b\b\b\b 56% - train.csv\b\b\b\b\b\b\b\b\b\b\b\b\b\b\b\b                \b\b\b\b\b\b\b\b\b\b\b\b\b\b\b\b 58% - train.csv\b\b\b\b\b\b\b\b\b\b\b\b\b\b\b\b                \b\b\b\b\b\b\b\b\b\b\b\b\b\b\b\b 60% - train.csv\b\b\b\b\b\b\b\b\b\b\b\b\b\b\b\b                \b\b\b\b\b\b\b\b\b\b\b\b\b\b\b\b 62% - train.csv\b\b\b\b\b\b\b\b\b\b\b\b\b\b\b\b                \b\b\b\b\b\b\b\b\b\b\b\b\b\b\b\b 64% - train.csv\b\b\b\b\b\b\b\b\b\b\b\b\b\b\b\b                \b\b\b\b\b\b\b\b\b\b\b\b\b\b\b\b 67% - train.csv\b\b\b\b\b\b\b\b\b\b\b\b\b\b\b\b                \b\b\b\b\b\b\b\b\b\b\b\b\b\b\b\b 69% - train.csv\b\b\b\b\b\b\b\b\b\b\b\b\b\b\b\b                \b\b\b\b\b\b\b\b\b\b\b\b\b\b\b\b 71% - train.csv\b\b\b\b\b\b\b\b\b\b\b\b\b\b\b\b                \b\b\b\b\b\b\b\b\b\b\b\b\b\b\b\b 73% - train.csv\b\b\b\b\b\b\b\b\b\b\b\b\b\b\b\b                \b\b\b\b\b\b\b\b\b\b\b\b\b\b\b\b 75% - train.csv\b\b\b\b\b\b\b\b\b\b\b\b\b\b\b\b                \b\b\b\b\b\b\b\b\b\b\b\b\b\b\b\b 77% - train.csv\b\b\b\b\b\b\b\b\b\b\b\b\b\b\b\b                \b\b\b\b\b\b\b\b\b\b\b\b\b\b\b\b 79% - train.csv\b\b\b\b\b\b\b\b\b\b\b\b\b\b\b\b                \b\b\b\b\b\b\b\b\b\b\b\b\b\b\b\b 82% - train.csv\b\b\b\b\b\b\b\b\b\b\b\b\b\b\b\b                \b\b\b\b\b\b\b\b\b\b\b\b\b\b\b\b 84% - train.csv\b\b\b\b\b\b\b\b\b\b\b\b\b\b\b\b                \b\b\b\b\b\b\b\b\b\b\b\b\b\b\b\b 86% - train.csv\b\b\b\b\b\b\b\b\b\b\b\b\b\b\b\b                \b\b\b\b\b\b\b\b\b\b\b\b\b\b\b\b 89% - train.csv\b\b\b\b\b\b\b\b\b\b\b\b\b\b\b\b                \b\b\b\b\b\b\b\b\b\b\b\b\b\b\b\b 90% - train.csv\b\b\b\b\b\b\b\b\b\b\b\b\b\b\b\b                \b\b\b\b\b\b\b\b\b\b\b\b\b\b\b\b 93% - train.csv\b\b\b\b\b\b\b\b\b\b\b\b\b\b\b\b                \b\b\b\b\b\b\b\b\b\b\b\b\b\b\b\b 95% - train.csv\b\b\b\b\b\b\b\b\b\b\b\b\b\b\b\b                \b\b\b\b\b\b\b\b\b\b\b\b\b\b\b\b 97% - train.csv\b\b\b\b\b\b\b\b\b\b\b\b\b\b\b\b                \b\b\b\b\b\b\b\b\b\b\b\b\b\b\b\b100% 1\b\b\b\b\b\b      \b\b\b\b\b\bEverything is Ok\n",
            "\n",
            "Size:       971675848\n",
            "Compressed: 106420688\n"
          ],
          "name": "stdout"
        }
      ]
    },
    {
      "cell_type": "code",
      "metadata": {
        "init_cell": true,
        "id": "NBNOeN0Qb8ZK"
      },
      "source": [
        "dataset_path = \"\"\n",
        "members = pd.read_csv(dataset_path + \"members.csv\", dtype={'city': 'category',\n",
        "                                                           'registered_via': 'category'},\n",
        "                      parse_dates=['registration_init_time', 'expiration_date'])\n",
        "song_extra_info = pd.read_csv(dataset_path + \"song_extra_info.csv\", dtype={'name': 'category',\n",
        "                                                                           'song_id': 'category'})\n",
        "songs = pd.read_csv(dataset_path + \"songs.csv\", dtype={'language': 'category',\n",
        "                                                       'song_id': 'category'})\n",
        "test = pd.read_csv(dataset_path + \"test.csv\", dtype={'msno': 'category',\n",
        "                                                     'source_system_tab': 'category',\n",
        "                                                     'source_screen_name': 'category',\n",
        "                                                     'source_type': 'category',\n",
        "                                                     'song_id': 'category'})\n",
        "train = pd.read_csv(dataset_path + \"train.csv\", dtype={'msno': 'category',\n",
        "                                                       'source_system_tab': 'category',\n",
        "                                                       'source_screen_name': 'category',\n",
        "                                                       'source_type': 'category',\n",
        "                                                       'song_id': 'category',\n",
        "                                                       'target': int})"
      ],
      "execution_count": null,
      "outputs": []
    },
    {
      "cell_type": "code",
      "metadata": {
        "id": "UwATQ1Khb8ZM",
        "outputId": "a79f96a3-0ae1-44f9-cff1-4e35a59fb13a"
      },
      "source": [
        "members"
      ],
      "execution_count": null,
      "outputs": [
        {
          "output_type": "execute_result",
          "data": {
            "text/html": [
              "<div>\n",
              "<style scoped>\n",
              "    .dataframe tbody tr th:only-of-type {\n",
              "        vertical-align: middle;\n",
              "    }\n",
              "\n",
              "    .dataframe tbody tr th {\n",
              "        vertical-align: top;\n",
              "    }\n",
              "\n",
              "    .dataframe thead th {\n",
              "        text-align: right;\n",
              "    }\n",
              "</style>\n",
              "<table border=\"1\" class=\"dataframe\">\n",
              "  <thead>\n",
              "    <tr style=\"text-align: right;\">\n",
              "      <th></th>\n",
              "      <th>msno</th>\n",
              "      <th>city</th>\n",
              "      <th>bd</th>\n",
              "      <th>gender</th>\n",
              "      <th>registered_via</th>\n",
              "      <th>registration_init_time</th>\n",
              "      <th>expiration_date</th>\n",
              "    </tr>\n",
              "  </thead>\n",
              "  <tbody>\n",
              "    <tr>\n",
              "      <th>0</th>\n",
              "      <td>XQxgAYj3klVKjR3oxPPXYYFp4soD4TuBghkhMTD4oTw=</td>\n",
              "      <td>1</td>\n",
              "      <td>0</td>\n",
              "      <td>NaN</td>\n",
              "      <td>7</td>\n",
              "      <td>2011-08-20</td>\n",
              "      <td>2017-09-20</td>\n",
              "    </tr>\n",
              "    <tr>\n",
              "      <th>1</th>\n",
              "      <td>UizsfmJb9mV54qE9hCYyU07Va97c0lCRLEQX3ae+ztM=</td>\n",
              "      <td>1</td>\n",
              "      <td>0</td>\n",
              "      <td>NaN</td>\n",
              "      <td>7</td>\n",
              "      <td>2015-06-28</td>\n",
              "      <td>2017-06-22</td>\n",
              "    </tr>\n",
              "    <tr>\n",
              "      <th>2</th>\n",
              "      <td>D8nEhsIOBSoE6VthTaqDX8U6lqjJ7dLdr72mOyLya2A=</td>\n",
              "      <td>1</td>\n",
              "      <td>0</td>\n",
              "      <td>NaN</td>\n",
              "      <td>4</td>\n",
              "      <td>2016-04-11</td>\n",
              "      <td>2017-07-12</td>\n",
              "    </tr>\n",
              "    <tr>\n",
              "      <th>3</th>\n",
              "      <td>mCuD+tZ1hERA/o5GPqk38e041J8ZsBaLcu7nGoIIvhI=</td>\n",
              "      <td>1</td>\n",
              "      <td>0</td>\n",
              "      <td>NaN</td>\n",
              "      <td>9</td>\n",
              "      <td>2015-09-06</td>\n",
              "      <td>2015-09-07</td>\n",
              "    </tr>\n",
              "    <tr>\n",
              "      <th>4</th>\n",
              "      <td>q4HRBfVSssAFS9iRfxWrohxuk9kCYMKjHOEagUMV6rQ=</td>\n",
              "      <td>1</td>\n",
              "      <td>0</td>\n",
              "      <td>NaN</td>\n",
              "      <td>4</td>\n",
              "      <td>2017-01-26</td>\n",
              "      <td>2017-06-13</td>\n",
              "    </tr>\n",
              "    <tr>\n",
              "      <th>...</th>\n",
              "      <td>...</td>\n",
              "      <td>...</td>\n",
              "      <td>...</td>\n",
              "      <td>...</td>\n",
              "      <td>...</td>\n",
              "      <td>...</td>\n",
              "      <td>...</td>\n",
              "    </tr>\n",
              "    <tr>\n",
              "      <th>34398</th>\n",
              "      <td>Wwd/cudKVuLJ3txRVxlg2Zaeliu+LRUfiBmfrnxhRCY=</td>\n",
              "      <td>1</td>\n",
              "      <td>0</td>\n",
              "      <td>NaN</td>\n",
              "      <td>7</td>\n",
              "      <td>2013-11-11</td>\n",
              "      <td>2017-09-10</td>\n",
              "    </tr>\n",
              "    <tr>\n",
              "      <th>34399</th>\n",
              "      <td>g3JGnJX6Hg50lFbrNWfsHwCUmApIkiv2M8sXOaeXoIQ=</td>\n",
              "      <td>4</td>\n",
              "      <td>18</td>\n",
              "      <td>male</td>\n",
              "      <td>3</td>\n",
              "      <td>2014-10-24</td>\n",
              "      <td>2017-05-18</td>\n",
              "    </tr>\n",
              "    <tr>\n",
              "      <th>34400</th>\n",
              "      <td>IMaPMJuyN+ip9Vqi+z2XuXbFAP2kbHr+EvvCNkFfj+o=</td>\n",
              "      <td>1</td>\n",
              "      <td>0</td>\n",
              "      <td>NaN</td>\n",
              "      <td>7</td>\n",
              "      <td>2013-08-02</td>\n",
              "      <td>2017-09-08</td>\n",
              "    </tr>\n",
              "    <tr>\n",
              "      <th>34401</th>\n",
              "      <td>WAnCAJjUty9Stv8yKtV7ZC7PN+ilOy5FX3aIJgGPANM=</td>\n",
              "      <td>1</td>\n",
              "      <td>0</td>\n",
              "      <td>NaN</td>\n",
              "      <td>7</td>\n",
              "      <td>2015-10-20</td>\n",
              "      <td>2017-09-20</td>\n",
              "    </tr>\n",
              "    <tr>\n",
              "      <th>34402</th>\n",
              "      <td>xH8KpzKGeNNq6dOvy51c/8VzqOiGG+m6vabhsPSDHX4=</td>\n",
              "      <td>1</td>\n",
              "      <td>0</td>\n",
              "      <td>NaN</td>\n",
              "      <td>4</td>\n",
              "      <td>2016-08-15</td>\n",
              "      <td>2016-08-18</td>\n",
              "    </tr>\n",
              "  </tbody>\n",
              "</table>\n",
              "<p>34403 rows × 7 columns</p>\n",
              "</div>"
            ],
            "text/plain": [
              "                                               msno city  bd gender  \\\n",
              "0      XQxgAYj3klVKjR3oxPPXYYFp4soD4TuBghkhMTD4oTw=    1   0    NaN   \n",
              "1      UizsfmJb9mV54qE9hCYyU07Va97c0lCRLEQX3ae+ztM=    1   0    NaN   \n",
              "2      D8nEhsIOBSoE6VthTaqDX8U6lqjJ7dLdr72mOyLya2A=    1   0    NaN   \n",
              "3      mCuD+tZ1hERA/o5GPqk38e041J8ZsBaLcu7nGoIIvhI=    1   0    NaN   \n",
              "4      q4HRBfVSssAFS9iRfxWrohxuk9kCYMKjHOEagUMV6rQ=    1   0    NaN   \n",
              "...                                             ...  ...  ..    ...   \n",
              "34398  Wwd/cudKVuLJ3txRVxlg2Zaeliu+LRUfiBmfrnxhRCY=    1   0    NaN   \n",
              "34399  g3JGnJX6Hg50lFbrNWfsHwCUmApIkiv2M8sXOaeXoIQ=    4  18   male   \n",
              "34400  IMaPMJuyN+ip9Vqi+z2XuXbFAP2kbHr+EvvCNkFfj+o=    1   0    NaN   \n",
              "34401  WAnCAJjUty9Stv8yKtV7ZC7PN+ilOy5FX3aIJgGPANM=    1   0    NaN   \n",
              "34402  xH8KpzKGeNNq6dOvy51c/8VzqOiGG+m6vabhsPSDHX4=    1   0    NaN   \n",
              "\n",
              "      registered_via registration_init_time expiration_date  \n",
              "0                  7             2011-08-20      2017-09-20  \n",
              "1                  7             2015-06-28      2017-06-22  \n",
              "2                  4             2016-04-11      2017-07-12  \n",
              "3                  9             2015-09-06      2015-09-07  \n",
              "4                  4             2017-01-26      2017-06-13  \n",
              "...              ...                    ...             ...  \n",
              "34398              7             2013-11-11      2017-09-10  \n",
              "34399              3             2014-10-24      2017-05-18  \n",
              "34400              7             2013-08-02      2017-09-08  \n",
              "34401              7             2015-10-20      2017-09-20  \n",
              "34402              4             2016-08-15      2016-08-18  \n",
              "\n",
              "[34403 rows x 7 columns]"
            ]
          },
          "metadata": {
            "tags": []
          },
          "execution_count": 93
        }
      ]
    },
    {
      "cell_type": "code",
      "metadata": {
        "id": "NaTk7w3Qb8ZP",
        "outputId": "2f2d5414-6f99-4e4f-bb95-9284c1ed3168"
      },
      "source": [
        "songs"
      ],
      "execution_count": null,
      "outputs": [
        {
          "output_type": "execute_result",
          "data": {
            "text/html": [
              "<div>\n",
              "<style scoped>\n",
              "    .dataframe tbody tr th:only-of-type {\n",
              "        vertical-align: middle;\n",
              "    }\n",
              "\n",
              "    .dataframe tbody tr th {\n",
              "        vertical-align: top;\n",
              "    }\n",
              "\n",
              "    .dataframe thead th {\n",
              "        text-align: right;\n",
              "    }\n",
              "</style>\n",
              "<table border=\"1\" class=\"dataframe\">\n",
              "  <thead>\n",
              "    <tr style=\"text-align: right;\">\n",
              "      <th></th>\n",
              "      <th>song_id</th>\n",
              "      <th>song_length</th>\n",
              "      <th>genre_ids</th>\n",
              "      <th>artist_name</th>\n",
              "      <th>composer</th>\n",
              "      <th>lyricist</th>\n",
              "      <th>language</th>\n",
              "    </tr>\n",
              "  </thead>\n",
              "  <tbody>\n",
              "    <tr>\n",
              "      <th>0</th>\n",
              "      <td>CXoTN1eb7AI+DntdU1vbcwGRV4SCIDxZu+YD8JP8r4E=</td>\n",
              "      <td>247640</td>\n",
              "      <td>465</td>\n",
              "      <td>張信哲 (Jeff Chang)</td>\n",
              "      <td>董貞</td>\n",
              "      <td>何啟弘</td>\n",
              "      <td>3.0</td>\n",
              "    </tr>\n",
              "    <tr>\n",
              "      <th>1</th>\n",
              "      <td>o0kFgae9QtnYgRkVPqLJwa05zIhRlUjfF7O1tDw0ZDU=</td>\n",
              "      <td>197328</td>\n",
              "      <td>444</td>\n",
              "      <td>BLACKPINK</td>\n",
              "      <td>TEDDY|  FUTURE BOUNCE|  Bekuh BOOM</td>\n",
              "      <td>TEDDY</td>\n",
              "      <td>31.0</td>\n",
              "    </tr>\n",
              "    <tr>\n",
              "      <th>2</th>\n",
              "      <td>DwVvVurfpuz+XPuFvucclVQEyPqcpUkHR0ne1RQzPs0=</td>\n",
              "      <td>231781</td>\n",
              "      <td>465</td>\n",
              "      <td>SUPER JUNIOR</td>\n",
              "      <td>NaN</td>\n",
              "      <td>NaN</td>\n",
              "      <td>31.0</td>\n",
              "    </tr>\n",
              "    <tr>\n",
              "      <th>3</th>\n",
              "      <td>dKMBWoZyScdxSkihKG+Vf47nc18N9q4m58+b4e7dSSE=</td>\n",
              "      <td>273554</td>\n",
              "      <td>465</td>\n",
              "      <td>S.H.E</td>\n",
              "      <td>湯小康</td>\n",
              "      <td>徐世珍</td>\n",
              "      <td>3.0</td>\n",
              "    </tr>\n",
              "    <tr>\n",
              "      <th>4</th>\n",
              "      <td>W3bqWd3T+VeHFzHAUfARgW9AvVRaF4N5Yzm4Mr6Eo/o=</td>\n",
              "      <td>140329</td>\n",
              "      <td>726</td>\n",
              "      <td>貴族精選</td>\n",
              "      <td>Traditional</td>\n",
              "      <td>Traditional</td>\n",
              "      <td>52.0</td>\n",
              "    </tr>\n",
              "    <tr>\n",
              "      <th>...</th>\n",
              "      <td>...</td>\n",
              "      <td>...</td>\n",
              "      <td>...</td>\n",
              "      <td>...</td>\n",
              "      <td>...</td>\n",
              "      <td>...</td>\n",
              "      <td>...</td>\n",
              "    </tr>\n",
              "    <tr>\n",
              "      <th>2296315</th>\n",
              "      <td>lg6rn7eV/ZNg0+P+x77kHUL7GDMfoL4eMtXxncseLNA=</td>\n",
              "      <td>20192</td>\n",
              "      <td>958</td>\n",
              "      <td>Catherine Collard</td>\n",
              "      <td>Robert Schumann (1810-1856)</td>\n",
              "      <td>NaN</td>\n",
              "      <td>-1.0</td>\n",
              "    </tr>\n",
              "    <tr>\n",
              "      <th>2296316</th>\n",
              "      <td>nXi1lrSJe+gLoTTNky7If0mNPrIyCQCLwagwR6XopGU=</td>\n",
              "      <td>273391</td>\n",
              "      <td>465</td>\n",
              "      <td>紀文惠 (Justine Chi)</td>\n",
              "      <td>NaN</td>\n",
              "      <td>NaN</td>\n",
              "      <td>3.0</td>\n",
              "    </tr>\n",
              "    <tr>\n",
              "      <th>2296317</th>\n",
              "      <td>9KxSvIjbJyJzfEVWnkMbgR6dyn6d54ot0N5FKyKqii8=</td>\n",
              "      <td>445172</td>\n",
              "      <td>1609</td>\n",
              "      <td>Various Artists</td>\n",
              "      <td>NaN</td>\n",
              "      <td>NaN</td>\n",
              "      <td>52.0</td>\n",
              "    </tr>\n",
              "    <tr>\n",
              "      <th>2296318</th>\n",
              "      <td>UO8Y2MR2sjOn2q/Tp8/lzZTGKmLEvwZ20oWanG4XnYc=</td>\n",
              "      <td>172669</td>\n",
              "      <td>465</td>\n",
              "      <td>Peter Paul &amp; Mary</td>\n",
              "      <td>NaN</td>\n",
              "      <td>NaN</td>\n",
              "      <td>52.0</td>\n",
              "    </tr>\n",
              "    <tr>\n",
              "      <th>2296319</th>\n",
              "      <td>V/9qPSUOGT0FeIGBhDIZRRz5Y5yyjdXC2Z/+bJExo5s=</td>\n",
              "      <td>270466</td>\n",
              "      <td>829</td>\n",
              "      <td>Kim Robertson</td>\n",
              "      <td>NaN</td>\n",
              "      <td>NaN</td>\n",
              "      <td>52.0</td>\n",
              "    </tr>\n",
              "  </tbody>\n",
              "</table>\n",
              "<p>2296320 rows × 7 columns</p>\n",
              "</div>"
            ],
            "text/plain": [
              "                                              song_id  song_length genre_ids  \\\n",
              "0        CXoTN1eb7AI+DntdU1vbcwGRV4SCIDxZu+YD8JP8r4E=       247640       465   \n",
              "1        o0kFgae9QtnYgRkVPqLJwa05zIhRlUjfF7O1tDw0ZDU=       197328       444   \n",
              "2        DwVvVurfpuz+XPuFvucclVQEyPqcpUkHR0ne1RQzPs0=       231781       465   \n",
              "3        dKMBWoZyScdxSkihKG+Vf47nc18N9q4m58+b4e7dSSE=       273554       465   \n",
              "4        W3bqWd3T+VeHFzHAUfARgW9AvVRaF4N5Yzm4Mr6Eo/o=       140329       726   \n",
              "...                                               ...          ...       ...   \n",
              "2296315  lg6rn7eV/ZNg0+P+x77kHUL7GDMfoL4eMtXxncseLNA=        20192       958   \n",
              "2296316  nXi1lrSJe+gLoTTNky7If0mNPrIyCQCLwagwR6XopGU=       273391       465   \n",
              "2296317  9KxSvIjbJyJzfEVWnkMbgR6dyn6d54ot0N5FKyKqii8=       445172      1609   \n",
              "2296318  UO8Y2MR2sjOn2q/Tp8/lzZTGKmLEvwZ20oWanG4XnYc=       172669       465   \n",
              "2296319  V/9qPSUOGT0FeIGBhDIZRRz5Y5yyjdXC2Z/+bJExo5s=       270466       829   \n",
              "\n",
              "               artist_name                            composer     lyricist  \\\n",
              "0         張信哲 (Jeff Chang)                                  董貞          何啟弘   \n",
              "1                BLACKPINK  TEDDY|  FUTURE BOUNCE|  Bekuh BOOM        TEDDY   \n",
              "2             SUPER JUNIOR                                 NaN          NaN   \n",
              "3                    S.H.E                                 湯小康          徐世珍   \n",
              "4                     貴族精選                         Traditional  Traditional   \n",
              "...                    ...                                 ...          ...   \n",
              "2296315  Catherine Collard         Robert Schumann (1810-1856)          NaN   \n",
              "2296316  紀文惠 (Justine Chi)                                 NaN          NaN   \n",
              "2296317    Various Artists                                 NaN          NaN   \n",
              "2296318  Peter Paul & Mary                                 NaN          NaN   \n",
              "2296319      Kim Robertson                                 NaN          NaN   \n",
              "\n",
              "        language  \n",
              "0            3.0  \n",
              "1           31.0  \n",
              "2           31.0  \n",
              "3            3.0  \n",
              "4           52.0  \n",
              "...          ...  \n",
              "2296315     -1.0  \n",
              "2296316      3.0  \n",
              "2296317     52.0  \n",
              "2296318     52.0  \n",
              "2296319     52.0  \n",
              "\n",
              "[2296320 rows x 7 columns]"
            ]
          },
          "metadata": {
            "tags": []
          },
          "execution_count": 81
        }
      ]
    },
    {
      "cell_type": "code",
      "metadata": {
        "id": "baghENrob8ZS",
        "outputId": "0c6e37af-c894-4b38-8741-60ffb6f61457"
      },
      "source": [
        "song_extra_info"
      ],
      "execution_count": null,
      "outputs": [
        {
          "output_type": "execute_result",
          "data": {
            "text/html": [
              "<div>\n",
              "<style scoped>\n",
              "    .dataframe tbody tr th:only-of-type {\n",
              "        vertical-align: middle;\n",
              "    }\n",
              "\n",
              "    .dataframe tbody tr th {\n",
              "        vertical-align: top;\n",
              "    }\n",
              "\n",
              "    .dataframe thead th {\n",
              "        text-align: right;\n",
              "    }\n",
              "</style>\n",
              "<table border=\"1\" class=\"dataframe\">\n",
              "  <thead>\n",
              "    <tr style=\"text-align: right;\">\n",
              "      <th></th>\n",
              "      <th>song_id</th>\n",
              "      <th>name</th>\n",
              "      <th>isrc</th>\n",
              "    </tr>\n",
              "  </thead>\n",
              "  <tbody>\n",
              "    <tr>\n",
              "      <th>0</th>\n",
              "      <td>LP7pLJoJFBvyuUwvu+oLzjT+bI+UeBPURCecJsX1jjs=</td>\n",
              "      <td>我們</td>\n",
              "      <td>TWUM71200043</td>\n",
              "    </tr>\n",
              "    <tr>\n",
              "      <th>1</th>\n",
              "      <td>ClazTFnk6r0Bnuie44bocdNMM3rdlrq0bCGAsGUWcHE=</td>\n",
              "      <td>Let Me Love You</td>\n",
              "      <td>QMZSY1600015</td>\n",
              "    </tr>\n",
              "    <tr>\n",
              "      <th>2</th>\n",
              "      <td>u2ja/bZE3zhCGxvbbOB3zOoUjx27u40cf5g09UXMoKQ=</td>\n",
              "      <td>原諒我</td>\n",
              "      <td>TWA530887303</td>\n",
              "    </tr>\n",
              "    <tr>\n",
              "      <th>3</th>\n",
              "      <td>92Fqsy0+p6+RHe2EoLKjHahORHR1Kq1TBJoClW9v+Ts=</td>\n",
              "      <td>Classic</td>\n",
              "      <td>USSM11301446</td>\n",
              "    </tr>\n",
              "    <tr>\n",
              "      <th>4</th>\n",
              "      <td>0QFmz/+rJy1Q56C1DuYqT9hKKqi5TUqx0sN0IwvoHrw=</td>\n",
              "      <td>愛投羅網</td>\n",
              "      <td>TWA471306001</td>\n",
              "    </tr>\n",
              "    <tr>\n",
              "      <th>...</th>\n",
              "      <td>...</td>\n",
              "      <td>...</td>\n",
              "      <td>...</td>\n",
              "    </tr>\n",
              "    <tr>\n",
              "      <th>2295966</th>\n",
              "      <td>hLnetpF6UbPg28sSfXnPE2vsdaGsLvddlXEdJR4VTIA=</td>\n",
              "      <td>Deep Breathing</td>\n",
              "      <td>PLL431720793</td>\n",
              "    </tr>\n",
              "    <tr>\n",
              "      <th>2295967</th>\n",
              "      <td>N+6vJ8actKQm0S3Fpf4elipTjoAo9ev28aA5FJN5e40=</td>\n",
              "      <td>In Hiding</td>\n",
              "      <td>US5UL1519827</td>\n",
              "    </tr>\n",
              "    <tr>\n",
              "      <th>2295968</th>\n",
              "      <td>pv35uG0ts05mWtirM/AMOWEzbHxIVart5ZzRXqKUY1c=</td>\n",
              "      <td>Il Est Ne Le Divin Enfant</td>\n",
              "      <td>PLL431502294</td>\n",
              "    </tr>\n",
              "    <tr>\n",
              "      <th>2295969</th>\n",
              "      <td>QSySnm8jt2Go7byY34/PxsZP6dPCins2j2cyYquNhBo=</td>\n",
              "      <td>The Exodus Song</td>\n",
              "      <td>DEPZ69316095</td>\n",
              "    </tr>\n",
              "    <tr>\n",
              "      <th>2295970</th>\n",
              "      <td>DYKJKSgDOKxb19XzOVO81176qTH0OIHCsfzFRm/BG+g=</td>\n",
              "      <td>Like This</td>\n",
              "      <td>US5UL1512426</td>\n",
              "    </tr>\n",
              "  </tbody>\n",
              "</table>\n",
              "<p>2295971 rows × 3 columns</p>\n",
              "</div>"
            ],
            "text/plain": [
              "                                              song_id  \\\n",
              "0        LP7pLJoJFBvyuUwvu+oLzjT+bI+UeBPURCecJsX1jjs=   \n",
              "1        ClazTFnk6r0Bnuie44bocdNMM3rdlrq0bCGAsGUWcHE=   \n",
              "2        u2ja/bZE3zhCGxvbbOB3zOoUjx27u40cf5g09UXMoKQ=   \n",
              "3        92Fqsy0+p6+RHe2EoLKjHahORHR1Kq1TBJoClW9v+Ts=   \n",
              "4        0QFmz/+rJy1Q56C1DuYqT9hKKqi5TUqx0sN0IwvoHrw=   \n",
              "...                                               ...   \n",
              "2295966  hLnetpF6UbPg28sSfXnPE2vsdaGsLvddlXEdJR4VTIA=   \n",
              "2295967  N+6vJ8actKQm0S3Fpf4elipTjoAo9ev28aA5FJN5e40=   \n",
              "2295968  pv35uG0ts05mWtirM/AMOWEzbHxIVart5ZzRXqKUY1c=   \n",
              "2295969  QSySnm8jt2Go7byY34/PxsZP6dPCins2j2cyYquNhBo=   \n",
              "2295970  DYKJKSgDOKxb19XzOVO81176qTH0OIHCsfzFRm/BG+g=   \n",
              "\n",
              "                              name          isrc  \n",
              "0                               我們  TWUM71200043  \n",
              "1                  Let Me Love You  QMZSY1600015  \n",
              "2                              原諒我  TWA530887303  \n",
              "3                          Classic  USSM11301446  \n",
              "4                             愛投羅網  TWA471306001  \n",
              "...                            ...           ...  \n",
              "2295966             Deep Breathing  PLL431720793  \n",
              "2295967                  In Hiding  US5UL1519827  \n",
              "2295968  Il Est Ne Le Divin Enfant  PLL431502294  \n",
              "2295969            The Exodus Song  DEPZ69316095  \n",
              "2295970                  Like This  US5UL1512426  \n",
              "\n",
              "[2295971 rows x 3 columns]"
            ]
          },
          "metadata": {
            "tags": []
          },
          "execution_count": 82
        }
      ]
    },
    {
      "cell_type": "code",
      "metadata": {
        "id": "1H_KimTzb8ZT",
        "outputId": "06c1dd20-5f33-46bf-9732-56feac43d1cc"
      },
      "source": [
        "train"
      ],
      "execution_count": null,
      "outputs": [
        {
          "output_type": "execute_result",
          "data": {
            "text/html": [
              "<div>\n",
              "<style scoped>\n",
              "    .dataframe tbody tr th:only-of-type {\n",
              "        vertical-align: middle;\n",
              "    }\n",
              "\n",
              "    .dataframe tbody tr th {\n",
              "        vertical-align: top;\n",
              "    }\n",
              "\n",
              "    .dataframe thead th {\n",
              "        text-align: right;\n",
              "    }\n",
              "</style>\n",
              "<table border=\"1\" class=\"dataframe\">\n",
              "  <thead>\n",
              "    <tr style=\"text-align: right;\">\n",
              "      <th></th>\n",
              "      <th>msno</th>\n",
              "      <th>song_id</th>\n",
              "      <th>source_system_tab</th>\n",
              "      <th>source_screen_name</th>\n",
              "      <th>source_type</th>\n",
              "      <th>target</th>\n",
              "    </tr>\n",
              "  </thead>\n",
              "  <tbody>\n",
              "    <tr>\n",
              "      <th>0</th>\n",
              "      <td>FGtllVqz18RPiwJj/edr2gV78zirAiY/9SmYvia+kCg=</td>\n",
              "      <td>BBzumQNXUHKdEBOB7mAJuzok+IJA1c2Ryg/yzTF6tik=</td>\n",
              "      <td>explore</td>\n",
              "      <td>Explore</td>\n",
              "      <td>online-playlist</td>\n",
              "      <td>1</td>\n",
              "    </tr>\n",
              "    <tr>\n",
              "      <th>1</th>\n",
              "      <td>Xumu+NIjS6QYVxDS4/t3SawvJ7viT9hPKXmf0RtLNx8=</td>\n",
              "      <td>bhp/MpSNoqoxOIB+/l8WPqu6jldth4DIpCm3ayXnJqM=</td>\n",
              "      <td>my library</td>\n",
              "      <td>Local playlist more</td>\n",
              "      <td>local-playlist</td>\n",
              "      <td>1</td>\n",
              "    </tr>\n",
              "    <tr>\n",
              "      <th>2</th>\n",
              "      <td>Xumu+NIjS6QYVxDS4/t3SawvJ7viT9hPKXmf0RtLNx8=</td>\n",
              "      <td>JNWfrrC7zNN7BdMpsISKa4Mw+xVJYNnxXh3/Epw7QgY=</td>\n",
              "      <td>my library</td>\n",
              "      <td>Local playlist more</td>\n",
              "      <td>local-playlist</td>\n",
              "      <td>1</td>\n",
              "    </tr>\n",
              "    <tr>\n",
              "      <th>3</th>\n",
              "      <td>Xumu+NIjS6QYVxDS4/t3SawvJ7viT9hPKXmf0RtLNx8=</td>\n",
              "      <td>2A87tzfnJTSWqD7gIZHisolhe4DMdzkbd6LzO1KHjNs=</td>\n",
              "      <td>my library</td>\n",
              "      <td>Local playlist more</td>\n",
              "      <td>local-playlist</td>\n",
              "      <td>1</td>\n",
              "    </tr>\n",
              "    <tr>\n",
              "      <th>4</th>\n",
              "      <td>FGtllVqz18RPiwJj/edr2gV78zirAiY/9SmYvia+kCg=</td>\n",
              "      <td>3qm6XTZ6MOCU11x8FIVbAGH5l5uMkT3/ZalWG1oo2Gc=</td>\n",
              "      <td>explore</td>\n",
              "      <td>Explore</td>\n",
              "      <td>online-playlist</td>\n",
              "      <td>1</td>\n",
              "    </tr>\n",
              "    <tr>\n",
              "      <th>...</th>\n",
              "      <td>...</td>\n",
              "      <td>...</td>\n",
              "      <td>...</td>\n",
              "      <td>...</td>\n",
              "      <td>...</td>\n",
              "      <td>...</td>\n",
              "    </tr>\n",
              "    <tr>\n",
              "      <th>7377413</th>\n",
              "      <td>6xdFzPlrasIDD95mQWXVC3Bg4ptnGYtBl4ztVEZMddU=</td>\n",
              "      <td>VJTxizih/o28kXCbtPbIyWXScoXGvxyYtl6R+0YB5JM=</td>\n",
              "      <td>my library</td>\n",
              "      <td>Local playlist more</td>\n",
              "      <td>local-playlist</td>\n",
              "      <td>1</td>\n",
              "    </tr>\n",
              "    <tr>\n",
              "      <th>7377414</th>\n",
              "      <td>ZxbVmt3Kh/XOH+h58c2Kdj6SjFZk+wnUO006IgWzMQE=</td>\n",
              "      <td>z1mqaU9YOX7T/PFDvUoWozdFq7rC3KwaQP7nFVprjMI=</td>\n",
              "      <td>search</td>\n",
              "      <td>Search</td>\n",
              "      <td>song</td>\n",
              "      <td>0</td>\n",
              "    </tr>\n",
              "    <tr>\n",
              "      <th>7377415</th>\n",
              "      <td>ZxbVmt3Kh/XOH+h58c2Kdj6SjFZk+wnUO006IgWzMQE=</td>\n",
              "      <td>750RprmFfLV0bymtDH88g24pLZGVi5VpBAI300P6UOA=</td>\n",
              "      <td>search</td>\n",
              "      <td>Search</td>\n",
              "      <td>song</td>\n",
              "      <td>1</td>\n",
              "    </tr>\n",
              "    <tr>\n",
              "      <th>7377416</th>\n",
              "      <td>0aH4Hd3ziPSRHClRX8rkeOEaAG5EPPkW1mKGCdXEok0=</td>\n",
              "      <td>G8wgqObgeAMER/rVCIlgcNeQ8mm0CzF/GsxiMK8TTnA=</td>\n",
              "      <td>discover</td>\n",
              "      <td>Discover Genre</td>\n",
              "      <td>online-playlist</td>\n",
              "      <td>1</td>\n",
              "    </tr>\n",
              "    <tr>\n",
              "      <th>7377417</th>\n",
              "      <td>0aH4Hd3ziPSRHClRX8rkeOEaAG5EPPkW1mKGCdXEok0=</td>\n",
              "      <td>Ju0VGkjWeBUZCd7r5Az2hUImhMoWxWLUicOedsmvG0g=</td>\n",
              "      <td>discover</td>\n",
              "      <td>Discover Genre</td>\n",
              "      <td>online-playlist</td>\n",
              "      <td>1</td>\n",
              "    </tr>\n",
              "  </tbody>\n",
              "</table>\n",
              "<p>7377418 rows × 6 columns</p>\n",
              "</div>"
            ],
            "text/plain": [
              "                                                 msno  \\\n",
              "0        FGtllVqz18RPiwJj/edr2gV78zirAiY/9SmYvia+kCg=   \n",
              "1        Xumu+NIjS6QYVxDS4/t3SawvJ7viT9hPKXmf0RtLNx8=   \n",
              "2        Xumu+NIjS6QYVxDS4/t3SawvJ7viT9hPKXmf0RtLNx8=   \n",
              "3        Xumu+NIjS6QYVxDS4/t3SawvJ7viT9hPKXmf0RtLNx8=   \n",
              "4        FGtllVqz18RPiwJj/edr2gV78zirAiY/9SmYvia+kCg=   \n",
              "...                                               ...   \n",
              "7377413  6xdFzPlrasIDD95mQWXVC3Bg4ptnGYtBl4ztVEZMddU=   \n",
              "7377414  ZxbVmt3Kh/XOH+h58c2Kdj6SjFZk+wnUO006IgWzMQE=   \n",
              "7377415  ZxbVmt3Kh/XOH+h58c2Kdj6SjFZk+wnUO006IgWzMQE=   \n",
              "7377416  0aH4Hd3ziPSRHClRX8rkeOEaAG5EPPkW1mKGCdXEok0=   \n",
              "7377417  0aH4Hd3ziPSRHClRX8rkeOEaAG5EPPkW1mKGCdXEok0=   \n",
              "\n",
              "                                              song_id source_system_tab  \\\n",
              "0        BBzumQNXUHKdEBOB7mAJuzok+IJA1c2Ryg/yzTF6tik=           explore   \n",
              "1        bhp/MpSNoqoxOIB+/l8WPqu6jldth4DIpCm3ayXnJqM=        my library   \n",
              "2        JNWfrrC7zNN7BdMpsISKa4Mw+xVJYNnxXh3/Epw7QgY=        my library   \n",
              "3        2A87tzfnJTSWqD7gIZHisolhe4DMdzkbd6LzO1KHjNs=        my library   \n",
              "4        3qm6XTZ6MOCU11x8FIVbAGH5l5uMkT3/ZalWG1oo2Gc=           explore   \n",
              "...                                               ...               ...   \n",
              "7377413  VJTxizih/o28kXCbtPbIyWXScoXGvxyYtl6R+0YB5JM=        my library   \n",
              "7377414  z1mqaU9YOX7T/PFDvUoWozdFq7rC3KwaQP7nFVprjMI=            search   \n",
              "7377415  750RprmFfLV0bymtDH88g24pLZGVi5VpBAI300P6UOA=            search   \n",
              "7377416  G8wgqObgeAMER/rVCIlgcNeQ8mm0CzF/GsxiMK8TTnA=          discover   \n",
              "7377417  Ju0VGkjWeBUZCd7r5Az2hUImhMoWxWLUicOedsmvG0g=          discover   \n",
              "\n",
              "          source_screen_name      source_type  target  \n",
              "0                    Explore  online-playlist       1  \n",
              "1        Local playlist more   local-playlist       1  \n",
              "2        Local playlist more   local-playlist       1  \n",
              "3        Local playlist more   local-playlist       1  \n",
              "4                    Explore  online-playlist       1  \n",
              "...                      ...              ...     ...  \n",
              "7377413  Local playlist more   local-playlist       1  \n",
              "7377414               Search             song       0  \n",
              "7377415               Search             song       1  \n",
              "7377416       Discover Genre  online-playlist       1  \n",
              "7377417       Discover Genre  online-playlist       1  \n",
              "\n",
              "[7377418 rows x 6 columns]"
            ]
          },
          "metadata": {
            "tags": []
          },
          "execution_count": 54
        }
      ]
    },
    {
      "cell_type": "markdown",
      "metadata": {
        "id": "s2vKdCo9b8ZV"
      },
      "source": [
        "Сделаем функцию, которая из датасета будет доставать фичи."
      ]
    },
    {
      "cell_type": "code",
      "metadata": {
        "code_folding": [
          0
        ],
        "init_cell": true,
        "id": "nmj_E1c-b8ZW"
      },
      "source": [
        "class FeatureExtractor:\n",
        "    def __init__(self, members, songs, song_extra_info):\n",
        "        self.members = members.copy()\n",
        "        self.songs = songs.copy()\n",
        "        self.song_extra_info = song_extra_info.copy()\n",
        "        self.prepare_members()\n",
        "        self.prepare_songs()\n",
        "        \n",
        "    def prepare_members(self):\n",
        "        print('Prepare members...')\n",
        "        # Убираю аутлайеры из возраста и завожу отдельную фичу для людей, которые не указали возраст\n",
        "        bd = self.members.loc[:, 'bd'].copy().astype(int)\n",
        "        bd_missing = (bd <= 0) | (bd > 100)\n",
        "        bd.loc[bd_missing] = 0\n",
        "        self.members.loc[:, 'bd'] = bd.astype(int)\n",
        "        self.members['bd_missing'] = bd_missing.astype(int)\n",
        "        \n",
        "        # Преобразую время\n",
        "        print('Prepare dates...')\n",
        "        dates = ['registration_init_time', 'expiration_date']\n",
        "        for d in dates:\n",
        "            self.members[d +'_year'] = self.members[d].dt.year\n",
        "            self.members[d +'_month'] = self.members[d].dt.month\n",
        "            self.members[d +'_day'] = self.members[d].dt.day\n",
        "        self.members.drop(columns=dates, inplace=True)\n",
        "        \n",
        "        # Убираю NaN'ы у пола\n",
        "        print('Prepare genders...')\n",
        "        self.members['gender'] = self.members['gender'].fillna('miss').astype('category')\n",
        "        \n",
        "    def prepare_songs(self):\n",
        "        print('Prepare songs...')\n",
        "        # Делаю one-hot фичи\n",
        "        # Попытался сделать ван хот, но не влезло в память :(\n",
        "        # one_hot_classes = ['genre_ids']\n",
        "        # to_one_hot = songs[one_hot_classes].copy()\n",
        "        # to_one_hot.fillna('miss', inplace=True)\n",
        "        # print('Songs to one-hot...')\n",
        "        # for cl in tqdm(one_hot_classes):\n",
        "        #     songs_one_hot_encoder = MultiLabelBinarizer()\n",
        "        #     one_hot = songs_one_hot_encoder.fit_transform(to_one_hot[cl].apply(FeatureExtractor.split_string))\n",
        "        #     categories = [cl + '_' + str(s) for s in songs_one_hot_encoder.classes_]\n",
        "        #     df = pd.DataFrame(one_hot, columns=categories)\n",
        "        #     self.songs = self.songs.merge(df, left_index=True, right_index=True, validate='1:1')\n",
        "        classes_to_delete = ['composer', 'lyricist']\n",
        "        self.songs.drop(columns=classes_to_delete, inplace = True)\n",
        "        self.songs['artist_name'] = self.songs['artist_name'].astype('category')\n",
        "        self.songs['genre_ids'] = self.songs['genre_ids'].astype('category')\n",
        "            \n",
        "        # Инфа из isrc\n",
        "        print('Extract data from isrc...')\n",
        "        isrc = self.song_extra_info['isrc'].transform([self.song_year, self.song_country])\n",
        "        print('Merging...')\n",
        "        self.song_extra_info['song_country'] = isrc.song_country.astype('category')\n",
        "        self.song_extra_info['song_year'] = isrc.song_year\n",
        "        self.song_extra_info.drop(columns=['name', 'isrc'], inplace=True)\n",
        "    \n",
        "    # Функция разделения строки по |, / и т.п символам\n",
        "    @staticmethod\n",
        "    def split_string(string):\n",
        "        return list(filter(None, map(lambda t: t.strip(), split(r'\\||/|\\(|\\)|feat.|,', string.lower()))))\n",
        "    \n",
        "    # isrc to year\n",
        "    def song_year(self, isrc):\n",
        "        if type(isrc) == str:\n",
        "            if int(isrc[5:7]) > 17:\n",
        "                return 1900 + int(isrc[5:7])\n",
        "            else:\n",
        "                return 2000 + int(isrc[5:7])\n",
        "        else:\n",
        "            return np.nan\n",
        "        \n",
        "    # isrc to country\n",
        "    def song_country(self, isrc):\n",
        "        if type(isrc) == str:\n",
        "            return isrc[:2]\n",
        "        else:\n",
        "            return 'miss'\n",
        "\n",
        "    def get_features(self, dataset):\n",
        "        return dataset.merge(self.members, on='msno', how='left').merge(self.songs, on='song_id', how='left').merge(self.song_extra_info, on='song_id', how='left')        "
      ],
      "execution_count": null,
      "outputs": []
    },
    {
      "cell_type": "code",
      "metadata": {
        "scrolled": true,
        "id": "A9NjuzZ_b8ZX",
        "outputId": "32351c2a-972b-4bb8-d287-8ed7892cae88",
        "colab": {
          "base_uri": "https://localhost:8080/"
        }
      },
      "source": [
        "features = FeatureExtractor(members, songs, song_extra_info)"
      ],
      "execution_count": null,
      "outputs": [
        {
          "output_type": "stream",
          "text": [
            "Prepare members...\n",
            "Prepare dates...\n",
            "Prepare genders...\n",
            "Prepare songs...\n",
            "Extract data from isrc...\n",
            "Merging...\n"
          ],
          "name": "stdout"
        }
      ]
    },
    {
      "cell_type": "code",
      "metadata": {
        "id": "a4FYmDjab8Zb"
      },
      "source": [
        "X_train = features.get_features(train)"
      ],
      "execution_count": null,
      "outputs": []
    },
    {
      "cell_type": "code",
      "metadata": {
        "id": "9oJWZUz7b8Ze"
      },
      "source": [
        "X_train, y_train = X_train.drop(columns=['msno', 'song_id', 'target']), X_train.target"
      ],
      "execution_count": null,
      "outputs": []
    },
    {
      "cell_type": "markdown",
      "metadata": {
        "id": "GRHVwDOob8Zh"
      },
      "source": [
        "# Задача 1:\n",
        "\n",
        "Собрать более-менее приличную рекомендательную систему с помощью GBDT. Использование трюков из лекции (и не из неё), тюнинг и разумных объемов фича инжиниринг поощряется. "
      ]
    },
    {
      "cell_type": "code",
      "metadata": {
        "scrolled": true,
        "id": "5dujoEOlb8Zh"
      },
      "source": [
        "def train_lgb(X_train, X_test, y_train, y_test):\n",
        "    train = lgb.Dataset(X_train, y_train)\n",
        "    val = lgb.Dataset(X_test, y_test)\n",
        "    params = {'learning_rate': 0.2,\n",
        "              'objective': 'binary',\n",
        "              'metric': 'auc',\n",
        "              'max_depth': 10,\n",
        "              'num_leaves': 256,\n",
        "              'max_depth': 10}\n",
        "    model = lgb.train(params,\n",
        "                    train_set=train,\n",
        "                    num_boost_round=100,\n",
        "                    verbose_eval=10,\n",
        "                    valid_sets=[train, val])\n",
        "    y_pred = model.predict(X_test)\n",
        "    auc = roc_auc_score(y_test, y_pred)\n",
        "    return model, auc"
      ],
      "execution_count": null,
      "outputs": []
    },
    {
      "cell_type": "code",
      "metadata": {
        "id": "bckLMwgrb8Zj"
      },
      "source": [
        "def k_fold(X, y, k=5):\n",
        "    scores = []\n",
        "    sc = 0\n",
        "    kf = StratifiedKFold(n_splits=k, shuffle=True)\n",
        "    for train_idxs, test_idxs in tqdm(kf.split(X, y), total=k):\n",
        "        print(f\"k={len(scores)+1}\")\n",
        "    \n",
        "        X_train, y_train = X.iloc[train_idxs], y.iloc[train_idxs]\n",
        "        X_test, y_test = X.iloc[test_idxs], y.iloc[test_idxs]\n",
        "\n",
        "        model, score = train_lgb(X_train, X_test, y_train, y_test)\n",
        "        scores.append(score)\n",
        "        if score > sc:\n",
        "            sc = score\n",
        "            best_model = model\n",
        "    print(f'Mean ROC-AUC: {np.mean(scores):.3f}')\n",
        "    return best_model"
      ],
      "execution_count": null,
      "outputs": []
    },
    {
      "cell_type": "code",
      "metadata": {
        "id": "osdCzoMNb8Zl"
      },
      "source": [
        "data = train_test_split(X_train, y_train, test_size=0.1)"
      ],
      "execution_count": null,
      "outputs": []
    },
    {
      "cell_type": "code",
      "metadata": {
        "id": "sXVcSSm2H0f_",
        "outputId": "d7260545-3b69-42f3-ec3f-f5ef62ee6f76",
        "colab": {
          "base_uri": "https://localhost:8080/"
        }
      },
      "source": [
        "model, auc = train_lgb(*data)\n",
        "print(\"ROC-AUC:\", auc)"
      ],
      "execution_count": null,
      "outputs": [
        {
          "output_type": "stream",
          "text": [
            "/usr/local/lib/python3.6/dist-packages/lightgbm/basic.py:762: UserWarning: categorical_feature in param dict is overridden.\n",
            "  warnings.warn('categorical_feature in param dict is overridden.')\n"
          ],
          "name": "stderr"
        },
        {
          "output_type": "stream",
          "text": [
            "[10]\ttraining's auc: 0.703878\tvalid_1's auc: 0.700093\n",
            "[20]\ttraining's auc: 0.713306\tvalid_1's auc: 0.707716\n",
            "[30]\ttraining's auc: 0.719563\tvalid_1's auc: 0.71253\n",
            "[40]\ttraining's auc: 0.724246\tvalid_1's auc: 0.71592\n",
            "[50]\ttraining's auc: 0.727143\tvalid_1's auc: 0.717787\n",
            "[60]\ttraining's auc: 0.730934\tvalid_1's auc: 0.720303\n",
            "[70]\ttraining's auc: 0.733549\tvalid_1's auc: 0.721898\n",
            "[80]\ttraining's auc: 0.736204\tvalid_1's auc: 0.723666\n",
            "[90]\ttraining's auc: 0.739439\tvalid_1's auc: 0.7258\n",
            "[100]\ttraining's auc: 0.741651\tvalid_1's auc: 0.72713\n",
            "ROC-AUC: 0.7271303763707755\n"
          ],
          "name": "stdout"
        }
      ]
    },
    {
      "cell_type": "code",
      "metadata": {
        "id": "GChYHyGYS_Xd",
        "outputId": "66a96c2f-9721-4ad3-c245-f41c213e1787",
        "colab": {
          "base_uri": "https://localhost:8080/",
          "height": 1000,
          "referenced_widgets": [
            "b6fc8b9aac6e4d84846c11c07fdcc7bc",
            "d33ecfdce5f64a7489f1664a0f2b0aff",
            "db377a7b10294d338e0f178df92102d7",
            "e39635dfc6f24266ae7e4720e4945af9",
            "6ceb9d88539c4b7b98b32c5c2174f928",
            "d4dfb7817fd543999b8b137444e8f869",
            "cc38b6fc6e9f456a8a1190cf27385050",
            "0ceeed036fc64df1ac55c351fe2daf98"
          ]
        }
      },
      "source": [
        "bmodel = k_fold(X_train, y_train)"
      ],
      "execution_count": null,
      "outputs": [
        {
          "output_type": "display_data",
          "data": {
            "application/vnd.jupyter.widget-view+json": {
              "model_id": "b6fc8b9aac6e4d84846c11c07fdcc7bc",
              "version_minor": 0,
              "version_major": 2
            },
            "text/plain": [
              "HBox(children=(FloatProgress(value=1.0, bar_style='info', max=1.0), HTML(value='')))"
            ]
          },
          "metadata": {
            "tags": []
          }
        },
        {
          "output_type": "stream",
          "text": [
            "k=1\n"
          ],
          "name": "stdout"
        },
        {
          "output_type": "stream",
          "text": [
            "/usr/local/lib/python3.6/dist-packages/lightgbm/basic.py:762: UserWarning: categorical_feature in param dict is overridden.\n",
            "  warnings.warn('categorical_feature in param dict is overridden.')\n"
          ],
          "name": "stderr"
        },
        {
          "output_type": "stream",
          "text": [
            "[10]\ttraining's auc: 0.704678\tvalid_1's auc: 0.699262\n",
            "[20]\ttraining's auc: 0.713003\tvalid_1's auc: 0.705812\n",
            "[30]\ttraining's auc: 0.719154\tvalid_1's auc: 0.71042\n",
            "[40]\ttraining's auc: 0.724055\tvalid_1's auc: 0.713959\n",
            "[50]\ttraining's auc: 0.728221\tvalid_1's auc: 0.716856\n",
            "[60]\ttraining's auc: 0.731639\tvalid_1's auc: 0.719121\n",
            "[70]\ttraining's auc: 0.735795\tvalid_1's auc: 0.722076\n",
            "[80]\ttraining's auc: 0.738724\tvalid_1's auc: 0.72387\n",
            "[90]\ttraining's auc: 0.741964\tvalid_1's auc: 0.725875\n",
            "[100]\ttraining's auc: 0.744324\tvalid_1's auc: 0.727267\n",
            "k=2\n"
          ],
          "name": "stdout"
        },
        {
          "output_type": "stream",
          "text": [
            "/usr/local/lib/python3.6/dist-packages/lightgbm/basic.py:762: UserWarning: categorical_feature in param dict is overridden.\n",
            "  warnings.warn('categorical_feature in param dict is overridden.')\n"
          ],
          "name": "stderr"
        },
        {
          "output_type": "stream",
          "text": [
            "[10]\ttraining's auc: 0.704845\tvalid_1's auc: 0.70057\n",
            "[20]\ttraining's auc: 0.712836\tvalid_1's auc: 0.706412\n",
            "[30]\ttraining's auc: 0.719607\tvalid_1's auc: 0.711538\n",
            "[40]\ttraining's auc: 0.723638\tvalid_1's auc: 0.714271\n",
            "[50]\ttraining's auc: 0.727695\tvalid_1's auc: 0.717067\n",
            "[60]\ttraining's auc: 0.730431\tvalid_1's auc: 0.718806\n",
            "[70]\ttraining's auc: 0.732971\tvalid_1's auc: 0.720322\n",
            "[80]\ttraining's auc: 0.736103\tvalid_1's auc: 0.722322\n",
            "[90]\ttraining's auc: 0.739834\tvalid_1's auc: 0.724825\n",
            "[100]\ttraining's auc: 0.74302\tvalid_1's auc: 0.726773\n",
            "k=3\n"
          ],
          "name": "stdout"
        },
        {
          "output_type": "stream",
          "text": [
            "/usr/local/lib/python3.6/dist-packages/lightgbm/basic.py:762: UserWarning: categorical_feature in param dict is overridden.\n",
            "  warnings.warn('categorical_feature in param dict is overridden.')\n"
          ],
          "name": "stderr"
        },
        {
          "output_type": "stream",
          "text": [
            "[10]\ttraining's auc: 0.703638\tvalid_1's auc: 0.699906\n",
            "[20]\ttraining's auc: 0.711804\tvalid_1's auc: 0.706103\n",
            "[30]\ttraining's auc: 0.718173\tvalid_1's auc: 0.710947\n",
            "[40]\ttraining's auc: 0.722594\tvalid_1's auc: 0.714037\n",
            "[50]\ttraining's auc: 0.727244\tvalid_1's auc: 0.717306\n",
            "[60]\ttraining's auc: 0.730239\tvalid_1's auc: 0.719164\n",
            "[70]\ttraining's auc: 0.733029\tvalid_1's auc: 0.720991\n",
            "[80]\ttraining's auc: 0.735199\tvalid_1's auc: 0.722268\n",
            "[90]\ttraining's auc: 0.738366\tvalid_1's auc: 0.724281\n",
            "[100]\ttraining's auc: 0.74172\tvalid_1's auc: 0.72642\n",
            "k=4\n"
          ],
          "name": "stdout"
        },
        {
          "output_type": "stream",
          "text": [
            "/usr/local/lib/python3.6/dist-packages/lightgbm/basic.py:762: UserWarning: categorical_feature in param dict is overridden.\n",
            "  warnings.warn('categorical_feature in param dict is overridden.')\n"
          ],
          "name": "stderr"
        },
        {
          "output_type": "stream",
          "text": [
            "[10]\ttraining's auc: 0.703529\tvalid_1's auc: 0.698442\n",
            "[20]\ttraining's auc: 0.712674\tvalid_1's auc: 0.705603\n",
            "[30]\ttraining's auc: 0.719432\tvalid_1's auc: 0.710732\n",
            "[40]\ttraining's auc: 0.723228\tvalid_1's auc: 0.713264\n",
            "[50]\ttraining's auc: 0.727511\tvalid_1's auc: 0.716129\n",
            "[60]\ttraining's auc: 0.730346\tvalid_1's auc: 0.717919\n",
            "[70]\ttraining's auc: 0.733373\tvalid_1's auc: 0.719841\n",
            "[80]\ttraining's auc: 0.735953\tvalid_1's auc: 0.721389\n",
            "[90]\ttraining's auc: 0.740302\tvalid_1's auc: 0.724265\n",
            "[100]\ttraining's auc: 0.742356\tvalid_1's auc: 0.725323\n",
            "k=5\n"
          ],
          "name": "stdout"
        },
        {
          "output_type": "stream",
          "text": [
            "/usr/local/lib/python3.6/dist-packages/lightgbm/basic.py:762: UserWarning: categorical_feature in param dict is overridden.\n",
            "  warnings.warn('categorical_feature in param dict is overridden.')\n"
          ],
          "name": "stderr"
        },
        {
          "output_type": "stream",
          "text": [
            "[10]\ttraining's auc: 0.70397\tvalid_1's auc: 0.699127\n",
            "[20]\ttraining's auc: 0.71248\tvalid_1's auc: 0.705418\n",
            "[30]\ttraining's auc: 0.718336\tvalid_1's auc: 0.709753\n",
            "[40]\ttraining's auc: 0.723162\tvalid_1's auc: 0.713192\n",
            "[50]\ttraining's auc: 0.72754\tvalid_1's auc: 0.716145\n",
            "[60]\ttraining's auc: 0.731783\tvalid_1's auc: 0.719008\n",
            "[70]\ttraining's auc: 0.734266\tvalid_1's auc: 0.720522\n",
            "[80]\ttraining's auc: 0.736969\tvalid_1's auc: 0.722211\n",
            "[90]\ttraining's auc: 0.739846\tvalid_1's auc: 0.723938\n",
            "[100]\ttraining's auc: 0.743817\tvalid_1's auc: 0.726501\n",
            "\n",
            "Mean ROC-AUC: 0.726\n"
          ],
          "name": "stdout"
        }
      ]
    },
    {
      "cell_type": "markdown",
      "metadata": {
        "id": "dt5tjL9Zb8Zn"
      },
      "source": [
        "# Задача 2: \n",
        "Пользуясь информацией о треках построить неклассические эмбеддинги и попробовать использовать их:\n",
        "\n",
        "1. показать симилары глазами\n",
        "2. в качестве рекоммендера вместо GBDT (разницу в метриках) \n",
        "3. стек с GBDT (прирост / отсутствие / почему (советую поизучать SHAP values)"
      ]
    },
    {
      "cell_type": "code",
      "metadata": {
        "id": "CejKvcqof85f",
        "outputId": "56f0ebc3-042a-44f6-9bef-1720053b39f7",
        "colab": {
          "base_uri": "https://localhost:8080/"
        }
      },
      "source": [
        "!pip install -q swifter\n",
        "import swifter"
      ],
      "execution_count": 151,
      "outputs": [
        {
          "output_type": "stream",
          "text": [
            "\u001b[K     |████████████████████████████████| 634kB 5.3MB/s \n",
            "\u001b[K     |████████████████████████████████| 471kB 24.5MB/s \n",
            "\u001b[K     |████████████████████████████████| 542kB 31.1MB/s \n",
            "\u001b[K     |████████████████████████████████| 92kB 10.9MB/s \n",
            "\u001b[K     |████████████████████████████████| 22.9MB 1.7MB/s \n",
            "\u001b[K     |████████████████████████████████| 71kB 9.7MB/s \n",
            "\u001b[K     |████████████████████████████████| 2.9MB 49.5MB/s \n",
            "\u001b[K     |████████████████████████████████| 133kB 60.9MB/s \n",
            "\u001b[K     |████████████████████████████████| 71kB 10.2MB/s \n",
            "\u001b[K     |████████████████████████████████| 204kB 34.6MB/s \n",
            "\u001b[K     |████████████████████████████████| 1.3MB 47.3MB/s \n",
            "\u001b[K     |████████████████████████████████| 81kB 10.3MB/s \n",
            "\u001b[K     |████████████████████████████████| 61kB 9.5MB/s \n",
            "\u001b[K     |████████████████████████████████| 296kB 59.2MB/s \n",
            "\u001b[K     |████████████████████████████████| 143kB 61.3MB/s \n",
            "\u001b[K     |████████████████████████████████| 102kB 13.4MB/s \n",
            "\u001b[?25h  Building wheel for swifter (setup.py) ... \u001b[?25l\u001b[?25hdone\n",
            "  Building wheel for psutil (setup.py) ... \u001b[?25l\u001b[?25hdone\n",
            "  Building wheel for locket (setup.py) ... \u001b[?25l\u001b[?25hdone\n",
            "  Building wheel for gpustat (setup.py) ... \u001b[?25l\u001b[?25hdone\n",
            "  Building wheel for idna-ssl (setup.py) ... \u001b[?25l\u001b[?25hdone\n",
            "  Building wheel for contextvars (setup.py) ... \u001b[?25l\u001b[?25hdone\n",
            "\u001b[31mERROR: modin 0.8.1.1 has requirement pandas==1.1.2, but you'll have pandas 1.1.3 which is incompatible.\u001b[0m\n"
          ],
          "name": "stdout"
        }
      ]
    },
    {
      "cell_type": "code",
      "metadata": {
        "id": "pM-pG5kIb8Zn"
      },
      "source": [
        "class W2V:\n",
        "    def __init__(self, embedding_size=32, user_songs=None, w2v=None, user_embeddings=None):\n",
        "        self.embedding_size = embedding_size\n",
        "        self.user_embeddings = user_embeddings\n",
        "        self.user_songs = user_songs\n",
        "        self.w2v = w2v\n",
        "\n",
        "    def build_user_embeddings(self, X_train):\n",
        "        print('Building user embeddings...')\n",
        "        user_ids = X_train.msno.unique().tolist()\n",
        "        for user_id in tqdm(user_ids):\n",
        "            if user_id in self.user_songs:\n",
        "                v = [self.w2v.wv[s_id] for s_id in self.user_songs[user_id] if s_id in self.w2v.wv]\n",
        "                if len(v) > 0:\n",
        "                    self.user_embeddings[user_id] = np.mean(v)\n",
        "\n",
        "    def build_sentenses(self, X_train, y_train):\n",
        "        print('Building user songs...')\n",
        "        for (index, row), target in tqdm(zip(X_train.iterrows(), y_train), total=y_train.size):\n",
        "            if target == 1:\n",
        "                user_id = row['msno']\n",
        "                song_id = row['song_id']\n",
        "                self.user_songs[user_id].append(song_id)\n",
        "\n",
        "    def train(self, X_train, y_train):\n",
        "        if self.user_songs is None:\n",
        "            self.user_songs = defaultdict(list)\n",
        "            self.build_sentenses(X_train, y_train)\n",
        "\n",
        "        sentenses = list(self.user_songs.values())\n",
        "\n",
        "        if self.w2v is None:\n",
        "            self.w2v = Word2Vec(min_count=20,\n",
        "                     window=8,\n",
        "                     size=self.embedding_size,\n",
        "                     negative=20,\n",
        "                     sg=1,\n",
        "                     workers=multiprocessing.cpu_count())\n",
        "        \n",
        "            print('Building vocabulary...')\n",
        "            self.w2v.build_vocab(sentenses, progress_per=1000)\n",
        "            \n",
        "            print('Training Word2Vec...')\n",
        "            self.w2v.train(sentenses, total_examples=self.w2v.corpus_count, epochs=10, report_delay=1)\n",
        "            print(self.w2v)\n",
        "            \n",
        "            self.w2v.init_sims(replace=True)\n",
        "\n",
        "        if self.user_embeddings is None:\n",
        "            self.user_embeddings = defaultdict(lambda: np.zeros(self.embedding_size))\n",
        "            self.build_user_embeddings(X_train)\n",
        "\n",
        "    def most_similar(self, song_id):\n",
        "        return self.w2v.wv.most_similar(positive=song_id)\n",
        "\n",
        "    def predict_proba(self, X):\n",
        "        song2emb = lambda song: self.w2v.wv.word_vec(song) if song in self.w2v.wv.vocab else np.zeros(self.embedding_size)\n",
        "        user2emb = lambda user: self.user_embeddings[user]\n",
        "        s_emb = np.vstack(X['song_id'].astype(str).apply(song2emb))\n",
        "        u_emb = np.vstack(X['msno'].astype(str).apply(user2emb))\n",
        "        return (s_emb * u_emb).sum(axis=1)\n",
        "\n",
        "    def roc_auc(self, X_train, y_train):\n",
        "        return roc_auc_score(self.predict_proba(X_train), y_train)"
      ],
      "execution_count": 1,
      "outputs": []
    },
    {
      "cell_type": "code",
      "metadata": {
        "id": "zox3XfWCzpPe"
      },
      "source": [
        "user_songs = word2vec.user_songs\n",
        "w2v = word2vec.w2v\n",
        "user_embeddings = word2vec.user_embeddings"
      ],
      "execution_count": 189,
      "outputs": []
    },
    {
      "cell_type": "code",
      "metadata": {
        "id": "aH3F0a_ArljI",
        "outputId": "5a44050d-0b5d-4314-dcb7-c05e2c3cbc23",
        "colab": {
          "base_uri": "https://localhost:8080/",
          "height": 180
        }
      },
      "source": [
        "word2vec = W2V(32, user_songs, w2v, user_embeddings)\n",
        "word2vec.train(train.drop(columns='target'), train.target)"
      ],
      "execution_count": 2,
      "outputs": [
        {
          "output_type": "error",
          "ename": "NameError",
          "evalue": "ignored",
          "traceback": [
            "\u001b[0;31m---------------------------------------------------------------------------\u001b[0m",
            "\u001b[0;31mNameError\u001b[0m                                 Traceback (most recent call last)",
            "\u001b[0;32m<ipython-input-2-59be2829c79f>\u001b[0m in \u001b[0;36m<module>\u001b[0;34m()\u001b[0m\n\u001b[0;32m----> 1\u001b[0;31m \u001b[0mword2vec\u001b[0m \u001b[0;34m=\u001b[0m \u001b[0mW2V\u001b[0m\u001b[0;34m(\u001b[0m\u001b[0;36m32\u001b[0m\u001b[0;34m,\u001b[0m \u001b[0muser_songs\u001b[0m\u001b[0;34m,\u001b[0m \u001b[0mw2v\u001b[0m\u001b[0;34m,\u001b[0m \u001b[0muser_embeddings\u001b[0m\u001b[0;34m)\u001b[0m\u001b[0;34m\u001b[0m\u001b[0;34m\u001b[0m\u001b[0m\n\u001b[0m\u001b[1;32m      2\u001b[0m \u001b[0mword2vec\u001b[0m\u001b[0;34m.\u001b[0m\u001b[0mtrain\u001b[0m\u001b[0;34m(\u001b[0m\u001b[0mtrain\u001b[0m\u001b[0;34m.\u001b[0m\u001b[0mdrop\u001b[0m\u001b[0;34m(\u001b[0m\u001b[0mcolumns\u001b[0m\u001b[0;34m=\u001b[0m\u001b[0;34m'target'\u001b[0m\u001b[0;34m)\u001b[0m\u001b[0;34m,\u001b[0m \u001b[0mtrain\u001b[0m\u001b[0;34m.\u001b[0m\u001b[0mtarget\u001b[0m\u001b[0;34m)\u001b[0m\u001b[0;34m\u001b[0m\u001b[0;34m\u001b[0m\u001b[0m\n",
            "\u001b[0;31mNameError\u001b[0m: name 'user_songs' is not defined"
          ]
        }
      ]
    },
    {
      "cell_type": "markdown",
      "metadata": {
        "id": "B8ZNPPfcxfWB"
      },
      "source": [
        "1) Симилары для Eminem"
      ]
    },
    {
      "cell_type": "code",
      "metadata": {
        "id": "9NDssgPlskfp",
        "outputId": "c6625f76-095c-4a1b-bec6-879db60de527",
        "colab": {
          "base_uri": "https://localhost:8080/"
        }
      },
      "source": [
        "for s_id in iter(songs[songs['artist_name'] == 'Eminem']['song_id']):\n",
        "    try:\n",
        "        print(s_id, word2vec.w2v.wv[s_id])\n",
        "    except:\n",
        "        pass"
      ],
      "execution_count": null,
      "outputs": [
        {
          "output_type": "stream",
          "text": [
            "p+WxS35GIo9lHYpW17Bz/PRW+UcGH9R+bq+wU2caYnY= [ 0.17438029 -0.26580173  0.1187593  -0.04456972  0.1310327   0.14094657\n",
            "  0.02276999 -0.19096397  0.10066774  0.03077202  0.06000805  0.19961043\n",
            " -0.12387656  0.19522561 -0.08482481  0.017716   -0.11607488  0.06358662\n",
            "  0.16272493  0.0400308  -0.00596581  0.09035423 -0.30928543  0.19801499\n",
            " -0.2814832  -0.13761885 -0.27708662  0.25196648 -0.27834594  0.35692072\n",
            " -0.23658754  0.0734304 ]\n",
            "nfhjNo8jBDgSEFM0c05FVA2vxoaYAJnD+UCgJgLcwMo= [ 0.0278043  -0.31557512 -0.16735604 -0.06408088 -0.09566201  0.1568692\n",
            "  0.05995512 -0.26435268  0.09016035 -0.01910402 -0.09122843  0.01304325\n",
            " -0.08901723  0.05382768  0.00366709  0.10946743 -0.12450722  0.39101532\n",
            "  0.20056428  0.17640427  0.22019623  0.16592592 -0.15589166  0.33684805\n",
            " -0.15549321 -0.20987794 -0.21644293  0.14738776 -0.10488506  0.10777333\n",
            " -0.271174    0.1844154 ]\n",
            "Y6L4QRgWFt+9pMxGusbAiWXIwzGRj29hWN85F1tN+p4= [ 0.03295499 -0.07473782  0.17504145 -0.13801987 -0.19863708  0.1109778\n",
            "  0.06336665 -0.04135829  0.0295739  -0.04512152  0.1044078  -0.04230219\n",
            " -0.142084    0.04519855 -0.03542354  0.12640902  0.00533705 -0.02580901\n",
            "  0.24377172  0.24100289  0.16409165  0.21807559 -0.25554848  0.31854358\n",
            " -0.27999073 -0.1538871  -0.29352254  0.23430392 -0.14144312  0.29160497\n",
            " -0.32186562  0.14088324]\n",
            "GPm2YkwRycWDMXNs1qJNk2LQnfPVtdeyM8az0CXk5yU= [-0.0579315  -0.53271675  0.10113523 -0.17129819 -0.14370808  0.21279146\n",
            "  0.03472875 -0.24920705  0.03528122 -0.16694082 -0.02233428 -0.01151454\n",
            " -0.10896106  0.12257736 -0.06543722 -0.03916869  0.05465136  0.2429862\n",
            "  0.03733973  0.17076007  0.13436514  0.07856201 -0.15839829  0.11369564\n",
            " -0.03813558 -0.16665226 -0.132228    0.24065872 -0.1490114   0.026277\n",
            " -0.3957401   0.20645918]\n",
            "w0tmrjRwEJA1CkQ6G9w38jBp5ZAAcCQnzxSgE2ezooU= [-0.0853397  -0.1297167   0.11096158 -0.3063605  -0.00219489  0.225117\n",
            "  0.0725664  -0.04725877  0.03955274  0.22983503 -0.03013788 -0.13901043\n",
            "  0.02402003  0.194384   -0.00772048  0.00880218 -0.24998267  0.23361515\n",
            "  0.14131796  0.1339898   0.02500318  0.08211773 -0.2862586   0.04775767\n",
            " -0.23521079 -0.20784552 -0.1751079   0.22784671 -0.2097656   0.21646297\n",
            " -0.32919273  0.2674108 ]\n",
            "+fw4zHi7EeZ55SumyQLYKd9/psegnn1WYQRfdoPtDDs= [ 0.02814943 -0.2656299   0.10758075 -0.16889821 -0.21772312  0.23906368\n",
            "  0.16555972 -0.18557182  0.04211893  0.05362409  0.02100289  0.07889117\n",
            " -0.07219192  0.1582195   0.00254988 -0.01677782 -0.07305695  0.05211461\n",
            "  0.34424797  0.26470414  0.0880912   0.06369209 -0.17441571  0.37698394\n",
            " -0.13762999 -0.05979091 -0.28620696  0.0565847  -0.30162692  0.17907882\n",
            " -0.23692161  0.11181781]\n",
            "qsr+miUqNpMrf+DQBIUrhs9SPtL8lKAmT0I67w2nLCk= [ 0.02148705 -0.2634938   0.16684249 -0.0989638  -0.03472585  0.09716944\n",
            " -0.07607232  0.02758393  0.08322988 -0.03106262  0.00045873 -0.0254095\n",
            " -0.17224607  0.11411636 -0.05497156  0.16221403 -0.17249273  0.08834032\n",
            "  0.22284196  0.12131693  0.05716527  0.1617883  -0.27768296  0.26742378\n",
            " -0.39911515 -0.03590508 -0.39329576  0.27773514 -0.04980607  0.24469344\n",
            " -0.20195387  0.13848062]\n",
            "OOarkaG0Xyy2XApXZH6fhr4MYYEHpff1PehLT+beSSo= [-0.12774737 -0.11543177  0.17824411 -0.07434916 -0.13989562  0.20446445\n",
            " -0.04308273 -0.0850371   0.07378516  0.07683245  0.10876974  0.02671159\n",
            " -0.1865078   0.12775894 -0.04774246  0.03296873 -0.18046518  0.03447467\n",
            "  0.31583905  0.04444154  0.14233916  0.0443499  -0.24945357  0.30259603\n",
            " -0.34148997 -0.17954238 -0.25332206  0.16907    -0.18394823  0.24981558\n",
            " -0.3479021   0.11762348]\n",
            "gET0e9X1wUcrjalriOT7N3/Tlo2c+qO2WFHd5+LZs4s= [ 0.15264833 -0.2951129   0.09948562 -0.09971986  0.07699987  0.24283634\n",
            "  0.06157915 -0.31710294  0.05661005  0.1011119   0.10361123  0.09840323\n",
            " -0.08754544 -0.0016812  -0.11687458  0.0471567  -0.10620817  0.1130707\n",
            "  0.22626951  0.1366219   0.02618657  0.00379573 -0.30347258  0.12411028\n",
            " -0.2866441  -0.12238916 -0.18991172  0.1748542  -0.18647423  0.34543833\n",
            " -0.33201015 -0.11349158]\n",
            "PH31DqczUQ+G+hd76U9W7pdDZLqzvl5QaFNjazhj51w= [ 0.00826128 -0.23273396  0.0310631  -0.15522005 -0.17552926  0.13261294\n",
            " -0.07612516 -0.00060155 -0.07610375  0.06116532 -0.0074581   0.01449805\n",
            " -0.21582454  0.12101948 -0.06420906  0.12680292  0.02189328  0.07761627\n",
            "  0.3241771   0.16193423  0.13662112  0.13477825 -0.17429891  0.36776042\n",
            " -0.35414562 -0.01439423 -0.30698192  0.21028978 -0.2015269   0.22596492\n",
            " -0.26070818  0.10623717]\n",
            "4vR/NlFbW5kLlBr/m0ZoWEUJaaf7KBWhHL6n28EcZlg= [ 0.03825945 -0.1801154   0.04677305 -0.16615063 -0.18095106  0.23329967\n",
            "  0.16738628 -0.26023293  0.13011481  0.08823889  0.12540571  0.06937201\n",
            "  0.02651185  0.1260583   0.02294442 -0.01855884 -0.03754468  0.3428377\n",
            "  0.29391584  0.26303506  0.13620783  0.0811547  -0.24113311  0.2509348\n",
            " -0.15915155  0.03900574 -0.3042609   0.17987093 -0.10552313  0.01023599\n",
            " -0.22343113  0.2386554 ]\n",
            "2DCk3jzujwSqu0SVvss6tum6uKqr7O+2IP0hXf7q+vU= [-0.06759663 -0.06622308  0.0801341  -0.08202433 -0.03310471  0.09569384\n",
            "  0.05687802 -0.08049791 -0.1016508   0.06227393 -0.00822076  0.22387014\n",
            " -0.10419913  0.10130812 -0.02855407  0.11645783 -0.00518175  0.27599585\n",
            "  0.2606313   0.26247033  0.16315305  0.28200945 -0.10221671  0.320433\n",
            " -0.2508701  -0.10370106 -0.28639516  0.27851295 -0.1368242   0.23917203\n",
            " -0.30745322  0.1483438 ]\n",
            "2Y7NstzrTnCFlRel5m80hPDe9471QRU9oyqPIx1xIP0= [ 0.07220899 -0.22872585  0.04771526 -0.01841566  0.09757718  0.31097043\n",
            "  0.13972439 -0.416727    0.22316405  0.15053754  0.10419957  0.00733853\n",
            " -0.08918648 -0.07784756 -0.14503919 -0.03072838 -0.05148595  0.11021604\n",
            "  0.22226454  0.12590186 -0.09101392 -0.02918333 -0.18601802  0.01314876\n",
            " -0.16574942 -0.1005647  -0.13758369  0.46110952 -0.19110176  0.11289749\n",
            " -0.20191859 -0.1947811 ]\n",
            "78w25Ysgx+7z9JWQwlA3ypIpPvKBz6afDGLnp1OZUcw= [ 0.00298517 -0.312272    0.11647121 -0.06899062  0.02420089  0.25235176\n",
            "  0.00958126 -0.24592082 -0.02247444  0.10689724  0.06643136  0.09865347\n",
            " -0.16271277  0.12357292 -0.18071805  0.09140684 -0.11545475  0.2888711\n",
            "  0.22993998  0.01565868  0.14664613  0.05853401 -0.35169676  0.18798192\n",
            " -0.13944396 -0.05525519 -0.25705618  0.1226314  -0.25676906  0.27104366\n",
            " -0.26814052  0.04143512]\n",
            "mQiuYoYa7M4AXaoBIdnsYdWsQvdxO4+iOLEJDPH2uHA= [ 0.16659804 -0.29392782  0.08453513 -0.15320121  0.11374936  0.18040504\n",
            "  0.06627727 -0.19476308  0.08368438  0.0914283   0.1231162   0.08493157\n",
            " -0.11622928  0.09105074 -0.1120967   0.05950363 -0.11703922  0.1267232\n",
            "  0.17746845  0.13435555  0.03428405  0.0167434  -0.38683054  0.22004426\n",
            " -0.29063123 -0.07033741 -0.2571503   0.21041927 -0.20389882  0.33294877\n",
            " -0.24595977  0.01506055]\n",
            "ObnC1Qx3cMHomGI6bKsM1OGsAj22CCaBjVNcmfKop2c= [-0.01115723 -0.18894197  0.03505521 -0.05185668 -0.10815802  0.14230649\n",
            "  0.01504271 -0.05133561 -0.00051505  0.02904517 -0.12710571  0.1414655\n",
            "  0.0710139   0.28220087  0.10746206  0.0499877  -0.01535856  0.04910715\n",
            "  0.20463228  0.16149397  0.13446331  0.21289    -0.19949351  0.31320518\n",
            " -0.31099892 -0.26123145 -0.23153773  0.29480717 -0.14327274  0.19604032\n",
            " -0.30860525  0.24109977]\n",
            "SZo+9Ax4vv954SmTLPyDoYPnM7ElDsa+kQ5NDSG+/Uw= [-0.08069681 -0.11928686 -0.06423759 -0.09265324 -0.03873311  0.17188764\n",
            "  0.00208304 -0.1843477  -0.00911289 -0.08604614  0.03811694  0.06424719\n",
            " -0.07088786  0.09992008 -0.19778882  0.17446625 -0.05189846  0.14655551\n",
            "  0.2510597   0.04301716  0.23651583  0.26686442 -0.2605052   0.23671368\n",
            " -0.22593541 -0.14132306 -0.30245426  0.3312984  -0.1423628   0.30276823\n",
            " -0.1947756   0.20406468]\n",
            "7DV7pn2Z7mB/RGbPIlnSQa4j204CBWSOcjYcz4n36GI= [-0.08087975 -0.23209248  0.11042504 -0.15628651 -0.1301235   0.18256256\n",
            "  0.03543815 -0.04057818  0.10818897 -0.04038761 -0.00393862  0.08467871\n",
            " -0.14545025  0.0487672  -0.13123742  0.13219567  0.00693825  0.09882474\n",
            "  0.33678243  0.06771431  0.09398012  0.0385757  -0.15272537  0.32929182\n",
            " -0.31593227 -0.15514311 -0.21256405  0.28107896 -0.12645364  0.23405586\n",
            " -0.3524938   0.24095073]\n",
            "NUG+lqg9jiFuCPouH6fmSnGBLM6lngTu1R96Y1xX9pQ= [ 0.00088744 -0.2831786   0.03374403 -0.0941854  -0.15414976  0.10011997\n",
            "  0.11046983 -0.01132875  0.14126842  0.08143356 -0.10548862  0.05262665\n",
            " -0.03356841  0.14447671 -0.12240974 -0.01344216 -0.13748355  0.18655406\n",
            "  0.23723188  0.15514828  0.06740959  0.21933608 -0.34498248  0.27333137\n",
            " -0.1814766  -0.20228349 -0.19761898  0.3320288  -0.15773499  0.06838381\n",
            " -0.34100357  0.1913434 ]\n"
          ],
          "name": "stdout"
        }
      ]
    },
    {
      "cell_type": "code",
      "metadata": {
        "id": "n997K7Vzym_i",
        "outputId": "2e6b66a2-8384-4ad2-b11e-116633e584d3",
        "colab": {
          "base_uri": "https://localhost:8080/",
          "height": 968
        }
      },
      "source": [
        "song_id = 'p+WxS35GIo9lHYpW17Bz/PRW+UcGH9R+bq+wU2caYnY='\n",
        "sims, sc = tuple(zip((song_id, 1), *word2vec.most_similar(song_id)))\n",
        "res = songs.set_index('song_id').loc[list(sims)]\n",
        "res['scores'] = sc\n",
        "res"
      ],
      "execution_count": null,
      "outputs": [
        {
          "output_type": "stream",
          "text": [
            "/usr/local/lib/python3.6/dist-packages/gensim/matutils.py:737: FutureWarning: Conversion of the second argument of issubdtype from `int` to `np.signedinteger` is deprecated. In future, it will be treated as `np.int64 == np.dtype(int).type`.\n",
            "  if np.issubdtype(vec.dtype, np.int):\n"
          ],
          "name": "stderr"
        },
        {
          "output_type": "execute_result",
          "data": {
            "text/html": [
              "<div>\n",
              "<style scoped>\n",
              "    .dataframe tbody tr th:only-of-type {\n",
              "        vertical-align: middle;\n",
              "    }\n",
              "\n",
              "    .dataframe tbody tr th {\n",
              "        vertical-align: top;\n",
              "    }\n",
              "\n",
              "    .dataframe thead th {\n",
              "        text-align: right;\n",
              "    }\n",
              "</style>\n",
              "<table border=\"1\" class=\"dataframe\">\n",
              "  <thead>\n",
              "    <tr style=\"text-align: right;\">\n",
              "      <th></th>\n",
              "      <th>song_length</th>\n",
              "      <th>genre_ids</th>\n",
              "      <th>artist_name</th>\n",
              "      <th>composer</th>\n",
              "      <th>lyricist</th>\n",
              "      <th>language</th>\n",
              "      <th>scores</th>\n",
              "    </tr>\n",
              "    <tr>\n",
              "      <th>song_id</th>\n",
              "      <th></th>\n",
              "      <th></th>\n",
              "      <th></th>\n",
              "      <th></th>\n",
              "      <th></th>\n",
              "      <th></th>\n",
              "      <th></th>\n",
              "    </tr>\n",
              "  </thead>\n",
              "  <tbody>\n",
              "    <tr>\n",
              "      <th>p+WxS35GIo9lHYpW17Bz/PRW+UcGH9R+bq+wU2caYnY=</th>\n",
              "      <td>326426</td>\n",
              "      <td>1259</td>\n",
              "      <td>Eminem</td>\n",
              "      <td>Jeff Bass| Luis Resto| Marshall Mathers</td>\n",
              "      <td>NaN</td>\n",
              "      <td>52.0</td>\n",
              "      <td>1.000000</td>\n",
              "    </tr>\n",
              "    <tr>\n",
              "      <th>mQiuYoYa7M4AXaoBIdnsYdWsQvdxO4+iOLEJDPH2uHA=</th>\n",
              "      <td>248081</td>\n",
              "      <td>1259</td>\n",
              "      <td>Eminem</td>\n",
              "      <td>Marshall Mathers| Luis Resto| M. Samuels| J. E...</td>\n",
              "      <td>NaN</td>\n",
              "      <td>52.0</td>\n",
              "      <td>0.952463</td>\n",
              "    </tr>\n",
              "    <tr>\n",
              "      <th>gET0e9X1wUcrjalriOT7N3/Tlo2c+qO2WFHd5+LZs4s=</th>\n",
              "      <td>250932</td>\n",
              "      <td>1259</td>\n",
              "      <td>Eminem</td>\n",
              "      <td>Marshall Mathers| B. Fryzel| A. Kleinstub| M. ...</td>\n",
              "      <td>NaN</td>\n",
              "      <td>52.0</td>\n",
              "      <td>0.903580</td>\n",
              "    </tr>\n",
              "    <tr>\n",
              "      <th>nYo7Vg+L8TvlFXWOjab5MaVY/dDn0ReI0tsuGZ0cLWA=</th>\n",
              "      <td>303809</td>\n",
              "      <td>1259</td>\n",
              "      <td>Bad Meets Evil</td>\n",
              "      <td>Marshall Mathers| R. Montgomery| P. Hernandez|...</td>\n",
              "      <td>NaN</td>\n",
              "      <td>52.0</td>\n",
              "      <td>0.880711</td>\n",
              "    </tr>\n",
              "    <tr>\n",
              "      <th>pBwVrte2VIS1O76/z7Km699cNPbwtsoHoKoFMQZPT8Q=</th>\n",
              "      <td>179800</td>\n",
              "      <td>1259</td>\n",
              "      <td>B.o.B</td>\n",
              "      <td>NaN</td>\n",
              "      <td>NaN</td>\n",
              "      <td>52.0</td>\n",
              "      <td>0.879951</td>\n",
              "    </tr>\n",
              "    <tr>\n",
              "      <th>78w25Ysgx+7z9JWQwlA3ypIpPvKBz6afDGLnp1OZUcw=</th>\n",
              "      <td>250125</td>\n",
              "      <td>1259</td>\n",
              "      <td>Eminem</td>\n",
              "      <td>Marshall Mathers| B. Fryzel| A. Kleinstub| M. ...</td>\n",
              "      <td>NaN</td>\n",
              "      <td>52.0</td>\n",
              "      <td>0.876184</td>\n",
              "    </tr>\n",
              "    <tr>\n",
              "      <th>4L5G2OzB1D1yecg4aIA69qjZ7C4CRgsFp66ZFb7ZKQI=</th>\n",
              "      <td>235624</td>\n",
              "      <td>1259</td>\n",
              "      <td>Macklemore &amp; Ryan Lewis</td>\n",
              "      <td>NaN</td>\n",
              "      <td>NaN</td>\n",
              "      <td>52.0</td>\n",
              "      <td>0.869271</td>\n",
              "    </tr>\n",
              "    <tr>\n",
              "      <th>PFGzXV3clS2Gph9GoNMmszd+SaHFJia2VC1Np/btxRM=</th>\n",
              "      <td>192208</td>\n",
              "      <td>1259</td>\n",
              "      <td>Flo Rida</td>\n",
              "      <td>NaN</td>\n",
              "      <td>NaN</td>\n",
              "      <td>52.0</td>\n",
              "      <td>0.856436</td>\n",
              "    </tr>\n",
              "    <tr>\n",
              "      <th>wE383tsbzVZPCJrYGJSDKwlLiHMl5im1sABLZNbZMA8=</th>\n",
              "      <td>277246</td>\n",
              "      <td>1259</td>\n",
              "      <td>Jay-Z</td>\n",
              "      <td>Alicia Keys| S. Robinson| Bobby B. Keyes| Shaw...</td>\n",
              "      <td>NaN</td>\n",
              "      <td>52.0</td>\n",
              "      <td>0.855868</td>\n",
              "    </tr>\n",
              "    <tr>\n",
              "      <th>8MfpwhYW2MKgUi7dCUCgXVbMBrr4QJNb+uglFc3RDsQ=</th>\n",
              "      <td>192783</td>\n",
              "      <td>1259</td>\n",
              "      <td>Flo Rida</td>\n",
              "      <td>NaN</td>\n",
              "      <td>NaN</td>\n",
              "      <td>52.0</td>\n",
              "      <td>0.845984</td>\n",
              "    </tr>\n",
              "    <tr>\n",
              "      <th>eMKYDKhAH+MAZ/Alpv41Xa0mC1F3IMEXASgBJYtRjYY=</th>\n",
              "      <td>238701</td>\n",
              "      <td>1259</td>\n",
              "      <td>Diddy - Dirty Money</td>\n",
              "      <td>Skylar Grey| Alexander Grant| Shawn Carter| Je...</td>\n",
              "      <td>NaN</td>\n",
              "      <td>52.0</td>\n",
              "      <td>0.841768</td>\n",
              "    </tr>\n",
              "  </tbody>\n",
              "</table>\n",
              "</div>"
            ],
            "text/plain": [
              "                                              song_length  ...    scores\n",
              "song_id                                                    ...          \n",
              "p+WxS35GIo9lHYpW17Bz/PRW+UcGH9R+bq+wU2caYnY=       326426  ...  1.000000\n",
              "mQiuYoYa7M4AXaoBIdnsYdWsQvdxO4+iOLEJDPH2uHA=       248081  ...  0.952463\n",
              "gET0e9X1wUcrjalriOT7N3/Tlo2c+qO2WFHd5+LZs4s=       250932  ...  0.903580\n",
              "nYo7Vg+L8TvlFXWOjab5MaVY/dDn0ReI0tsuGZ0cLWA=       303809  ...  0.880711\n",
              "pBwVrte2VIS1O76/z7Km699cNPbwtsoHoKoFMQZPT8Q=       179800  ...  0.879951\n",
              "78w25Ysgx+7z9JWQwlA3ypIpPvKBz6afDGLnp1OZUcw=       250125  ...  0.876184\n",
              "4L5G2OzB1D1yecg4aIA69qjZ7C4CRgsFp66ZFb7ZKQI=       235624  ...  0.869271\n",
              "PFGzXV3clS2Gph9GoNMmszd+SaHFJia2VC1Np/btxRM=       192208  ...  0.856436\n",
              "wE383tsbzVZPCJrYGJSDKwlLiHMl5im1sABLZNbZMA8=       277246  ...  0.855868\n",
              "8MfpwhYW2MKgUi7dCUCgXVbMBrr4QJNb+uglFc3RDsQ=       192783  ...  0.845984\n",
              "eMKYDKhAH+MAZ/Alpv41Xa0mC1F3IMEXASgBJYtRjYY=       238701  ...  0.841768\n",
              "\n",
              "[11 rows x 7 columns]"
            ]
          },
          "metadata": {
            "tags": []
          },
          "execution_count": 86
        }
      ]
    },
    {
      "cell_type": "markdown",
      "metadata": {
        "id": "Q8YVzDiTGiNK"
      },
      "source": [
        "Eminem есть в симиларах, значит все хорошо"
      ]
    },
    {
      "cell_type": "markdown",
      "metadata": {
        "id": "-J-Bb9TWxkkj"
      },
      "source": [
        "2) Подсчет метрик"
      ]
    },
    {
      "cell_type": "code",
      "metadata": {
        "id": "nzHfINa8uGqP"
      },
      "source": [
        "predicted_scores = word2vec.predict_proba(train)"
      ],
      "execution_count": null,
      "outputs": []
    },
    {
      "cell_type": "code",
      "metadata": {
        "id": "GfuHnSgZaDkg",
        "outputId": "d44d7853-aa0d-4d07-d1eb-7dbb564c72e2",
        "colab": {
          "base_uri": "https://localhost:8080/"
        }
      },
      "source": [
        "len(train.target), len(predicted_scores)"
      ],
      "execution_count": 147,
      "outputs": [
        {
          "output_type": "execute_result",
          "data": {
            "text/plain": [
              "(7377418, 5820067)"
            ]
          },
          "metadata": {
            "tags": []
          },
          "execution_count": 147
        }
      ]
    },
    {
      "cell_type": "code",
      "metadata": {
        "id": "xj2e-r_ixUon",
        "outputId": "6356c956-1d58-410b-f81a-f0040c1e003f",
        "colab": {
          "base_uri": "https://localhost:8080/",
          "height": 306
        }
      },
      "source": [
        "roc_auc_score(train.target, predicted_scores)"
      ],
      "execution_count": 146,
      "outputs": [
        {
          "output_type": "error",
          "ename": "ValueError",
          "evalue": "ignored",
          "traceback": [
            "\u001b[0;31m---------------------------------------------------------------------------\u001b[0m",
            "\u001b[0;31mValueError\u001b[0m                                Traceback (most recent call last)",
            "\u001b[0;32m<ipython-input-146-1383e2d073bd>\u001b[0m in \u001b[0;36m<module>\u001b[0;34m()\u001b[0m\n\u001b[0;32m----> 1\u001b[0;31m \u001b[0mroc_auc_score\u001b[0m\u001b[0;34m(\u001b[0m\u001b[0mtrain\u001b[0m\u001b[0;34m.\u001b[0m\u001b[0mtarget\u001b[0m\u001b[0;34m,\u001b[0m \u001b[0mpredicted_scores\u001b[0m\u001b[0;34m)\u001b[0m\u001b[0;34m\u001b[0m\u001b[0;34m\u001b[0m\u001b[0m\n\u001b[0m",
            "\u001b[0;32m/usr/local/lib/python3.6/dist-packages/sklearn/metrics/_ranking.py\u001b[0m in \u001b[0;36mroc_auc_score\u001b[0;34m(y_true, y_score, average, sample_weight, max_fpr, multi_class, labels)\u001b[0m\n\u001b[1;32m    388\u001b[0m                                              max_fpr=max_fpr),\n\u001b[1;32m    389\u001b[0m                                      \u001b[0my_true\u001b[0m\u001b[0;34m,\u001b[0m \u001b[0my_score\u001b[0m\u001b[0;34m,\u001b[0m \u001b[0maverage\u001b[0m\u001b[0;34m,\u001b[0m\u001b[0;34m\u001b[0m\u001b[0;34m\u001b[0m\u001b[0m\n\u001b[0;32m--> 390\u001b[0;31m                                      sample_weight=sample_weight)\n\u001b[0m\u001b[1;32m    391\u001b[0m     \u001b[0;32melse\u001b[0m\u001b[0;34m:\u001b[0m  \u001b[0;31m# multilabel-indicator\u001b[0m\u001b[0;34m\u001b[0m\u001b[0;34m\u001b[0m\u001b[0m\n\u001b[1;32m    392\u001b[0m         return _average_binary_score(partial(_binary_roc_auc_score,\n",
            "\u001b[0;32m/usr/local/lib/python3.6/dist-packages/sklearn/metrics/_base.py\u001b[0m in \u001b[0;36m_average_binary_score\u001b[0;34m(binary_metric, y_true, y_score, average, sample_weight)\u001b[0m\n\u001b[1;32m     75\u001b[0m \u001b[0;34m\u001b[0m\u001b[0m\n\u001b[1;32m     76\u001b[0m     \u001b[0;32mif\u001b[0m \u001b[0my_type\u001b[0m \u001b[0;34m==\u001b[0m \u001b[0;34m\"binary\"\u001b[0m\u001b[0;34m:\u001b[0m\u001b[0;34m\u001b[0m\u001b[0;34m\u001b[0m\u001b[0m\n\u001b[0;32m---> 77\u001b[0;31m         \u001b[0;32mreturn\u001b[0m \u001b[0mbinary_metric\u001b[0m\u001b[0;34m(\u001b[0m\u001b[0my_true\u001b[0m\u001b[0;34m,\u001b[0m \u001b[0my_score\u001b[0m\u001b[0;34m,\u001b[0m \u001b[0msample_weight\u001b[0m\u001b[0;34m=\u001b[0m\u001b[0msample_weight\u001b[0m\u001b[0;34m)\u001b[0m\u001b[0;34m\u001b[0m\u001b[0;34m\u001b[0m\u001b[0m\n\u001b[0m\u001b[1;32m     78\u001b[0m \u001b[0;34m\u001b[0m\u001b[0m\n\u001b[1;32m     79\u001b[0m     \u001b[0mcheck_consistent_length\u001b[0m\u001b[0;34m(\u001b[0m\u001b[0my_true\u001b[0m\u001b[0;34m,\u001b[0m \u001b[0my_score\u001b[0m\u001b[0;34m,\u001b[0m \u001b[0msample_weight\u001b[0m\u001b[0;34m)\u001b[0m\u001b[0;34m\u001b[0m\u001b[0;34m\u001b[0m\u001b[0m\n",
            "\u001b[0;32m/usr/local/lib/python3.6/dist-packages/sklearn/metrics/_ranking.py\u001b[0m in \u001b[0;36m_binary_roc_auc_score\u001b[0;34m(y_true, y_score, sample_weight, max_fpr)\u001b[0m\n\u001b[1;32m    223\u001b[0m \u001b[0;34m\u001b[0m\u001b[0m\n\u001b[1;32m    224\u001b[0m     fpr, tpr, _ = roc_curve(y_true, y_score,\n\u001b[0;32m--> 225\u001b[0;31m                             sample_weight=sample_weight)\n\u001b[0m\u001b[1;32m    226\u001b[0m     \u001b[0;32mif\u001b[0m \u001b[0mmax_fpr\u001b[0m \u001b[0;32mis\u001b[0m \u001b[0;32mNone\u001b[0m \u001b[0;32mor\u001b[0m \u001b[0mmax_fpr\u001b[0m \u001b[0;34m==\u001b[0m \u001b[0;36m1\u001b[0m\u001b[0;34m:\u001b[0m\u001b[0;34m\u001b[0m\u001b[0;34m\u001b[0m\u001b[0m\n\u001b[1;32m    227\u001b[0m         \u001b[0;32mreturn\u001b[0m \u001b[0mauc\u001b[0m\u001b[0;34m(\u001b[0m\u001b[0mfpr\u001b[0m\u001b[0;34m,\u001b[0m \u001b[0mtpr\u001b[0m\u001b[0;34m)\u001b[0m\u001b[0;34m\u001b[0m\u001b[0;34m\u001b[0m\u001b[0m\n",
            "\u001b[0;32m/usr/local/lib/python3.6/dist-packages/sklearn/metrics/_ranking.py\u001b[0m in \u001b[0;36mroc_curve\u001b[0;34m(y_true, y_score, pos_label, sample_weight, drop_intermediate)\u001b[0m\n\u001b[1;32m    769\u001b[0m     \"\"\"\n\u001b[1;32m    770\u001b[0m     fps, tps, thresholds = _binary_clf_curve(\n\u001b[0;32m--> 771\u001b[0;31m         y_true, y_score, pos_label=pos_label, sample_weight=sample_weight)\n\u001b[0m\u001b[1;32m    772\u001b[0m \u001b[0;34m\u001b[0m\u001b[0m\n\u001b[1;32m    773\u001b[0m     \u001b[0;31m# Attempt to drop thresholds corresponding to points in between and\u001b[0m\u001b[0;34m\u001b[0m\u001b[0;34m\u001b[0m\u001b[0;34m\u001b[0m\u001b[0m\n",
            "\u001b[0;32m/usr/local/lib/python3.6/dist-packages/sklearn/metrics/_ranking.py\u001b[0m in \u001b[0;36m_binary_clf_curve\u001b[0;34m(y_true, y_score, pos_label, sample_weight)\u001b[0m\n\u001b[1;32m    536\u001b[0m         \u001b[0;32mraise\u001b[0m \u001b[0mValueError\u001b[0m\u001b[0;34m(\u001b[0m\u001b[0;34m\"{0} format is not supported\"\u001b[0m\u001b[0;34m.\u001b[0m\u001b[0mformat\u001b[0m\u001b[0;34m(\u001b[0m\u001b[0my_type\u001b[0m\u001b[0;34m)\u001b[0m\u001b[0;34m)\u001b[0m\u001b[0;34m\u001b[0m\u001b[0;34m\u001b[0m\u001b[0m\n\u001b[1;32m    537\u001b[0m \u001b[0;34m\u001b[0m\u001b[0m\n\u001b[0;32m--> 538\u001b[0;31m     \u001b[0mcheck_consistent_length\u001b[0m\u001b[0;34m(\u001b[0m\u001b[0my_true\u001b[0m\u001b[0;34m,\u001b[0m \u001b[0my_score\u001b[0m\u001b[0;34m,\u001b[0m \u001b[0msample_weight\u001b[0m\u001b[0;34m)\u001b[0m\u001b[0;34m\u001b[0m\u001b[0;34m\u001b[0m\u001b[0m\n\u001b[0m\u001b[1;32m    539\u001b[0m     \u001b[0my_true\u001b[0m \u001b[0;34m=\u001b[0m \u001b[0mcolumn_or_1d\u001b[0m\u001b[0;34m(\u001b[0m\u001b[0my_true\u001b[0m\u001b[0;34m)\u001b[0m\u001b[0;34m\u001b[0m\u001b[0;34m\u001b[0m\u001b[0m\n\u001b[1;32m    540\u001b[0m     \u001b[0my_score\u001b[0m \u001b[0;34m=\u001b[0m \u001b[0mcolumn_or_1d\u001b[0m\u001b[0;34m(\u001b[0m\u001b[0my_score\u001b[0m\u001b[0;34m)\u001b[0m\u001b[0;34m\u001b[0m\u001b[0;34m\u001b[0m\u001b[0m\n",
            "\u001b[0;32m/usr/local/lib/python3.6/dist-packages/sklearn/utils/validation.py\u001b[0m in \u001b[0;36mcheck_consistent_length\u001b[0;34m(*arrays)\u001b[0m\n\u001b[1;32m    210\u001b[0m     \u001b[0;32mif\u001b[0m \u001b[0mlen\u001b[0m\u001b[0;34m(\u001b[0m\u001b[0muniques\u001b[0m\u001b[0;34m)\u001b[0m \u001b[0;34m>\u001b[0m \u001b[0;36m1\u001b[0m\u001b[0;34m:\u001b[0m\u001b[0;34m\u001b[0m\u001b[0;34m\u001b[0m\u001b[0m\n\u001b[1;32m    211\u001b[0m         raise ValueError(\"Found input variables with inconsistent numbers of\"\n\u001b[0;32m--> 212\u001b[0;31m                          \" samples: %r\" % [int(l) for l in lengths])\n\u001b[0m\u001b[1;32m    213\u001b[0m \u001b[0;34m\u001b[0m\u001b[0m\n\u001b[1;32m    214\u001b[0m \u001b[0;34m\u001b[0m\u001b[0m\n",
            "\u001b[0;31mValueError\u001b[0m: Found input variables with inconsistent numbers of samples: [7377418, 5820067]"
          ]
        }
      ]
    },
    {
      "cell_type": "markdown",
      "metadata": {
        "id": "2ZJueS6Jxpra"
      },
      "source": [
        "3) использование `predicted_scores` в качестве фичи"
      ]
    },
    {
      "cell_type": "code",
      "metadata": {
        "id": "E6bUuKtdxyja"
      },
      "source": [
        "train['predicted_scores'] = predicted_scores"
      ],
      "execution_count": null,
      "outputs": []
    },
    {
      "cell_type": "code",
      "metadata": {
        "id": "zjbNyBkxyKB-"
      },
      "source": [
        "X_train = features.get_features(train)"
      ],
      "execution_count": null,
      "outputs": []
    },
    {
      "cell_type": "code",
      "metadata": {
        "id": "DMyc8JC1yKCB"
      },
      "source": [
        "X_train, y_train = X_train.drop(columns=['msno', 'song_id', 'target']), X_train.target"
      ],
      "execution_count": null,
      "outputs": []
    }
  ]
}