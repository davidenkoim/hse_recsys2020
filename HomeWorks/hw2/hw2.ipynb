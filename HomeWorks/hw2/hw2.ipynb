{
  "nbformat": 4,
  "nbformat_minor": 0,
  "metadata": {
    "hide_input": false,
    "kernelspec": {
      "display_name": "Python 3",
      "language": "python",
      "name": "python3"
    },
    "language_info": {
      "codemirror_mode": {
        "name": "ipython",
        "version": 3
      },
      "file_extension": ".py",
      "mimetype": "text/x-python",
      "name": "python",
      "nbconvert_exporter": "python",
      "pygments_lexer": "ipython3",
      "version": "3.7.6"
    },
    "toc": {
      "base_numbering": 1,
      "nav_menu": {},
      "number_sections": true,
      "sideBar": true,
      "skip_h1_title": false,
      "title_cell": "Table of Contents",
      "title_sidebar": "Contents",
      "toc_cell": false,
      "toc_position": {},
      "toc_section_display": true,
      "toc_window_display": false
    },
    "varInspector": {
      "cols": {
        "lenName": 16,
        "lenType": 16,
        "lenVar": 40
      },
      "kernels_config": {
        "python": {
          "delete_cmd_postfix": "",
          "delete_cmd_prefix": "del ",
          "library": "var_list.py",
          "varRefreshCmd": "print(var_dic_list())"
        },
        "r": {
          "delete_cmd_postfix": ") ",
          "delete_cmd_prefix": "rm(",
          "library": "var_list.r",
          "varRefreshCmd": "cat(var_dic_list()) "
        }
      },
      "position": {
        "height": "529px",
        "left": "468px",
        "right": "20px",
        "top": "58px",
        "width": "778px"
      },
      "types_to_exclude": [
        "module",
        "function",
        "builtin_function_or_method",
        "instance",
        "_Feature"
      ],
      "window_display": false
    },
    "colab": {
      "name": "hw2.ipynb",
      "provenance": [],
      "toc_visible": true
    },
    "widgets": {
      "application/vnd.jupyter.widget-state+json": {
        "b6fc8b9aac6e4d84846c11c07fdcc7bc": {
          "model_module": "@jupyter-widgets/controls",
          "model_name": "HBoxModel",
          "state": {
            "_view_name": "HBoxView",
            "_dom_classes": [],
            "_model_name": "HBoxModel",
            "_view_module": "@jupyter-widgets/controls",
            "_model_module_version": "1.5.0",
            "_view_count": null,
            "_view_module_version": "1.5.0",
            "box_style": "",
            "layout": "IPY_MODEL_d33ecfdce5f64a7489f1664a0f2b0aff",
            "_model_module": "@jupyter-widgets/controls",
            "children": [
              "IPY_MODEL_db377a7b10294d338e0f178df92102d7",
              "IPY_MODEL_e39635dfc6f24266ae7e4720e4945af9"
            ]
          }
        },
        "d33ecfdce5f64a7489f1664a0f2b0aff": {
          "model_module": "@jupyter-widgets/base",
          "model_name": "LayoutModel",
          "state": {
            "_view_name": "LayoutView",
            "grid_template_rows": null,
            "right": null,
            "justify_content": null,
            "_view_module": "@jupyter-widgets/base",
            "overflow": null,
            "_model_module_version": "1.2.0",
            "_view_count": null,
            "flex_flow": null,
            "width": null,
            "min_width": null,
            "border": null,
            "align_items": null,
            "bottom": null,
            "_model_module": "@jupyter-widgets/base",
            "top": null,
            "grid_column": null,
            "overflow_y": null,
            "overflow_x": null,
            "grid_auto_flow": null,
            "grid_area": null,
            "grid_template_columns": null,
            "flex": null,
            "_model_name": "LayoutModel",
            "justify_items": null,
            "grid_row": null,
            "max_height": null,
            "align_content": null,
            "visibility": null,
            "align_self": null,
            "height": null,
            "min_height": null,
            "padding": null,
            "grid_auto_rows": null,
            "grid_gap": null,
            "max_width": null,
            "order": null,
            "_view_module_version": "1.2.0",
            "grid_template_areas": null,
            "object_position": null,
            "object_fit": null,
            "grid_auto_columns": null,
            "margin": null,
            "display": null,
            "left": null
          }
        },
        "db377a7b10294d338e0f178df92102d7": {
          "model_module": "@jupyter-widgets/controls",
          "model_name": "FloatProgressModel",
          "state": {
            "_view_name": "ProgressView",
            "style": "IPY_MODEL_6ceb9d88539c4b7b98b32c5c2174f928",
            "_dom_classes": [],
            "description": "",
            "_model_name": "FloatProgressModel",
            "bar_style": "success",
            "max": 1,
            "_view_module": "@jupyter-widgets/controls",
            "_model_module_version": "1.5.0",
            "value": 1,
            "_view_count": null,
            "_view_module_version": "1.5.0",
            "orientation": "horizontal",
            "min": 0,
            "description_tooltip": null,
            "_model_module": "@jupyter-widgets/controls",
            "layout": "IPY_MODEL_d4dfb7817fd543999b8b137444e8f869"
          }
        },
        "e39635dfc6f24266ae7e4720e4945af9": {
          "model_module": "@jupyter-widgets/controls",
          "model_name": "HTMLModel",
          "state": {
            "_view_name": "HTMLView",
            "style": "IPY_MODEL_cc38b6fc6e9f456a8a1190cf27385050",
            "_dom_classes": [],
            "description": "",
            "_model_name": "HTMLModel",
            "placeholder": "​",
            "_view_module": "@jupyter-widgets/controls",
            "_model_module_version": "1.5.0",
            "value": " 5/? [18:54&lt;00:00, 226.87s/it]",
            "_view_count": null,
            "_view_module_version": "1.5.0",
            "description_tooltip": null,
            "_model_module": "@jupyter-widgets/controls",
            "layout": "IPY_MODEL_0ceeed036fc64df1ac55c351fe2daf98"
          }
        },
        "6ceb9d88539c4b7b98b32c5c2174f928": {
          "model_module": "@jupyter-widgets/controls",
          "model_name": "ProgressStyleModel",
          "state": {
            "_view_name": "StyleView",
            "_model_name": "ProgressStyleModel",
            "description_width": "initial",
            "_view_module": "@jupyter-widgets/base",
            "_model_module_version": "1.5.0",
            "_view_count": null,
            "_view_module_version": "1.2.0",
            "bar_color": null,
            "_model_module": "@jupyter-widgets/controls"
          }
        },
        "d4dfb7817fd543999b8b137444e8f869": {
          "model_module": "@jupyter-widgets/base",
          "model_name": "LayoutModel",
          "state": {
            "_view_name": "LayoutView",
            "grid_template_rows": null,
            "right": null,
            "justify_content": null,
            "_view_module": "@jupyter-widgets/base",
            "overflow": null,
            "_model_module_version": "1.2.0",
            "_view_count": null,
            "flex_flow": null,
            "width": null,
            "min_width": null,
            "border": null,
            "align_items": null,
            "bottom": null,
            "_model_module": "@jupyter-widgets/base",
            "top": null,
            "grid_column": null,
            "overflow_y": null,
            "overflow_x": null,
            "grid_auto_flow": null,
            "grid_area": null,
            "grid_template_columns": null,
            "flex": null,
            "_model_name": "LayoutModel",
            "justify_items": null,
            "grid_row": null,
            "max_height": null,
            "align_content": null,
            "visibility": null,
            "align_self": null,
            "height": null,
            "min_height": null,
            "padding": null,
            "grid_auto_rows": null,
            "grid_gap": null,
            "max_width": null,
            "order": null,
            "_view_module_version": "1.2.0",
            "grid_template_areas": null,
            "object_position": null,
            "object_fit": null,
            "grid_auto_columns": null,
            "margin": null,
            "display": null,
            "left": null
          }
        },
        "cc38b6fc6e9f456a8a1190cf27385050": {
          "model_module": "@jupyter-widgets/controls",
          "model_name": "DescriptionStyleModel",
          "state": {
            "_view_name": "StyleView",
            "_model_name": "DescriptionStyleModel",
            "description_width": "",
            "_view_module": "@jupyter-widgets/base",
            "_model_module_version": "1.5.0",
            "_view_count": null,
            "_view_module_version": "1.2.0",
            "_model_module": "@jupyter-widgets/controls"
          }
        },
        "0ceeed036fc64df1ac55c351fe2daf98": {
          "model_module": "@jupyter-widgets/base",
          "model_name": "LayoutModel",
          "state": {
            "_view_name": "LayoutView",
            "grid_template_rows": null,
            "right": null,
            "justify_content": null,
            "_view_module": "@jupyter-widgets/base",
            "overflow": null,
            "_model_module_version": "1.2.0",
            "_view_count": null,
            "flex_flow": null,
            "width": null,
            "min_width": null,
            "border": null,
            "align_items": null,
            "bottom": null,
            "_model_module": "@jupyter-widgets/base",
            "top": null,
            "grid_column": null,
            "overflow_y": null,
            "overflow_x": null,
            "grid_auto_flow": null,
            "grid_area": null,
            "grid_template_columns": null,
            "flex": null,
            "_model_name": "LayoutModel",
            "justify_items": null,
            "grid_row": null,
            "max_height": null,
            "align_content": null,
            "visibility": null,
            "align_self": null,
            "height": null,
            "min_height": null,
            "padding": null,
            "grid_auto_rows": null,
            "grid_gap": null,
            "max_width": null,
            "order": null,
            "_view_module_version": "1.2.0",
            "grid_template_areas": null,
            "object_position": null,
            "object_fit": null,
            "grid_auto_columns": null,
            "margin": null,
            "display": null,
            "left": null
          }
        },
        "ee53eb2cbb1341eb8fa27198c2a59ae9": {
          "model_module": "@jupyter-widgets/controls",
          "model_name": "HBoxModel",
          "state": {
            "_view_name": "HBoxView",
            "_dom_classes": [],
            "_model_name": "HBoxModel",
            "_view_module": "@jupyter-widgets/controls",
            "_model_module_version": "1.5.0",
            "_view_count": null,
            "_view_module_version": "1.5.0",
            "box_style": "",
            "layout": "IPY_MODEL_679de50caa0243e89d393c882481f364",
            "_model_module": "@jupyter-widgets/controls",
            "children": [
              "IPY_MODEL_516a27961b704bcd94e4e6a4d86c8160",
              "IPY_MODEL_1a6ca8146c054d0497d501cd6e2f6a8d"
            ]
          }
        },
        "679de50caa0243e89d393c882481f364": {
          "model_module": "@jupyter-widgets/base",
          "model_name": "LayoutModel",
          "state": {
            "_view_name": "LayoutView",
            "grid_template_rows": null,
            "right": null,
            "justify_content": null,
            "_view_module": "@jupyter-widgets/base",
            "overflow": null,
            "_model_module_version": "1.2.0",
            "_view_count": null,
            "flex_flow": null,
            "width": null,
            "min_width": null,
            "border": null,
            "align_items": null,
            "bottom": null,
            "_model_module": "@jupyter-widgets/base",
            "top": null,
            "grid_column": null,
            "overflow_y": null,
            "overflow_x": null,
            "grid_auto_flow": null,
            "grid_area": null,
            "grid_template_columns": null,
            "flex": null,
            "_model_name": "LayoutModel",
            "justify_items": null,
            "grid_row": null,
            "max_height": null,
            "align_content": null,
            "visibility": null,
            "align_self": null,
            "height": null,
            "min_height": null,
            "padding": null,
            "grid_auto_rows": null,
            "grid_gap": null,
            "max_width": null,
            "order": null,
            "_view_module_version": "1.2.0",
            "grid_template_areas": null,
            "object_position": null,
            "object_fit": null,
            "grid_auto_columns": null,
            "margin": null,
            "display": null,
            "left": null
          }
        },
        "516a27961b704bcd94e4e6a4d86c8160": {
          "model_module": "@jupyter-widgets/controls",
          "model_name": "FloatProgressModel",
          "state": {
            "_view_name": "ProgressView",
            "style": "IPY_MODEL_1003c5ec26d346158b5325b04a572329",
            "_dom_classes": [],
            "description": "100%",
            "_model_name": "FloatProgressModel",
            "bar_style": "success",
            "max": 7377418,
            "_view_module": "@jupyter-widgets/controls",
            "_model_module_version": "1.5.0",
            "value": 7377418,
            "_view_count": null,
            "_view_module_version": "1.5.0",
            "orientation": "horizontal",
            "min": 0,
            "description_tooltip": null,
            "_model_module": "@jupyter-widgets/controls",
            "layout": "IPY_MODEL_b9b06c40523d4381b6229dc15cc51e7a"
          }
        },
        "1a6ca8146c054d0497d501cd6e2f6a8d": {
          "model_module": "@jupyter-widgets/controls",
          "model_name": "HTMLModel",
          "state": {
            "_view_name": "HTMLView",
            "style": "IPY_MODEL_0489f89f5b314868ac52d707a77b082e",
            "_dom_classes": [],
            "description": "",
            "_model_name": "HTMLModel",
            "placeholder": "​",
            "_view_module": "@jupyter-widgets/controls",
            "_model_module_version": "1.5.0",
            "value": " 7377418/7377418 [28:20&lt;00:00, 4339.02it/s]",
            "_view_count": null,
            "_view_module_version": "1.5.0",
            "description_tooltip": null,
            "_model_module": "@jupyter-widgets/controls",
            "layout": "IPY_MODEL_bfafcff81bc74e149f8c43544b5600b0"
          }
        },
        "1003c5ec26d346158b5325b04a572329": {
          "model_module": "@jupyter-widgets/controls",
          "model_name": "ProgressStyleModel",
          "state": {
            "_view_name": "StyleView",
            "_model_name": "ProgressStyleModel",
            "description_width": "initial",
            "_view_module": "@jupyter-widgets/base",
            "_model_module_version": "1.5.0",
            "_view_count": null,
            "_view_module_version": "1.2.0",
            "bar_color": null,
            "_model_module": "@jupyter-widgets/controls"
          }
        },
        "b9b06c40523d4381b6229dc15cc51e7a": {
          "model_module": "@jupyter-widgets/base",
          "model_name": "LayoutModel",
          "state": {
            "_view_name": "LayoutView",
            "grid_template_rows": null,
            "right": null,
            "justify_content": null,
            "_view_module": "@jupyter-widgets/base",
            "overflow": null,
            "_model_module_version": "1.2.0",
            "_view_count": null,
            "flex_flow": null,
            "width": null,
            "min_width": null,
            "border": null,
            "align_items": null,
            "bottom": null,
            "_model_module": "@jupyter-widgets/base",
            "top": null,
            "grid_column": null,
            "overflow_y": null,
            "overflow_x": null,
            "grid_auto_flow": null,
            "grid_area": null,
            "grid_template_columns": null,
            "flex": null,
            "_model_name": "LayoutModel",
            "justify_items": null,
            "grid_row": null,
            "max_height": null,
            "align_content": null,
            "visibility": null,
            "align_self": null,
            "height": null,
            "min_height": null,
            "padding": null,
            "grid_auto_rows": null,
            "grid_gap": null,
            "max_width": null,
            "order": null,
            "_view_module_version": "1.2.0",
            "grid_template_areas": null,
            "object_position": null,
            "object_fit": null,
            "grid_auto_columns": null,
            "margin": null,
            "display": null,
            "left": null
          }
        },
        "0489f89f5b314868ac52d707a77b082e": {
          "model_module": "@jupyter-widgets/controls",
          "model_name": "DescriptionStyleModel",
          "state": {
            "_view_name": "StyleView",
            "_model_name": "DescriptionStyleModel",
            "description_width": "",
            "_view_module": "@jupyter-widgets/base",
            "_model_module_version": "1.5.0",
            "_view_count": null,
            "_view_module_version": "1.2.0",
            "_model_module": "@jupyter-widgets/controls"
          }
        },
        "bfafcff81bc74e149f8c43544b5600b0": {
          "model_module": "@jupyter-widgets/base",
          "model_name": "LayoutModel",
          "state": {
            "_view_name": "LayoutView",
            "grid_template_rows": null,
            "right": null,
            "justify_content": null,
            "_view_module": "@jupyter-widgets/base",
            "overflow": null,
            "_model_module_version": "1.2.0",
            "_view_count": null,
            "flex_flow": null,
            "width": null,
            "min_width": null,
            "border": null,
            "align_items": null,
            "bottom": null,
            "_model_module": "@jupyter-widgets/base",
            "top": null,
            "grid_column": null,
            "overflow_y": null,
            "overflow_x": null,
            "grid_auto_flow": null,
            "grid_area": null,
            "grid_template_columns": null,
            "flex": null,
            "_model_name": "LayoutModel",
            "justify_items": null,
            "grid_row": null,
            "max_height": null,
            "align_content": null,
            "visibility": null,
            "align_self": null,
            "height": null,
            "min_height": null,
            "padding": null,
            "grid_auto_rows": null,
            "grid_gap": null,
            "max_width": null,
            "order": null,
            "_view_module_version": "1.2.0",
            "grid_template_areas": null,
            "object_position": null,
            "object_fit": null,
            "grid_auto_columns": null,
            "margin": null,
            "display": null,
            "left": null
          }
        },
        "167255cea9a141fdbe314c75495b0c20": {
          "model_module": "@jupyter-widgets/controls",
          "model_name": "HBoxModel",
          "state": {
            "_view_name": "HBoxView",
            "_dom_classes": [],
            "_model_name": "HBoxModel",
            "_view_module": "@jupyter-widgets/controls",
            "_model_module_version": "1.5.0",
            "_view_count": null,
            "_view_module_version": "1.5.0",
            "box_style": "",
            "layout": "IPY_MODEL_36c21506ae9745d79e52fa033304c488",
            "_model_module": "@jupyter-widgets/controls",
            "children": [
              "IPY_MODEL_8b4a3236a85d4e598ef4ff7fe6423ce9",
              "IPY_MODEL_7f97de79006a4c8eb80b31c733b1b369"
            ]
          }
        },
        "36c21506ae9745d79e52fa033304c488": {
          "model_module": "@jupyter-widgets/base",
          "model_name": "LayoutModel",
          "state": {
            "_view_name": "LayoutView",
            "grid_template_rows": null,
            "right": null,
            "justify_content": null,
            "_view_module": "@jupyter-widgets/base",
            "overflow": null,
            "_model_module_version": "1.2.0",
            "_view_count": null,
            "flex_flow": null,
            "width": null,
            "min_width": null,
            "border": null,
            "align_items": null,
            "bottom": null,
            "_model_module": "@jupyter-widgets/base",
            "top": null,
            "grid_column": null,
            "overflow_y": null,
            "overflow_x": null,
            "grid_auto_flow": null,
            "grid_area": null,
            "grid_template_columns": null,
            "flex": null,
            "_model_name": "LayoutModel",
            "justify_items": null,
            "grid_row": null,
            "max_height": null,
            "align_content": null,
            "visibility": null,
            "align_self": null,
            "height": null,
            "min_height": null,
            "padding": null,
            "grid_auto_rows": null,
            "grid_gap": null,
            "max_width": null,
            "order": null,
            "_view_module_version": "1.2.0",
            "grid_template_areas": null,
            "object_position": null,
            "object_fit": null,
            "grid_auto_columns": null,
            "margin": null,
            "display": null,
            "left": null
          }
        },
        "8b4a3236a85d4e598ef4ff7fe6423ce9": {
          "model_module": "@jupyter-widgets/controls",
          "model_name": "FloatProgressModel",
          "state": {
            "_view_name": "ProgressView",
            "style": "IPY_MODEL_b6c627e9f15a44f6b0ee9959da2e1ee7",
            "_dom_classes": [],
            "description": "100%",
            "_model_name": "FloatProgressModel",
            "bar_style": "success",
            "max": 30755,
            "_view_module": "@jupyter-widgets/controls",
            "_model_module_version": "1.5.0",
            "value": 30755,
            "_view_count": null,
            "_view_module_version": "1.5.0",
            "orientation": "horizontal",
            "min": 0,
            "description_tooltip": null,
            "_model_module": "@jupyter-widgets/controls",
            "layout": "IPY_MODEL_80d47b9f154f44b0918519c912dde712"
          }
        },
        "7f97de79006a4c8eb80b31c733b1b369": {
          "model_module": "@jupyter-widgets/controls",
          "model_name": "HTMLModel",
          "state": {
            "_view_name": "HTMLView",
            "style": "IPY_MODEL_7dd1c70509b64dd7a821441e5a075606",
            "_dom_classes": [],
            "description": "",
            "_model_name": "HTMLModel",
            "placeholder": "​",
            "_view_module": "@jupyter-widgets/controls",
            "_model_module_version": "1.5.0",
            "value": " 30755/30755 [03:39&lt;00:00, 140.29it/s]",
            "_view_count": null,
            "_view_module_version": "1.5.0",
            "description_tooltip": null,
            "_model_module": "@jupyter-widgets/controls",
            "layout": "IPY_MODEL_c92f8a156f5445b288588f32df92c97b"
          }
        },
        "b6c627e9f15a44f6b0ee9959da2e1ee7": {
          "model_module": "@jupyter-widgets/controls",
          "model_name": "ProgressStyleModel",
          "state": {
            "_view_name": "StyleView",
            "_model_name": "ProgressStyleModel",
            "description_width": "initial",
            "_view_module": "@jupyter-widgets/base",
            "_model_module_version": "1.5.0",
            "_view_count": null,
            "_view_module_version": "1.2.0",
            "bar_color": null,
            "_model_module": "@jupyter-widgets/controls"
          }
        },
        "80d47b9f154f44b0918519c912dde712": {
          "model_module": "@jupyter-widgets/base",
          "model_name": "LayoutModel",
          "state": {
            "_view_name": "LayoutView",
            "grid_template_rows": null,
            "right": null,
            "justify_content": null,
            "_view_module": "@jupyter-widgets/base",
            "overflow": null,
            "_model_module_version": "1.2.0",
            "_view_count": null,
            "flex_flow": null,
            "width": null,
            "min_width": null,
            "border": null,
            "align_items": null,
            "bottom": null,
            "_model_module": "@jupyter-widgets/base",
            "top": null,
            "grid_column": null,
            "overflow_y": null,
            "overflow_x": null,
            "grid_auto_flow": null,
            "grid_area": null,
            "grid_template_columns": null,
            "flex": null,
            "_model_name": "LayoutModel",
            "justify_items": null,
            "grid_row": null,
            "max_height": null,
            "align_content": null,
            "visibility": null,
            "align_self": null,
            "height": null,
            "min_height": null,
            "padding": null,
            "grid_auto_rows": null,
            "grid_gap": null,
            "max_width": null,
            "order": null,
            "_view_module_version": "1.2.0",
            "grid_template_areas": null,
            "object_position": null,
            "object_fit": null,
            "grid_auto_columns": null,
            "margin": null,
            "display": null,
            "left": null
          }
        },
        "7dd1c70509b64dd7a821441e5a075606": {
          "model_module": "@jupyter-widgets/controls",
          "model_name": "DescriptionStyleModel",
          "state": {
            "_view_name": "StyleView",
            "_model_name": "DescriptionStyleModel",
            "description_width": "",
            "_view_module": "@jupyter-widgets/base",
            "_model_module_version": "1.5.0",
            "_view_count": null,
            "_view_module_version": "1.2.0",
            "_model_module": "@jupyter-widgets/controls"
          }
        },
        "c92f8a156f5445b288588f32df92c97b": {
          "model_module": "@jupyter-widgets/base",
          "model_name": "LayoutModel",
          "state": {
            "_view_name": "LayoutView",
            "grid_template_rows": null,
            "right": null,
            "justify_content": null,
            "_view_module": "@jupyter-widgets/base",
            "overflow": null,
            "_model_module_version": "1.2.0",
            "_view_count": null,
            "flex_flow": null,
            "width": null,
            "min_width": null,
            "border": null,
            "align_items": null,
            "bottom": null,
            "_model_module": "@jupyter-widgets/base",
            "top": null,
            "grid_column": null,
            "overflow_y": null,
            "overflow_x": null,
            "grid_auto_flow": null,
            "grid_area": null,
            "grid_template_columns": null,
            "flex": null,
            "_model_name": "LayoutModel",
            "justify_items": null,
            "grid_row": null,
            "max_height": null,
            "align_content": null,
            "visibility": null,
            "align_self": null,
            "height": null,
            "min_height": null,
            "padding": null,
            "grid_auto_rows": null,
            "grid_gap": null,
            "max_width": null,
            "order": null,
            "_view_module_version": "1.2.0",
            "grid_template_areas": null,
            "object_position": null,
            "object_fit": null,
            "grid_auto_columns": null,
            "margin": null,
            "display": null,
            "left": null
          }
        },
        "0fb12254b4eb4fafbfd419d9a46e01f0": {
          "model_module": "@jupyter-widgets/controls",
          "model_name": "HBoxModel",
          "state": {
            "_view_name": "HBoxView",
            "_dom_classes": [],
            "_model_name": "HBoxModel",
            "_view_module": "@jupyter-widgets/controls",
            "_model_module_version": "1.5.0",
            "_view_count": null,
            "_view_module_version": "1.5.0",
            "box_style": "",
            "layout": "IPY_MODEL_4853d78ec4ff4e7899fc8ed752d4bfa7",
            "_model_module": "@jupyter-widgets/controls",
            "children": [
              "IPY_MODEL_0402643eb7c2431ca235104dbb058b69",
              "IPY_MODEL_dd22692dc70d455fa5fa53d02cf537b8"
            ]
          }
        },
        "4853d78ec4ff4e7899fc8ed752d4bfa7": {
          "model_module": "@jupyter-widgets/base",
          "model_name": "LayoutModel",
          "state": {
            "_view_name": "LayoutView",
            "grid_template_rows": null,
            "right": null,
            "justify_content": null,
            "_view_module": "@jupyter-widgets/base",
            "overflow": null,
            "_model_module_version": "1.2.0",
            "_view_count": null,
            "flex_flow": null,
            "width": null,
            "min_width": null,
            "border": null,
            "align_items": null,
            "bottom": null,
            "_model_module": "@jupyter-widgets/base",
            "top": null,
            "grid_column": null,
            "overflow_y": null,
            "overflow_x": null,
            "grid_auto_flow": null,
            "grid_area": null,
            "grid_template_columns": null,
            "flex": null,
            "_model_name": "LayoutModel",
            "justify_items": null,
            "grid_row": null,
            "max_height": null,
            "align_content": null,
            "visibility": null,
            "align_self": null,
            "height": null,
            "min_height": null,
            "padding": null,
            "grid_auto_rows": null,
            "grid_gap": null,
            "max_width": null,
            "order": null,
            "_view_module_version": "1.2.0",
            "grid_template_areas": null,
            "object_position": null,
            "object_fit": null,
            "grid_auto_columns": null,
            "margin": null,
            "display": null,
            "left": null
          }
        },
        "0402643eb7c2431ca235104dbb058b69": {
          "model_module": "@jupyter-widgets/controls",
          "model_name": "FloatProgressModel",
          "state": {
            "_view_name": "ProgressView",
            "style": "IPY_MODEL_e1911aaf9c8149019afdcfde3237cf15",
            "_dom_classes": [],
            "description": "100%",
            "_model_name": "FloatProgressModel",
            "bar_style": "success",
            "max": 7377418,
            "_view_module": "@jupyter-widgets/controls",
            "_model_module_version": "1.5.0",
            "value": 7377418,
            "_view_count": null,
            "_view_module_version": "1.5.0",
            "orientation": "horizontal",
            "min": 0,
            "description_tooltip": null,
            "_model_module": "@jupyter-widgets/controls",
            "layout": "IPY_MODEL_b72533878c8b40b4aa752e58747029b7"
          }
        },
        "dd22692dc70d455fa5fa53d02cf537b8": {
          "model_module": "@jupyter-widgets/controls",
          "model_name": "HTMLModel",
          "state": {
            "_view_name": "HTMLView",
            "style": "IPY_MODEL_3f1c11b9bf2b422b84d60ff5ad5f0362",
            "_dom_classes": [],
            "description": "",
            "_model_name": "HTMLModel",
            "placeholder": "​",
            "_view_module": "@jupyter-widgets/controls",
            "_model_module_version": "1.5.0",
            "value": " 7377418/7377418 [34:05&lt;00:00, 3606.75it/s]",
            "_view_count": null,
            "_view_module_version": "1.5.0",
            "description_tooltip": null,
            "_model_module": "@jupyter-widgets/controls",
            "layout": "IPY_MODEL_314f00d637b04fb78c4761a5614f98ab"
          }
        },
        "e1911aaf9c8149019afdcfde3237cf15": {
          "model_module": "@jupyter-widgets/controls",
          "model_name": "ProgressStyleModel",
          "state": {
            "_view_name": "StyleView",
            "_model_name": "ProgressStyleModel",
            "description_width": "initial",
            "_view_module": "@jupyter-widgets/base",
            "_model_module_version": "1.5.0",
            "_view_count": null,
            "_view_module_version": "1.2.0",
            "bar_color": null,
            "_model_module": "@jupyter-widgets/controls"
          }
        },
        "b72533878c8b40b4aa752e58747029b7": {
          "model_module": "@jupyter-widgets/base",
          "model_name": "LayoutModel",
          "state": {
            "_view_name": "LayoutView",
            "grid_template_rows": null,
            "right": null,
            "justify_content": null,
            "_view_module": "@jupyter-widgets/base",
            "overflow": null,
            "_model_module_version": "1.2.0",
            "_view_count": null,
            "flex_flow": null,
            "width": null,
            "min_width": null,
            "border": null,
            "align_items": null,
            "bottom": null,
            "_model_module": "@jupyter-widgets/base",
            "top": null,
            "grid_column": null,
            "overflow_y": null,
            "overflow_x": null,
            "grid_auto_flow": null,
            "grid_area": null,
            "grid_template_columns": null,
            "flex": null,
            "_model_name": "LayoutModel",
            "justify_items": null,
            "grid_row": null,
            "max_height": null,
            "align_content": null,
            "visibility": null,
            "align_self": null,
            "height": null,
            "min_height": null,
            "padding": null,
            "grid_auto_rows": null,
            "grid_gap": null,
            "max_width": null,
            "order": null,
            "_view_module_version": "1.2.0",
            "grid_template_areas": null,
            "object_position": null,
            "object_fit": null,
            "grid_auto_columns": null,
            "margin": null,
            "display": null,
            "left": null
          }
        },
        "3f1c11b9bf2b422b84d60ff5ad5f0362": {
          "model_module": "@jupyter-widgets/controls",
          "model_name": "DescriptionStyleModel",
          "state": {
            "_view_name": "StyleView",
            "_model_name": "DescriptionStyleModel",
            "description_width": "",
            "_view_module": "@jupyter-widgets/base",
            "_model_module_version": "1.5.0",
            "_view_count": null,
            "_view_module_version": "1.2.0",
            "_model_module": "@jupyter-widgets/controls"
          }
        },
        "314f00d637b04fb78c4761a5614f98ab": {
          "model_module": "@jupyter-widgets/base",
          "model_name": "LayoutModel",
          "state": {
            "_view_name": "LayoutView",
            "grid_template_rows": null,
            "right": null,
            "justify_content": null,
            "_view_module": "@jupyter-widgets/base",
            "overflow": null,
            "_model_module_version": "1.2.0",
            "_view_count": null,
            "flex_flow": null,
            "width": null,
            "min_width": null,
            "border": null,
            "align_items": null,
            "bottom": null,
            "_model_module": "@jupyter-widgets/base",
            "top": null,
            "grid_column": null,
            "overflow_y": null,
            "overflow_x": null,
            "grid_auto_flow": null,
            "grid_area": null,
            "grid_template_columns": null,
            "flex": null,
            "_model_name": "LayoutModel",
            "justify_items": null,
            "grid_row": null,
            "max_height": null,
            "align_content": null,
            "visibility": null,
            "align_self": null,
            "height": null,
            "min_height": null,
            "padding": null,
            "grid_auto_rows": null,
            "grid_gap": null,
            "max_width": null,
            "order": null,
            "_view_module_version": "1.2.0",
            "grid_template_areas": null,
            "object_position": null,
            "object_fit": null,
            "grid_auto_columns": null,
            "margin": null,
            "display": null,
            "left": null
          }
        },
        "67d9a47d65f646a488624b5543d8d3d9": {
          "model_module": "@jupyter-widgets/controls",
          "model_name": "HBoxModel",
          "state": {
            "_view_name": "HBoxView",
            "_dom_classes": [],
            "_model_name": "HBoxModel",
            "_view_module": "@jupyter-widgets/controls",
            "_model_module_version": "1.5.0",
            "_view_count": null,
            "_view_module_version": "1.5.0",
            "box_style": "",
            "layout": "IPY_MODEL_49f444d45f634661a46166c234d1bc71",
            "_model_module": "@jupyter-widgets/controls",
            "children": [
              "IPY_MODEL_1eddba43bfc942039328d7d38a6f590e",
              "IPY_MODEL_fd748ee664d44f38911528faa69e5943"
            ]
          }
        },
        "49f444d45f634661a46166c234d1bc71": {
          "model_module": "@jupyter-widgets/base",
          "model_name": "LayoutModel",
          "state": {
            "_view_name": "LayoutView",
            "grid_template_rows": null,
            "right": null,
            "justify_content": null,
            "_view_module": "@jupyter-widgets/base",
            "overflow": null,
            "_model_module_version": "1.2.0",
            "_view_count": null,
            "flex_flow": null,
            "width": null,
            "min_width": null,
            "border": null,
            "align_items": null,
            "bottom": null,
            "_model_module": "@jupyter-widgets/base",
            "top": null,
            "grid_column": null,
            "overflow_y": null,
            "overflow_x": null,
            "grid_auto_flow": null,
            "grid_area": null,
            "grid_template_columns": null,
            "flex": null,
            "_model_name": "LayoutModel",
            "justify_items": null,
            "grid_row": null,
            "max_height": null,
            "align_content": null,
            "visibility": null,
            "align_self": null,
            "height": null,
            "min_height": null,
            "padding": null,
            "grid_auto_rows": null,
            "grid_gap": null,
            "max_width": null,
            "order": null,
            "_view_module_version": "1.2.0",
            "grid_template_areas": null,
            "object_position": null,
            "object_fit": null,
            "grid_auto_columns": null,
            "margin": null,
            "display": null,
            "left": null
          }
        },
        "1eddba43bfc942039328d7d38a6f590e": {
          "model_module": "@jupyter-widgets/controls",
          "model_name": "FloatProgressModel",
          "state": {
            "_view_name": "ProgressView",
            "style": "IPY_MODEL_ee2cba03a358422b965452f13a465638",
            "_dom_classes": [],
            "description": "100%",
            "_model_name": "FloatProgressModel",
            "bar_style": "success",
            "max": 5,
            "_view_module": "@jupyter-widgets/controls",
            "_model_module_version": "1.5.0",
            "value": 5,
            "_view_count": null,
            "_view_module_version": "1.5.0",
            "orientation": "horizontal",
            "min": 0,
            "description_tooltip": null,
            "_model_module": "@jupyter-widgets/controls",
            "layout": "IPY_MODEL_dd8de7279f4940208fde6a3b3f9a5f17"
          }
        },
        "fd748ee664d44f38911528faa69e5943": {
          "model_module": "@jupyter-widgets/controls",
          "model_name": "HTMLModel",
          "state": {
            "_view_name": "HTMLView",
            "style": "IPY_MODEL_6eb434d758d849eb9038e26a35b24e4c",
            "_dom_classes": [],
            "description": "",
            "_model_name": "HTMLModel",
            "placeholder": "​",
            "_view_module": "@jupyter-widgets/controls",
            "_model_module_version": "1.5.0",
            "value": " 5/5 [32:52&lt;00:00, 394.44s/it]",
            "_view_count": null,
            "_view_module_version": "1.5.0",
            "description_tooltip": null,
            "_model_module": "@jupyter-widgets/controls",
            "layout": "IPY_MODEL_268ec992f2bc443a88f99adec99e0e62"
          }
        },
        "ee2cba03a358422b965452f13a465638": {
          "model_module": "@jupyter-widgets/controls",
          "model_name": "ProgressStyleModel",
          "state": {
            "_view_name": "StyleView",
            "_model_name": "ProgressStyleModel",
            "description_width": "initial",
            "_view_module": "@jupyter-widgets/base",
            "_model_module_version": "1.5.0",
            "_view_count": null,
            "_view_module_version": "1.2.0",
            "bar_color": null,
            "_model_module": "@jupyter-widgets/controls"
          }
        },
        "dd8de7279f4940208fde6a3b3f9a5f17": {
          "model_module": "@jupyter-widgets/base",
          "model_name": "LayoutModel",
          "state": {
            "_view_name": "LayoutView",
            "grid_template_rows": null,
            "right": null,
            "justify_content": null,
            "_view_module": "@jupyter-widgets/base",
            "overflow": null,
            "_model_module_version": "1.2.0",
            "_view_count": null,
            "flex_flow": null,
            "width": null,
            "min_width": null,
            "border": null,
            "align_items": null,
            "bottom": null,
            "_model_module": "@jupyter-widgets/base",
            "top": null,
            "grid_column": null,
            "overflow_y": null,
            "overflow_x": null,
            "grid_auto_flow": null,
            "grid_area": null,
            "grid_template_columns": null,
            "flex": null,
            "_model_name": "LayoutModel",
            "justify_items": null,
            "grid_row": null,
            "max_height": null,
            "align_content": null,
            "visibility": null,
            "align_self": null,
            "height": null,
            "min_height": null,
            "padding": null,
            "grid_auto_rows": null,
            "grid_gap": null,
            "max_width": null,
            "order": null,
            "_view_module_version": "1.2.0",
            "grid_template_areas": null,
            "object_position": null,
            "object_fit": null,
            "grid_auto_columns": null,
            "margin": null,
            "display": null,
            "left": null
          }
        },
        "6eb434d758d849eb9038e26a35b24e4c": {
          "model_module": "@jupyter-widgets/controls",
          "model_name": "DescriptionStyleModel",
          "state": {
            "_view_name": "StyleView",
            "_model_name": "DescriptionStyleModel",
            "description_width": "",
            "_view_module": "@jupyter-widgets/base",
            "_model_module_version": "1.5.0",
            "_view_count": null,
            "_view_module_version": "1.2.0",
            "_model_module": "@jupyter-widgets/controls"
          }
        },
        "268ec992f2bc443a88f99adec99e0e62": {
          "model_module": "@jupyter-widgets/base",
          "model_name": "LayoutModel",
          "state": {
            "_view_name": "LayoutView",
            "grid_template_rows": null,
            "right": null,
            "justify_content": null,
            "_view_module": "@jupyter-widgets/base",
            "overflow": null,
            "_model_module_version": "1.2.0",
            "_view_count": null,
            "flex_flow": null,
            "width": null,
            "min_width": null,
            "border": null,
            "align_items": null,
            "bottom": null,
            "_model_module": "@jupyter-widgets/base",
            "top": null,
            "grid_column": null,
            "overflow_y": null,
            "overflow_x": null,
            "grid_auto_flow": null,
            "grid_area": null,
            "grid_template_columns": null,
            "flex": null,
            "_model_name": "LayoutModel",
            "justify_items": null,
            "grid_row": null,
            "max_height": null,
            "align_content": null,
            "visibility": null,
            "align_self": null,
            "height": null,
            "min_height": null,
            "padding": null,
            "grid_auto_rows": null,
            "grid_gap": null,
            "max_width": null,
            "order": null,
            "_view_module_version": "1.2.0",
            "grid_template_areas": null,
            "object_position": null,
            "object_fit": null,
            "grid_auto_columns": null,
            "margin": null,
            "display": null,
            "left": null
          }
        }
      }
    }
  },
  "cells": [
    {
      "cell_type": "markdown",
      "metadata": {
        "id": "49UljZZnb8ZH"
      },
      "source": [
        "Датасет:\n",
        "https://www.kaggle.com/c/kkbox-music-recommendation-challenge/overview\n",
        "\n",
        "Можете мерять результат по 5-fold evaluation на train-set.\n",
        "\n",
        "Soft dead:\n",
        "25.10\n",
        "Dead dead:\n",
        "01.11"
      ]
    },
    {
      "cell_type": "code",
      "metadata": {
        "id": "Tu_JMycg3z0l",
        "outputId": "2fee67c2-13b1-4866-a29b-6496906a8788",
        "colab": {
          "base_uri": "https://localhost:8080/"
        }
      },
      "source": [
        "from google.colab import drive\n",
        "drive.mount('/content/drive')"
      ],
      "execution_count": 1,
      "outputs": [
        {
          "output_type": "stream",
          "text": [
            "Mounted at /content/drive\n"
          ],
          "name": "stdout"
        }
      ]
    },
    {
      "cell_type": "code",
      "metadata": {
        "id": "j_YWGzoe3P0F"
      },
      "source": [
        "!pip install -q kaggle\n",
        "!mkdir ~/.kaggle\n",
        "!cp '/content/drive/My Drive/AU/kaggle.json' ~/.kaggle\n",
        "!chmod 600 ~/.kaggle/kaggle.json"
      ],
      "execution_count": 2,
      "outputs": []
    },
    {
      "cell_type": "code",
      "metadata": {
        "id": "cuV9cudqcM-p",
        "outputId": "04aba860-5689-4a5c-9200-f5ac48ee8b4a",
        "colab": {
          "base_uri": "https://localhost:8080/"
        }
      },
      "source": [
        "!kaggle competitions download -c kkbox-music-recommendation-challenge"
      ],
      "execution_count": 3,
      "outputs": [
        {
          "output_type": "stream",
          "text": [
            "Warning: Looks like you're using an outdated API Version, please consider updating (server 1.5.9 / client 1.5.4)\n",
            "Downloading sample_submission.csv.7z to /content\n",
            "  0% 0.00/453k [00:00<?, ?B/s]\n",
            "100% 453k/453k [00:00<00:00, 68.4MB/s]\n",
            "Downloading song_extra_info.csv.7z to /content\n",
            " 90% 89.0M/98.8M [00:00<00:00, 90.7MB/s]\n",
            "100% 98.8M/98.8M [00:00<00:00, 113MB/s] \n",
            "Downloading songs.csv.7z to /content\n",
            " 97% 98.0M/101M [00:01<00:00, 63.4MB/s]\n",
            "100% 101M/101M [00:01<00:00, 72.0MB/s] \n",
            "Downloading test.csv.7z to /content\n",
            " 81% 34.0M/41.9M [00:00<00:00, 87.2MB/s]\n",
            "100% 41.9M/41.9M [00:00<00:00, 118MB/s] \n",
            "Downloading members.csv.7z to /content\n",
            "  0% 0.00/1.29M [00:00<?, ?B/s]\n",
            "100% 1.29M/1.29M [00:00<00:00, 182MB/s]\n",
            "Downloading train.csv.7z to /content\n",
            " 87% 88.0M/101M [00:01<00:00, 50.1MB/s]\n",
            "100% 101M/101M [00:01<00:00, 58.5MB/s] \n"
          ],
          "name": "stdout"
        }
      ]
    },
    {
      "cell_type": "markdown",
      "metadata": {
        "id": "3cQl8hedb8ZH"
      },
      "source": [
        "# Импорты"
      ]
    },
    {
      "cell_type": "code",
      "metadata": {
        "id": "-Jf2Nyb-chnb",
        "outputId": "406bbf1a-45a8-4868-b45f-348c243b235b",
        "colab": {
          "base_uri": "https://localhost:8080/"
        }
      },
      "source": [
        "!pip install shap"
      ],
      "execution_count": 44,
      "outputs": [
        {
          "output_type": "stream",
          "text": [
            "Collecting shap\n",
            "\u001b[?25l  Downloading https://files.pythonhosted.org/packages/d2/17/37ee6c79cafbd9bb7423b54e55ea90beec66aa7638664d607bcc28de0bae/shap-0.36.0.tar.gz (319kB)\n",
            "\u001b[K     |████████████████████████████████| 327kB 3.8MB/s \n",
            "\u001b[?25hRequirement already satisfied: numpy in /usr/local/lib/python3.6/dist-packages (from shap) (1.18.5)\n",
            "Requirement already satisfied: scipy in /usr/local/lib/python3.6/dist-packages (from shap) (1.4.1)\n",
            "Requirement already satisfied: scikit-learn in /usr/local/lib/python3.6/dist-packages (from shap) (0.22.2.post1)\n",
            "Requirement already satisfied: pandas in /usr/local/lib/python3.6/dist-packages (from shap) (1.1.3)\n",
            "Requirement already satisfied: tqdm>4.25.0 in /usr/local/lib/python3.6/dist-packages (from shap) (4.41.1)\n",
            "Collecting slicer\n",
            "  Downloading https://files.pythonhosted.org/packages/46/cf/f37ac7f61214ed044b0df91252ab19376de5587926c5b572f060eb7bf257/slicer-0.0.4-py3-none-any.whl\n",
            "Requirement already satisfied: numba in /usr/local/lib/python3.6/dist-packages (from shap) (0.48.0)\n",
            "Requirement already satisfied: joblib>=0.11 in /usr/local/lib/python3.6/dist-packages (from scikit-learn->shap) (0.17.0)\n",
            "Requirement already satisfied: python-dateutil>=2.7.3 in /usr/local/lib/python3.6/dist-packages (from pandas->shap) (2.8.1)\n",
            "Requirement already satisfied: pytz>=2017.2 in /usr/local/lib/python3.6/dist-packages (from pandas->shap) (2018.9)\n",
            "Requirement already satisfied: llvmlite<0.32.0,>=0.31.0dev0 in /usr/local/lib/python3.6/dist-packages (from numba->shap) (0.31.0)\n",
            "Requirement already satisfied: setuptools in /usr/local/lib/python3.6/dist-packages (from numba->shap) (50.3.2)\n",
            "Requirement already satisfied: six>=1.5 in /usr/local/lib/python3.6/dist-packages (from python-dateutil>=2.7.3->pandas->shap) (1.15.0)\n",
            "Building wheels for collected packages: shap\n",
            "  Building wheel for shap (setup.py) ... \u001b[?25l\u001b[?25hdone\n",
            "  Created wheel for shap: filename=shap-0.36.0-cp36-cp36m-linux_x86_64.whl size=456461 sha256=5909ed285b1311a311fec8ecc8c963fbde45da987f34fce38817ffeeb4da146b\n",
            "  Stored in directory: /root/.cache/pip/wheels/fb/15/e1/8f61106790da27e0765aaa6e664550ca2c50ea339099e799f4\n",
            "Successfully built shap\n",
            "Installing collected packages: slicer, shap\n",
            "Successfully installed shap-0.36.0 slicer-0.0.4\n"
          ],
          "name": "stdout"
        }
      ]
    },
    {
      "cell_type": "code",
      "metadata": {
        "init_cell": true,
        "id": "cAQbSh8ub8ZH"
      },
      "source": [
        "import pandas as pd\n",
        "import xgboost as xgb\n",
        "import numpy as np\n",
        "from sklearn.preprocessing import OneHotEncoder, MultiLabelBinarizer\n",
        "import datetime\n",
        "import matplotlib.pyplot as plt\n",
        "from re import split\n",
        "from tqdm.auto import tqdm\n",
        "from sklearn.metrics import roc_auc_score\n",
        "from sklearn.model_selection import train_test_split, StratifiedKFold\n",
        "import lightgbm as lgb\n",
        "from gensim.models import Word2Vec\n",
        "from collections import defaultdict\n",
        "import shap\n",
        "import multiprocessing\n",
        "import logging  # Setting up the loggings to monitor gensim\n",
        "logging.basicConfig(format=\"%(levelname)s - %(asctime)s: %(message)s\", datefmt= '%H:%M:%S', level=logging.INFO)"
      ],
      "execution_count": 45,
      "outputs": []
    },
    {
      "cell_type": "markdown",
      "metadata": {
        "id": "igCUAvxLb8ZK"
      },
      "source": [
        "# Данные"
      ]
    },
    {
      "cell_type": "code",
      "metadata": {
        "id": "lYBynaAy6Uya",
        "outputId": "ff4da00a-2d13-45a9-c671-83d460da6945",
        "colab": {
          "base_uri": "https://localhost:8080/"
        }
      },
      "source": [
        "!7z x \"members.csv.7z\"\n",
        "!7z x \"song_extra_info.csv.7z\"\n",
        "!7z x \"songs.csv.7z\"\n",
        "!7z x \"test.csv.7z\"\n",
        "!7z x \"train.csv.7z\""
      ],
      "execution_count": 5,
      "outputs": [
        {
          "output_type": "stream",
          "text": [
            "\n",
            "7-Zip [64] 16.02 : Copyright (c) 1999-2016 Igor Pavlov : 2016-05-21\n",
            "p7zip Version 16.02 (locale=en_US.UTF-8,Utf16=on,HugeFiles=on,64 bits,2 CPUs Intel(R) Xeon(R) CPU @ 2.20GHz (406F0),ASM,AES-NI)\n",
            "\n",
            "Scanning the drive for archives:\n",
            "  0M Scan\b\b\b\b\b\b\b\b\b         \b\b\b\b\b\b\b\b\b1 file, 1349856 bytes (1319 KiB)\n",
            "\n",
            "Extracting archive: members.csv.7z\n",
            "--\n",
            "Path = members.csv.7z\n",
            "Type = 7z\n",
            "Physical Size = 1349856\n",
            "Headers Size = 130\n",
            "Method = LZMA2:3m\n",
            "Solid = -\n",
            "Blocks = 1\n",
            "\n",
            "  0%\b\b\b\b    \b\b\b\bEverything is Ok\n",
            "\n",
            "Size:       2503827\n",
            "Compressed: 1349856\n",
            "\n",
            "7-Zip [64] 16.02 : Copyright (c) 1999-2016 Igor Pavlov : 2016-05-21\n",
            "p7zip Version 16.02 (locale=en_US.UTF-8,Utf16=on,HugeFiles=on,64 bits,2 CPUs Intel(R) Xeon(R) CPU @ 2.20GHz (406F0),ASM,AES-NI)\n",
            "\n",
            "Scanning the drive for archives:\n",
            "  0M Scan\b\b\b\b\b\b\b\b\b         \b\b\b\b\b\b\b\b\b1 file, 103608205 bytes (99 MiB)\n",
            "\n",
            "Extracting archive: song_extra_info.csv.7z\n",
            "--\n",
            "Path = song_extra_info.csv.7z\n",
            "Type = 7z\n",
            "Physical Size = 103608205\n",
            "Headers Size = 140\n",
            "Method = LZMA:25\n",
            "Solid = -\n",
            "Blocks = 1\n",
            "\n",
            "  0%\b\b\b\b    \b\b\b\b  1% - song_extra_info.csv\b\b\b\b\b\b\b\b\b\b\b\b\b\b\b\b\b\b\b\b\b\b\b\b\b\b                          \b\b\b\b\b\b\b\b\b\b\b\b\b\b\b\b\b\b\b\b\b\b\b\b\b\b  4% - song_extra_info.csv\b\b\b\b\b\b\b\b\b\b\b\b\b\b\b\b\b\b\b\b\b\b\b\b\b\b                          \b\b\b\b\b\b\b\b\b\b\b\b\b\b\b\b\b\b\b\b\b\b\b\b\b\b  6% - song_extra_info.csv\b\b\b\b\b\b\b\b\b\b\b\b\b\b\b\b\b\b\b\b\b\b\b\b\b\b                          \b\b\b\b\b\b\b\b\b\b\b\b\b\b\b\b\b\b\b\b\b\b\b\b\b\b  9% - song_extra_info.csv\b\b\b\b\b\b\b\b\b\b\b\b\b\b\b\b\b\b\b\b\b\b\b\b\b\b                          \b\b\b\b\b\b\b\b\b\b\b\b\b\b\b\b\b\b\b\b\b\b\b\b\b\b 11% - song_extra_info.csv\b\b\b\b\b\b\b\b\b\b\b\b\b\b\b\b\b\b\b\b\b\b\b\b\b\b                          \b\b\b\b\b\b\b\b\b\b\b\b\b\b\b\b\b\b\b\b\b\b\b\b\b\b 13% - song_extra_info.csv\b\b\b\b\b\b\b\b\b\b\b\b\b\b\b\b\b\b\b\b\b\b\b\b\b\b                          \b\b\b\b\b\b\b\b\b\b\b\b\b\b\b\b\b\b\b\b\b\b\b\b\b\b 16% - song_extra_info.csv\b\b\b\b\b\b\b\b\b\b\b\b\b\b\b\b\b\b\b\b\b\b\b\b\b\b                          \b\b\b\b\b\b\b\b\b\b\b\b\b\b\b\b\b\b\b\b\b\b\b\b\b\b 19% - song_extra_info.csv\b\b\b\b\b\b\b\b\b\b\b\b\b\b\b\b\b\b\b\b\b\b\b\b\b\b                          \b\b\b\b\b\b\b\b\b\b\b\b\b\b\b\b\b\b\b\b\b\b\b\b\b\b 22% - song_extra_info.csv\b\b\b\b\b\b\b\b\b\b\b\b\b\b\b\b\b\b\b\b\b\b\b\b\b\b                          \b\b\b\b\b\b\b\b\b\b\b\b\b\b\b\b\b\b\b\b\b\b\b\b\b\b 25% - song_extra_info.csv\b\b\b\b\b\b\b\b\b\b\b\b\b\b\b\b\b\b\b\b\b\b\b\b\b\b                          \b\b\b\b\b\b\b\b\b\b\b\b\b\b\b\b\b\b\b\b\b\b\b\b\b\b 28% - song_extra_info.csv\b\b\b\b\b\b\b\b\b\b\b\b\b\b\b\b\b\b\b\b\b\b\b\b\b\b                          \b\b\b\b\b\b\b\b\b\b\b\b\b\b\b\b\b\b\b\b\b\b\b\b\b\b 31% - song_extra_info.csv\b\b\b\b\b\b\b\b\b\b\b\b\b\b\b\b\b\b\b\b\b\b\b\b\b\b                          \b\b\b\b\b\b\b\b\b\b\b\b\b\b\b\b\b\b\b\b\b\b\b\b\b\b 34% - song_extra_info.csv\b\b\b\b\b\b\b\b\b\b\b\b\b\b\b\b\b\b\b\b\b\b\b\b\b\b                          \b\b\b\b\b\b\b\b\b\b\b\b\b\b\b\b\b\b\b\b\b\b\b\b\b\b 38% - song_extra_info.csv\b\b\b\b\b\b\b\b\b\b\b\b\b\b\b\b\b\b\b\b\b\b\b\b\b\b                          \b\b\b\b\b\b\b\b\b\b\b\b\b\b\b\b\b\b\b\b\b\b\b\b\b\b 41% - song_extra_info.csv\b\b\b\b\b\b\b\b\b\b\b\b\b\b\b\b\b\b\b\b\b\b\b\b\b\b                          \b\b\b\b\b\b\b\b\b\b\b\b\b\b\b\b\b\b\b\b\b\b\b\b\b\b 44% - song_extra_info.csv\b\b\b\b\b\b\b\b\b\b\b\b\b\b\b\b\b\b\b\b\b\b\b\b\b\b                          \b\b\b\b\b\b\b\b\b\b\b\b\b\b\b\b\b\b\b\b\b\b\b\b\b\b 47% - song_extra_info.csv\b\b\b\b\b\b\b\b\b\b\b\b\b\b\b\b\b\b\b\b\b\b\b\b\b\b                          \b\b\b\b\b\b\b\b\b\b\b\b\b\b\b\b\b\b\b\b\b\b\b\b\b\b 50% - song_extra_info.csv\b\b\b\b\b\b\b\b\b\b\b\b\b\b\b\b\b\b\b\b\b\b\b\b\b\b                          \b\b\b\b\b\b\b\b\b\b\b\b\b\b\b\b\b\b\b\b\b\b\b\b\b\b 53% - song_extra_info.csv\b\b\b\b\b\b\b\b\b\b\b\b\b\b\b\b\b\b\b\b\b\b\b\b\b\b                          \b\b\b\b\b\b\b\b\b\b\b\b\b\b\b\b\b\b\b\b\b\b\b\b\b\b 55% - song_extra_info.csv\b\b\b\b\b\b\b\b\b\b\b\b\b\b\b\b\b\b\b\b\b\b\b\b\b\b                          \b\b\b\b\b\b\b\b\b\b\b\b\b\b\b\b\b\b\b\b\b\b\b\b\b\b 58% - song_extra_info.csv\b\b\b\b\b\b\b\b\b\b\b\b\b\b\b\b\b\b\b\b\b\b\b\b\b\b                          \b\b\b\b\b\b\b\b\b\b\b\b\b\b\b\b\b\b\b\b\b\b\b\b\b\b 61% - song_extra_info.csv\b\b\b\b\b\b\b\b\b\b\b\b\b\b\b\b\b\b\b\b\b\b\b\b\b\b                          \b\b\b\b\b\b\b\b\b\b\b\b\b\b\b\b\b\b\b\b\b\b\b\b\b\b 64% - song_extra_info.csv\b\b\b\b\b\b\b\b\b\b\b\b\b\b\b\b\b\b\b\b\b\b\b\b\b\b                          \b\b\b\b\b\b\b\b\b\b\b\b\b\b\b\b\b\b\b\b\b\b\b\b\b\b 67% - song_extra_info.csv\b\b\b\b\b\b\b\b\b\b\b\b\b\b\b\b\b\b\b\b\b\b\b\b\b\b                          \b\b\b\b\b\b\b\b\b\b\b\b\b\b\b\b\b\b\b\b\b\b\b\b\b\b 69% - song_extra_info.csv\b\b\b\b\b\b\b\b\b\b\b\b\b\b\b\b\b\b\b\b\b\b\b\b\b\b                          \b\b\b\b\b\b\b\b\b\b\b\b\b\b\b\b\b\b\b\b\b\b\b\b\b\b 71% - song_extra_info.csv\b\b\b\b\b\b\b\b\b\b\b\b\b\b\b\b\b\b\b\b\b\b\b\b\b\b                          \b\b\b\b\b\b\b\b\b\b\b\b\b\b\b\b\b\b\b\b\b\b\b\b\b\b 74% - song_extra_info.csv\b\b\b\b\b\b\b\b\b\b\b\b\b\b\b\b\b\b\b\b\b\b\b\b\b\b                          \b\b\b\b\b\b\b\b\b\b\b\b\b\b\b\b\b\b\b\b\b\b\b\b\b\b 76% - song_extra_info.csv\b\b\b\b\b\b\b\b\b\b\b\b\b\b\b\b\b\b\b\b\b\b\b\b\b\b                          \b\b\b\b\b\b\b\b\b\b\b\b\b\b\b\b\b\b\b\b\b\b\b\b\b\b 79% - song_extra_info.csv\b\b\b\b\b\b\b\b\b\b\b\b\b\b\b\b\b\b\b\b\b\b\b\b\b\b                          \b\b\b\b\b\b\b\b\b\b\b\b\b\b\b\b\b\b\b\b\b\b\b\b\b\b 82% - song_extra_info.csv\b\b\b\b\b\b\b\b\b\b\b\b\b\b\b\b\b\b\b\b\b\b\b\b\b\b                          \b\b\b\b\b\b\b\b\b\b\b\b\b\b\b\b\b\b\b\b\b\b\b\b\b\b 85% - song_extra_info.csv\b\b\b\b\b\b\b\b\b\b\b\b\b\b\b\b\b\b\b\b\b\b\b\b\b\b                          \b\b\b\b\b\b\b\b\b\b\b\b\b\b\b\b\b\b\b\b\b\b\b\b\b\b 88% - song_extra_info.csv\b\b\b\b\b\b\b\b\b\b\b\b\b\b\b\b\b\b\b\b\b\b\b\b\b\b                          \b\b\b\b\b\b\b\b\b\b\b\b\b\b\b\b\b\b\b\b\b\b\b\b\b\b 90% - song_extra_info.csv\b\b\b\b\b\b\b\b\b\b\b\b\b\b\b\b\b\b\b\b\b\b\b\b\b\b                          \b\b\b\b\b\b\b\b\b\b\b\b\b\b\b\b\b\b\b\b\b\b\b\b\b\b 94% - song_extra_info.csv\b\b\b\b\b\b\b\b\b\b\b\b\b\b\b\b\b\b\b\b\b\b\b\b\b\b                          \b\b\b\b\b\b\b\b\b\b\b\b\b\b\b\b\b\b\b\b\b\b\b\b\b\b 97% - song_extra_info.csv\b\b\b\b\b\b\b\b\b\b\b\b\b\b\b\b\b\b\b\b\b\b\b\b\b\b                          \b\b\b\b\b\b\b\b\b\b\b\b\b\b\b\b\b\b\b\b\b\b\b\b\b\b 99% - song_extra_info.csv\b\b\b\b\b\b\b\b\b\b\b\b\b\b\b\b\b\b\b\b\b\b\b\b\b\b                          \b\b\b\b\b\b\b\b\b\b\b\b\b\b\b\b\b\b\b\b\b\b\b\b\b\bEverything is Ok\n",
            "\n",
            "Size:       181010294\n",
            "Compressed: 103608205\n",
            "\n",
            "7-Zip [64] 16.02 : Copyright (c) 1999-2016 Igor Pavlov : 2016-05-21\n",
            "p7zip Version 16.02 (locale=en_US.UTF-8,Utf16=on,HugeFiles=on,64 bits,2 CPUs Intel(R) Xeon(R) CPU @ 2.20GHz (406F0),ASM,AES-NI)\n",
            "\n",
            "Scanning the drive for archives:\n",
            "  0M Scan\b\b\b\b\b\b\b\b\b         \b\b\b\b\b\b\b\b\b1 file, 105809525 bytes (101 MiB)\n",
            "\n",
            "Extracting archive: songs.csv.7z\n",
            "--\n",
            "Path = songs.csv.7z\n",
            "Type = 7z\n",
            "Physical Size = 105809525\n",
            "Headers Size = 122\n",
            "Method = LZMA2:24\n",
            "Solid = -\n",
            "Blocks = 1\n",
            "\n",
            "  0%\b\b\b\b    \b\b\b\b  2% - songs.csv\b\b\b\b\b\b\b\b\b\b\b\b\b\b\b\b                \b\b\b\b\b\b\b\b\b\b\b\b\b\b\b\b  5% - songs.csv\b\b\b\b\b\b\b\b\b\b\b\b\b\b\b\b                \b\b\b\b\b\b\b\b\b\b\b\b\b\b\b\b  9% - songs.csv\b\b\b\b\b\b\b\b\b\b\b\b\b\b\b\b                \b\b\b\b\b\b\b\b\b\b\b\b\b\b\b\b 12% - songs.csv\b\b\b\b\b\b\b\b\b\b\b\b\b\b\b\b                \b\b\b\b\b\b\b\b\b\b\b\b\b\b\b\b 15% - songs.csv\b\b\b\b\b\b\b\b\b\b\b\b\b\b\b\b                \b\b\b\b\b\b\b\b\b\b\b\b\b\b\b\b 18% - songs.csv\b\b\b\b\b\b\b\b\b\b\b\b\b\b\b\b                \b\b\b\b\b\b\b\b\b\b\b\b\b\b\b\b 20% - songs.csv\b\b\b\b\b\b\b\b\b\b\b\b\b\b\b\b                \b\b\b\b\b\b\b\b\b\b\b\b\b\b\b\b 23% - songs.csv\b\b\b\b\b\b\b\b\b\b\b\b\b\b\b\b                \b\b\b\b\b\b\b\b\b\b\b\b\b\b\b\b 26% - songs.csv\b\b\b\b\b\b\b\b\b\b\b\b\b\b\b\b                \b\b\b\b\b\b\b\b\b\b\b\b\b\b\b\b 29% - songs.csv\b\b\b\b\b\b\b\b\b\b\b\b\b\b\b\b                \b\b\b\b\b\b\b\b\b\b\b\b\b\b\b\b 32% - songs.csv\b\b\b\b\b\b\b\b\b\b\b\b\b\b\b\b                \b\b\b\b\b\b\b\b\b\b\b\b\b\b\b\b 35% - songs.csv\b\b\b\b\b\b\b\b\b\b\b\b\b\b\b\b                \b\b\b\b\b\b\b\b\b\b\b\b\b\b\b\b 37% - songs.csv\b\b\b\b\b\b\b\b\b\b\b\b\b\b\b\b                \b\b\b\b\b\b\b\b\b\b\b\b\b\b\b\b 41% - songs.csv\b\b\b\b\b\b\b\b\b\b\b\b\b\b\b\b                \b\b\b\b\b\b\b\b\b\b\b\b\b\b\b\b 43% - songs.csv\b\b\b\b\b\b\b\b\b\b\b\b\b\b\b\b                \b\b\b\b\b\b\b\b\b\b\b\b\b\b\b\b 46% - songs.csv\b\b\b\b\b\b\b\b\b\b\b\b\b\b\b\b                \b\b\b\b\b\b\b\b\b\b\b\b\b\b\b\b 49% - songs.csv\b\b\b\b\b\b\b\b\b\b\b\b\b\b\b\b                \b\b\b\b\b\b\b\b\b\b\b\b\b\b\b\b 50% - songs.csv\b\b\b\b\b\b\b\b\b\b\b\b\b\b\b\b                \b\b\b\b\b\b\b\b\b\b\b\b\b\b\b\b 53% - songs.csv\b\b\b\b\b\b\b\b\b\b\b\b\b\b\b\b                \b\b\b\b\b\b\b\b\b\b\b\b\b\b\b\b 56% - songs.csv\b\b\b\b\b\b\b\b\b\b\b\b\b\b\b\b                \b\b\b\b\b\b\b\b\b\b\b\b\b\b\b\b 59% - songs.csv\b\b\b\b\b\b\b\b\b\b\b\b\b\b\b\b                \b\b\b\b\b\b\b\b\b\b\b\b\b\b\b\b 62% - songs.csv\b\b\b\b\b\b\b\b\b\b\b\b\b\b\b\b                \b\b\b\b\b\b\b\b\b\b\b\b\b\b\b\b 65% - songs.csv\b\b\b\b\b\b\b\b\b\b\b\b\b\b\b\b                \b\b\b\b\b\b\b\b\b\b\b\b\b\b\b\b 68% - songs.csv\b\b\b\b\b\b\b\b\b\b\b\b\b\b\b\b                \b\b\b\b\b\b\b\b\b\b\b\b\b\b\b\b 70% - songs.csv\b\b\b\b\b\b\b\b\b\b\b\b\b\b\b\b                \b\b\b\b\b\b\b\b\b\b\b\b\b\b\b\b 73% - songs.csv\b\b\b\b\b\b\b\b\b\b\b\b\b\b\b\b                \b\b\b\b\b\b\b\b\b\b\b\b\b\b\b\b 76% - songs.csv\b\b\b\b\b\b\b\b\b\b\b\b\b\b\b\b                \b\b\b\b\b\b\b\b\b\b\b\b\b\b\b\b 79% - songs.csv\b\b\b\b\b\b\b\b\b\b\b\b\b\b\b\b                \b\b\b\b\b\b\b\b\b\b\b\b\b\b\b\b 82% - songs.csv\b\b\b\b\b\b\b\b\b\b\b\b\b\b\b\b                \b\b\b\b\b\b\b\b\b\b\b\b\b\b\b\b 85% - songs.csv\b\b\b\b\b\b\b\b\b\b\b\b\b\b\b\b                \b\b\b\b\b\b\b\b\b\b\b\b\b\b\b\b 87% - songs.csv\b\b\b\b\b\b\b\b\b\b\b\b\b\b\b\b                \b\b\b\b\b\b\b\b\b\b\b\b\b\b\b\b 90% - songs.csv\b\b\b\b\b\b\b\b\b\b\b\b\b\b\b\b                \b\b\b\b\b\b\b\b\b\b\b\b\b\b\b\b 92% - songs.csv\b\b\b\b\b\b\b\b\b\b\b\b\b\b\b\b                \b\b\b\b\b\b\b\b\b\b\b\b\b\b\b\b 95% - songs.csv\b\b\b\b\b\b\b\b\b\b\b\b\b\b\b\b                \b\b\b\b\b\b\b\b\b\b\b\b\b\b\b\b 98% - songs.csv\b\b\b\b\b\b\b\b\b\b\b\b\b\b\b\b                \b\b\b\b\b\b\b\b\b\b\b\b\b\b\b\bEverything is Ok\n",
            "\n",
            "Size:       221828666\n",
            "Compressed: 105809525\n",
            "\n",
            "7-Zip [64] 16.02 : Copyright (c) 1999-2016 Igor Pavlov : 2016-05-21\n",
            "p7zip Version 16.02 (locale=en_US.UTF-8,Utf16=on,HugeFiles=on,64 bits,2 CPUs Intel(R) Xeon(R) CPU @ 2.20GHz (406F0),ASM,AES-NI)\n",
            "\n",
            "Scanning the drive for archives:\n",
            "  0M Scan\b\b\b\b\b\b\b\b\b         \b\b\b\b\b\b\b\b\b1 file, 43925208 bytes (42 MiB)\n",
            "\n",
            "Extracting archive: test.csv.7z\n",
            "--\n",
            "Path = test.csv.7z\n",
            "Type = 7z\n",
            "Physical Size = 43925208\n",
            "Headers Size = 122\n",
            "Method = LZMA2:24\n",
            "Solid = -\n",
            "Blocks = 1\n",
            "\n",
            "  0%\b\b\b\b    \b\b\b\b  4% - test.csv\b\b\b\b\b\b\b\b\b\b\b\b\b\b\b               \b\b\b\b\b\b\b\b\b\b\b\b\b\b\b  9% - test.csv\b\b\b\b\b\b\b\b\b\b\b\b\b\b\b               \b\b\b\b\b\b\b\b\b\b\b\b\b\b\b 14% - test.csv\b\b\b\b\b\b\b\b\b\b\b\b\b\b\b               \b\b\b\b\b\b\b\b\b\b\b\b\b\b\b 19% - test.csv\b\b\b\b\b\b\b\b\b\b\b\b\b\b\b               \b\b\b\b\b\b\b\b\b\b\b\b\b\b\b 22% - test.csv\b\b\b\b\b\b\b\b\b\b\b\b\b\b\b               \b\b\b\b\b\b\b\b\b\b\b\b\b\b\b 28% - test.csv\b\b\b\b\b\b\b\b\b\b\b\b\b\b\b               \b\b\b\b\b\b\b\b\b\b\b\b\b\b\b 33% - test.csv\b\b\b\b\b\b\b\b\b\b\b\b\b\b\b               \b\b\b\b\b\b\b\b\b\b\b\b\b\b\b 39% - test.csv\b\b\b\b\b\b\b\b\b\b\b\b\b\b\b               \b\b\b\b\b\b\b\b\b\b\b\b\b\b\b 45% - test.csv\b\b\b\b\b\b\b\b\b\b\b\b\b\b\b               \b\b\b\b\b\b\b\b\b\b\b\b\b\b\b 49% - test.csv\b\b\b\b\b\b\b\b\b\b\b\b\b\b\b               \b\b\b\b\b\b\b\b\b\b\b\b\b\b\b 54% - test.csv\b\b\b\b\b\b\b\b\b\b\b\b\b\b\b               \b\b\b\b\b\b\b\b\b\b\b\b\b\b\b 59% - test.csv\b\b\b\b\b\b\b\b\b\b\b\b\b\b\b               \b\b\b\b\b\b\b\b\b\b\b\b\b\b\b 63% - test.csv\b\b\b\b\b\b\b\b\b\b\b\b\b\b\b               \b\b\b\b\b\b\b\b\b\b\b\b\b\b\b 69% - test.csv\b\b\b\b\b\b\b\b\b\b\b\b\b\b\b               \b\b\b\b\b\b\b\b\b\b\b\b\b\b\b 74% - test.csv\b\b\b\b\b\b\b\b\b\b\b\b\b\b\b               \b\b\b\b\b\b\b\b\b\b\b\b\b\b\b 79% - test.csv\b\b\b\b\b\b\b\b\b\b\b\b\b\b\b               \b\b\b\b\b\b\b\b\b\b\b\b\b\b\b 84% - test.csv\b\b\b\b\b\b\b\b\b\b\b\b\b\b\b               \b\b\b\b\b\b\b\b\b\b\b\b\b\b\b 90% - test.csv\b\b\b\b\b\b\b\b\b\b\b\b\b\b\b               \b\b\b\b\b\b\b\b\b\b\b\b\b\b\b 96% - test.csv\b\b\b\b\b\b\b\b\b\b\b\b\b\b\b               \b\b\b\b\b\b\b\b\b\b\b\b\b\b\b100% 1\b\b\b\b\b\b      \b\b\b\b\b\bEverything is Ok\n",
            "\n",
            "Size:       347789925\n",
            "Compressed: 43925208\n",
            "\n",
            "7-Zip [64] 16.02 : Copyright (c) 1999-2016 Igor Pavlov : 2016-05-21\n",
            "p7zip Version 16.02 (locale=en_US.UTF-8,Utf16=on,HugeFiles=on,64 bits,2 CPUs Intel(R) Xeon(R) CPU @ 2.20GHz (406F0),ASM,AES-NI)\n",
            "\n",
            "Scanning the drive for archives:\n",
            "  0M Scan\b\b\b\b\b\b\b\b\b         \b\b\b\b\b\b\b\b\b1 file, 106420688 bytes (102 MiB)\n",
            "\n",
            "Extracting archive: train.csv.7z\n",
            "--\n",
            "Path = train.csv.7z\n",
            "Type = 7z\n",
            "Physical Size = 106420688\n",
            "Headers Size = 122\n",
            "Method = LZMA2:24\n",
            "Solid = -\n",
            "Blocks = 1\n",
            "\n",
            "  0%\b\b\b\b    \b\b\b\b  1% - train.csv\b\b\b\b\b\b\b\b\b\b\b\b\b\b\b\b                \b\b\b\b\b\b\b\b\b\b\b\b\b\b\b\b  3% - train.csv\b\b\b\b\b\b\b\b\b\b\b\b\b\b\b\b                \b\b\b\b\b\b\b\b\b\b\b\b\b\b\b\b  6% - train.csv\b\b\b\b\b\b\b\b\b\b\b\b\b\b\b\b                \b\b\b\b\b\b\b\b\b\b\b\b\b\b\b\b  8% - train.csv\b\b\b\b\b\b\b\b\b\b\b\b\b\b\b\b                \b\b\b\b\b\b\b\b\b\b\b\b\b\b\b\b 10% - train.csv\b\b\b\b\b\b\b\b\b\b\b\b\b\b\b\b                \b\b\b\b\b\b\b\b\b\b\b\b\b\b\b\b 12% - train.csv\b\b\b\b\b\b\b\b\b\b\b\b\b\b\b\b                \b\b\b\b\b\b\b\b\b\b\b\b\b\b\b\b 14% - train.csv\b\b\b\b\b\b\b\b\b\b\b\b\b\b\b\b                \b\b\b\b\b\b\b\b\b\b\b\b\b\b\b\b 16% - train.csv\b\b\b\b\b\b\b\b\b\b\b\b\b\b\b\b                \b\b\b\b\b\b\b\b\b\b\b\b\b\b\b\b 18% - train.csv\b\b\b\b\b\b\b\b\b\b\b\b\b\b\b\b                \b\b\b\b\b\b\b\b\b\b\b\b\b\b\b\b 21% - train.csv\b\b\b\b\b\b\b\b\b\b\b\b\b\b\b\b                \b\b\b\b\b\b\b\b\b\b\b\b\b\b\b\b 23% - train.csv\b\b\b\b\b\b\b\b\b\b\b\b\b\b\b\b                \b\b\b\b\b\b\b\b\b\b\b\b\b\b\b\b 25% - train.csv\b\b\b\b\b\b\b\b\b\b\b\b\b\b\b\b                \b\b\b\b\b\b\b\b\b\b\b\b\b\b\b\b 27% - train.csv\b\b\b\b\b\b\b\b\b\b\b\b\b\b\b\b                \b\b\b\b\b\b\b\b\b\b\b\b\b\b\b\b 28% - train.csv\b\b\b\b\b\b\b\b\b\b\b\b\b\b\b\b                \b\b\b\b\b\b\b\b\b\b\b\b\b\b\b\b 31% - train.csv\b\b\b\b\b\b\b\b\b\b\b\b\b\b\b\b                \b\b\b\b\b\b\b\b\b\b\b\b\b\b\b\b 33% - train.csv\b\b\b\b\b\b\b\b\b\b\b\b\b\b\b\b                \b\b\b\b\b\b\b\b\b\b\b\b\b\b\b\b 35% - train.csv\b\b\b\b\b\b\b\b\b\b\b\b\b\b\b\b                \b\b\b\b\b\b\b\b\b\b\b\b\b\b\b\b 37% - train.csv\b\b\b\b\b\b\b\b\b\b\b\b\b\b\b\b                \b\b\b\b\b\b\b\b\b\b\b\b\b\b\b\b 39% - train.csv\b\b\b\b\b\b\b\b\b\b\b\b\b\b\b\b                \b\b\b\b\b\b\b\b\b\b\b\b\b\b\b\b 41% - train.csv\b\b\b\b\b\b\b\b\b\b\b\b\b\b\b\b                \b\b\b\b\b\b\b\b\b\b\b\b\b\b\b\b 43% - train.csv\b\b\b\b\b\b\b\b\b\b\b\b\b\b\b\b                \b\b\b\b\b\b\b\b\b\b\b\b\b\b\b\b 45% - train.csv\b\b\b\b\b\b\b\b\b\b\b\b\b\b\b\b                \b\b\b\b\b\b\b\b\b\b\b\b\b\b\b\b 47% - train.csv\b\b\b\b\b\b\b\b\b\b\b\b\b\b\b\b                \b\b\b\b\b\b\b\b\b\b\b\b\b\b\b\b 48% - train.csv\b\b\b\b\b\b\b\b\b\b\b\b\b\b\b\b                \b\b\b\b\b\b\b\b\b\b\b\b\b\b\b\b 50% - train.csv\b\b\b\b\b\b\b\b\b\b\b\b\b\b\b\b                \b\b\b\b\b\b\b\b\b\b\b\b\b\b\b\b 52% - train.csv\b\b\b\b\b\b\b\b\b\b\b\b\b\b\b\b                \b\b\b\b\b\b\b\b\b\b\b\b\b\b\b\b 54% - train.csv\b\b\b\b\b\b\b\b\b\b\b\b\b\b\b\b                \b\b\b\b\b\b\b\b\b\b\b\b\b\b\b\b 56% - train.csv\b\b\b\b\b\b\b\b\b\b\b\b\b\b\b\b                \b\b\b\b\b\b\b\b\b\b\b\b\b\b\b\b 58% - train.csv\b\b\b\b\b\b\b\b\b\b\b\b\b\b\b\b                \b\b\b\b\b\b\b\b\b\b\b\b\b\b\b\b 60% - train.csv\b\b\b\b\b\b\b\b\b\b\b\b\b\b\b\b                \b\b\b\b\b\b\b\b\b\b\b\b\b\b\b\b 62% - train.csv\b\b\b\b\b\b\b\b\b\b\b\b\b\b\b\b                \b\b\b\b\b\b\b\b\b\b\b\b\b\b\b\b 64% - train.csv\b\b\b\b\b\b\b\b\b\b\b\b\b\b\b\b                \b\b\b\b\b\b\b\b\b\b\b\b\b\b\b\b 66% - train.csv\b\b\b\b\b\b\b\b\b\b\b\b\b\b\b\b                \b\b\b\b\b\b\b\b\b\b\b\b\b\b\b\b 68% - train.csv\b\b\b\b\b\b\b\b\b\b\b\b\b\b\b\b                \b\b\b\b\b\b\b\b\b\b\b\b\b\b\b\b 70% - train.csv\b\b\b\b\b\b\b\b\b\b\b\b\b\b\b\b                \b\b\b\b\b\b\b\b\b\b\b\b\b\b\b\b 72% - train.csv\b\b\b\b\b\b\b\b\b\b\b\b\b\b\b\b                \b\b\b\b\b\b\b\b\b\b\b\b\b\b\b\b 74% - train.csv\b\b\b\b\b\b\b\b\b\b\b\b\b\b\b\b                \b\b\b\b\b\b\b\b\b\b\b\b\b\b\b\b 76% - train.csv\b\b\b\b\b\b\b\b\b\b\b\b\b\b\b\b                \b\b\b\b\b\b\b\b\b\b\b\b\b\b\b\b 78% - train.csv\b\b\b\b\b\b\b\b\b\b\b\b\b\b\b\b                \b\b\b\b\b\b\b\b\b\b\b\b\b\b\b\b 80% - train.csv\b\b\b\b\b\b\b\b\b\b\b\b\b\b\b\b                \b\b\b\b\b\b\b\b\b\b\b\b\b\b\b\b 82% - train.csv\b\b\b\b\b\b\b\b\b\b\b\b\b\b\b\b                \b\b\b\b\b\b\b\b\b\b\b\b\b\b\b\b 84% - train.csv\b\b\b\b\b\b\b\b\b\b\b\b\b\b\b\b                \b\b\b\b\b\b\b\b\b\b\b\b\b\b\b\b 86% - train.csv\b\b\b\b\b\b\b\b\b\b\b\b\b\b\b\b                \b\b\b\b\b\b\b\b\b\b\b\b\b\b\b\b 88% - train.csv\b\b\b\b\b\b\b\b\b\b\b\b\b\b\b\b                \b\b\b\b\b\b\b\b\b\b\b\b\b\b\b\b 90% - train.csv\b\b\b\b\b\b\b\b\b\b\b\b\b\b\b\b                \b\b\b\b\b\b\b\b\b\b\b\b\b\b\b\b 91% - train.csv\b\b\b\b\b\b\b\b\b\b\b\b\b\b\b\b                \b\b\b\b\b\b\b\b\b\b\b\b\b\b\b\b 93% - train.csv\b\b\b\b\b\b\b\b\b\b\b\b\b\b\b\b                \b\b\b\b\b\b\b\b\b\b\b\b\b\b\b\b 95% - train.csv\b\b\b\b\b\b\b\b\b\b\b\b\b\b\b\b                \b\b\b\b\b\b\b\b\b\b\b\b\b\b\b\b 97% - train.csv\b\b\b\b\b\b\b\b\b\b\b\b\b\b\b\b                \b\b\b\b\b\b\b\b\b\b\b\b\b\b\b\b 99% - train.csv\b\b\b\b\b\b\b\b\b\b\b\b\b\b\b\b                \b\b\b\b\b\b\b\b\b\b\b\b\b\b\b\bEverything is Ok\n",
            "\n",
            "Size:       971675848\n",
            "Compressed: 106420688\n"
          ],
          "name": "stdout"
        }
      ]
    },
    {
      "cell_type": "code",
      "metadata": {
        "init_cell": true,
        "id": "NBNOeN0Qb8ZK"
      },
      "source": [
        "dataset_path = \"\"\n",
        "members = pd.read_csv(dataset_path + \"members.csv\", dtype={'msno': str,\n",
        "                                                           'city': 'category',\n",
        "                                                           'registered_via': 'category'},\n",
        "                      parse_dates=['registration_init_time', 'expiration_date'])\n",
        "song_extra_info = pd.read_csv(dataset_path + \"song_extra_info.csv\", dtype={'name': 'category',\n",
        "                                                                           'song_id': str})\n",
        "songs = pd.read_csv(dataset_path + \"songs.csv\", dtype={'msno': str,\n",
        "                                                       'language': 'category',\n",
        "                                                       'song_id': str})\n",
        "test = pd.read_csv(dataset_path + \"test.csv\", dtype={'msno': str,\n",
        "                                                     'song_id': str,\n",
        "                                                     'source_system_tab': 'category',\n",
        "                                                     'source_screen_name': 'category',\n",
        "                                                     'source_type': 'category'})\n",
        "train = pd.read_csv(dataset_path + \"train.csv\", dtype={'msno': str,\n",
        "                                                       'song_id': str,\n",
        "                                                       'source_system_tab': 'category',\n",
        "                                                       'source_screen_name': 'category',\n",
        "                                                       'source_type': 'category',\n",
        "                                                       'target': int})"
      ],
      "execution_count": 8,
      "outputs": []
    },
    {
      "cell_type": "code",
      "metadata": {
        "id": "UwATQ1Khb8ZM",
        "outputId": "d5adf268-1e14-4082-d510-3940944e98cb",
        "colab": {
          "base_uri": "https://localhost:8080/",
          "height": 439
        }
      },
      "source": [
        "members"
      ],
      "execution_count": 13,
      "outputs": [
        {
          "output_type": "execute_result",
          "data": {
            "text/html": [
              "<div>\n",
              "<style scoped>\n",
              "    .dataframe tbody tr th:only-of-type {\n",
              "        vertical-align: middle;\n",
              "    }\n",
              "\n",
              "    .dataframe tbody tr th {\n",
              "        vertical-align: top;\n",
              "    }\n",
              "\n",
              "    .dataframe thead th {\n",
              "        text-align: right;\n",
              "    }\n",
              "</style>\n",
              "<table border=\"1\" class=\"dataframe\">\n",
              "  <thead>\n",
              "    <tr style=\"text-align: right;\">\n",
              "      <th></th>\n",
              "      <th>msno</th>\n",
              "      <th>city</th>\n",
              "      <th>bd</th>\n",
              "      <th>gender</th>\n",
              "      <th>registered_via</th>\n",
              "      <th>registration_init_time</th>\n",
              "      <th>expiration_date</th>\n",
              "    </tr>\n",
              "  </thead>\n",
              "  <tbody>\n",
              "    <tr>\n",
              "      <th>0</th>\n",
              "      <td>XQxgAYj3klVKjR3oxPPXYYFp4soD4TuBghkhMTD4oTw=</td>\n",
              "      <td>1</td>\n",
              "      <td>0</td>\n",
              "      <td>NaN</td>\n",
              "      <td>7</td>\n",
              "      <td>2011-08-20</td>\n",
              "      <td>2017-09-20</td>\n",
              "    </tr>\n",
              "    <tr>\n",
              "      <th>1</th>\n",
              "      <td>UizsfmJb9mV54qE9hCYyU07Va97c0lCRLEQX3ae+ztM=</td>\n",
              "      <td>1</td>\n",
              "      <td>0</td>\n",
              "      <td>NaN</td>\n",
              "      <td>7</td>\n",
              "      <td>2015-06-28</td>\n",
              "      <td>2017-06-22</td>\n",
              "    </tr>\n",
              "    <tr>\n",
              "      <th>2</th>\n",
              "      <td>D8nEhsIOBSoE6VthTaqDX8U6lqjJ7dLdr72mOyLya2A=</td>\n",
              "      <td>1</td>\n",
              "      <td>0</td>\n",
              "      <td>NaN</td>\n",
              "      <td>4</td>\n",
              "      <td>2016-04-11</td>\n",
              "      <td>2017-07-12</td>\n",
              "    </tr>\n",
              "    <tr>\n",
              "      <th>3</th>\n",
              "      <td>mCuD+tZ1hERA/o5GPqk38e041J8ZsBaLcu7nGoIIvhI=</td>\n",
              "      <td>1</td>\n",
              "      <td>0</td>\n",
              "      <td>NaN</td>\n",
              "      <td>9</td>\n",
              "      <td>2015-09-06</td>\n",
              "      <td>2015-09-07</td>\n",
              "    </tr>\n",
              "    <tr>\n",
              "      <th>4</th>\n",
              "      <td>q4HRBfVSssAFS9iRfxWrohxuk9kCYMKjHOEagUMV6rQ=</td>\n",
              "      <td>1</td>\n",
              "      <td>0</td>\n",
              "      <td>NaN</td>\n",
              "      <td>4</td>\n",
              "      <td>2017-01-26</td>\n",
              "      <td>2017-06-13</td>\n",
              "    </tr>\n",
              "    <tr>\n",
              "      <th>...</th>\n",
              "      <td>...</td>\n",
              "      <td>...</td>\n",
              "      <td>...</td>\n",
              "      <td>...</td>\n",
              "      <td>...</td>\n",
              "      <td>...</td>\n",
              "      <td>...</td>\n",
              "    </tr>\n",
              "    <tr>\n",
              "      <th>34398</th>\n",
              "      <td>Wwd/cudKVuLJ3txRVxlg2Zaeliu+LRUfiBmfrnxhRCY=</td>\n",
              "      <td>1</td>\n",
              "      <td>0</td>\n",
              "      <td>NaN</td>\n",
              "      <td>7</td>\n",
              "      <td>2013-11-11</td>\n",
              "      <td>2017-09-10</td>\n",
              "    </tr>\n",
              "    <tr>\n",
              "      <th>34399</th>\n",
              "      <td>g3JGnJX6Hg50lFbrNWfsHwCUmApIkiv2M8sXOaeXoIQ=</td>\n",
              "      <td>4</td>\n",
              "      <td>18</td>\n",
              "      <td>male</td>\n",
              "      <td>3</td>\n",
              "      <td>2014-10-24</td>\n",
              "      <td>2017-05-18</td>\n",
              "    </tr>\n",
              "    <tr>\n",
              "      <th>34400</th>\n",
              "      <td>IMaPMJuyN+ip9Vqi+z2XuXbFAP2kbHr+EvvCNkFfj+o=</td>\n",
              "      <td>1</td>\n",
              "      <td>0</td>\n",
              "      <td>NaN</td>\n",
              "      <td>7</td>\n",
              "      <td>2013-08-02</td>\n",
              "      <td>2017-09-08</td>\n",
              "    </tr>\n",
              "    <tr>\n",
              "      <th>34401</th>\n",
              "      <td>WAnCAJjUty9Stv8yKtV7ZC7PN+ilOy5FX3aIJgGPANM=</td>\n",
              "      <td>1</td>\n",
              "      <td>0</td>\n",
              "      <td>NaN</td>\n",
              "      <td>7</td>\n",
              "      <td>2015-10-20</td>\n",
              "      <td>2017-09-20</td>\n",
              "    </tr>\n",
              "    <tr>\n",
              "      <th>34402</th>\n",
              "      <td>xH8KpzKGeNNq6dOvy51c/8VzqOiGG+m6vabhsPSDHX4=</td>\n",
              "      <td>1</td>\n",
              "      <td>0</td>\n",
              "      <td>NaN</td>\n",
              "      <td>4</td>\n",
              "      <td>2016-08-15</td>\n",
              "      <td>2016-08-18</td>\n",
              "    </tr>\n",
              "  </tbody>\n",
              "</table>\n",
              "<p>34403 rows × 7 columns</p>\n",
              "</div>"
            ],
            "text/plain": [
              "                                               msno  ... expiration_date\n",
              "0      XQxgAYj3klVKjR3oxPPXYYFp4soD4TuBghkhMTD4oTw=  ...      2017-09-20\n",
              "1      UizsfmJb9mV54qE9hCYyU07Va97c0lCRLEQX3ae+ztM=  ...      2017-06-22\n",
              "2      D8nEhsIOBSoE6VthTaqDX8U6lqjJ7dLdr72mOyLya2A=  ...      2017-07-12\n",
              "3      mCuD+tZ1hERA/o5GPqk38e041J8ZsBaLcu7nGoIIvhI=  ...      2015-09-07\n",
              "4      q4HRBfVSssAFS9iRfxWrohxuk9kCYMKjHOEagUMV6rQ=  ...      2017-06-13\n",
              "...                                             ...  ...             ...\n",
              "34398  Wwd/cudKVuLJ3txRVxlg2Zaeliu+LRUfiBmfrnxhRCY=  ...      2017-09-10\n",
              "34399  g3JGnJX6Hg50lFbrNWfsHwCUmApIkiv2M8sXOaeXoIQ=  ...      2017-05-18\n",
              "34400  IMaPMJuyN+ip9Vqi+z2XuXbFAP2kbHr+EvvCNkFfj+o=  ...      2017-09-08\n",
              "34401  WAnCAJjUty9Stv8yKtV7ZC7PN+ilOy5FX3aIJgGPANM=  ...      2017-09-20\n",
              "34402  xH8KpzKGeNNq6dOvy51c/8VzqOiGG+m6vabhsPSDHX4=  ...      2016-08-18\n",
              "\n",
              "[34403 rows x 7 columns]"
            ]
          },
          "metadata": {
            "tags": []
          },
          "execution_count": 13
        }
      ]
    },
    {
      "cell_type": "code",
      "metadata": {
        "id": "NaTk7w3Qb8ZP",
        "outputId": "2f2d5414-6f99-4e4f-bb95-9284c1ed3168"
      },
      "source": [
        "songs"
      ],
      "execution_count": null,
      "outputs": [
        {
          "output_type": "execute_result",
          "data": {
            "text/html": [
              "<div>\n",
              "<style scoped>\n",
              "    .dataframe tbody tr th:only-of-type {\n",
              "        vertical-align: middle;\n",
              "    }\n",
              "\n",
              "    .dataframe tbody tr th {\n",
              "        vertical-align: top;\n",
              "    }\n",
              "\n",
              "    .dataframe thead th {\n",
              "        text-align: right;\n",
              "    }\n",
              "</style>\n",
              "<table border=\"1\" class=\"dataframe\">\n",
              "  <thead>\n",
              "    <tr style=\"text-align: right;\">\n",
              "      <th></th>\n",
              "      <th>song_id</th>\n",
              "      <th>song_length</th>\n",
              "      <th>genre_ids</th>\n",
              "      <th>artist_name</th>\n",
              "      <th>composer</th>\n",
              "      <th>lyricist</th>\n",
              "      <th>language</th>\n",
              "    </tr>\n",
              "  </thead>\n",
              "  <tbody>\n",
              "    <tr>\n",
              "      <th>0</th>\n",
              "      <td>CXoTN1eb7AI+DntdU1vbcwGRV4SCIDxZu+YD8JP8r4E=</td>\n",
              "      <td>247640</td>\n",
              "      <td>465</td>\n",
              "      <td>張信哲 (Jeff Chang)</td>\n",
              "      <td>董貞</td>\n",
              "      <td>何啟弘</td>\n",
              "      <td>3.0</td>\n",
              "    </tr>\n",
              "    <tr>\n",
              "      <th>1</th>\n",
              "      <td>o0kFgae9QtnYgRkVPqLJwa05zIhRlUjfF7O1tDw0ZDU=</td>\n",
              "      <td>197328</td>\n",
              "      <td>444</td>\n",
              "      <td>BLACKPINK</td>\n",
              "      <td>TEDDY|  FUTURE BOUNCE|  Bekuh BOOM</td>\n",
              "      <td>TEDDY</td>\n",
              "      <td>31.0</td>\n",
              "    </tr>\n",
              "    <tr>\n",
              "      <th>2</th>\n",
              "      <td>DwVvVurfpuz+XPuFvucclVQEyPqcpUkHR0ne1RQzPs0=</td>\n",
              "      <td>231781</td>\n",
              "      <td>465</td>\n",
              "      <td>SUPER JUNIOR</td>\n",
              "      <td>NaN</td>\n",
              "      <td>NaN</td>\n",
              "      <td>31.0</td>\n",
              "    </tr>\n",
              "    <tr>\n",
              "      <th>3</th>\n",
              "      <td>dKMBWoZyScdxSkihKG+Vf47nc18N9q4m58+b4e7dSSE=</td>\n",
              "      <td>273554</td>\n",
              "      <td>465</td>\n",
              "      <td>S.H.E</td>\n",
              "      <td>湯小康</td>\n",
              "      <td>徐世珍</td>\n",
              "      <td>3.0</td>\n",
              "    </tr>\n",
              "    <tr>\n",
              "      <th>4</th>\n",
              "      <td>W3bqWd3T+VeHFzHAUfARgW9AvVRaF4N5Yzm4Mr6Eo/o=</td>\n",
              "      <td>140329</td>\n",
              "      <td>726</td>\n",
              "      <td>貴族精選</td>\n",
              "      <td>Traditional</td>\n",
              "      <td>Traditional</td>\n",
              "      <td>52.0</td>\n",
              "    </tr>\n",
              "    <tr>\n",
              "      <th>...</th>\n",
              "      <td>...</td>\n",
              "      <td>...</td>\n",
              "      <td>...</td>\n",
              "      <td>...</td>\n",
              "      <td>...</td>\n",
              "      <td>...</td>\n",
              "      <td>...</td>\n",
              "    </tr>\n",
              "    <tr>\n",
              "      <th>2296315</th>\n",
              "      <td>lg6rn7eV/ZNg0+P+x77kHUL7GDMfoL4eMtXxncseLNA=</td>\n",
              "      <td>20192</td>\n",
              "      <td>958</td>\n",
              "      <td>Catherine Collard</td>\n",
              "      <td>Robert Schumann (1810-1856)</td>\n",
              "      <td>NaN</td>\n",
              "      <td>-1.0</td>\n",
              "    </tr>\n",
              "    <tr>\n",
              "      <th>2296316</th>\n",
              "      <td>nXi1lrSJe+gLoTTNky7If0mNPrIyCQCLwagwR6XopGU=</td>\n",
              "      <td>273391</td>\n",
              "      <td>465</td>\n",
              "      <td>紀文惠 (Justine Chi)</td>\n",
              "      <td>NaN</td>\n",
              "      <td>NaN</td>\n",
              "      <td>3.0</td>\n",
              "    </tr>\n",
              "    <tr>\n",
              "      <th>2296317</th>\n",
              "      <td>9KxSvIjbJyJzfEVWnkMbgR6dyn6d54ot0N5FKyKqii8=</td>\n",
              "      <td>445172</td>\n",
              "      <td>1609</td>\n",
              "      <td>Various Artists</td>\n",
              "      <td>NaN</td>\n",
              "      <td>NaN</td>\n",
              "      <td>52.0</td>\n",
              "    </tr>\n",
              "    <tr>\n",
              "      <th>2296318</th>\n",
              "      <td>UO8Y2MR2sjOn2q/Tp8/lzZTGKmLEvwZ20oWanG4XnYc=</td>\n",
              "      <td>172669</td>\n",
              "      <td>465</td>\n",
              "      <td>Peter Paul &amp; Mary</td>\n",
              "      <td>NaN</td>\n",
              "      <td>NaN</td>\n",
              "      <td>52.0</td>\n",
              "    </tr>\n",
              "    <tr>\n",
              "      <th>2296319</th>\n",
              "      <td>V/9qPSUOGT0FeIGBhDIZRRz5Y5yyjdXC2Z/+bJExo5s=</td>\n",
              "      <td>270466</td>\n",
              "      <td>829</td>\n",
              "      <td>Kim Robertson</td>\n",
              "      <td>NaN</td>\n",
              "      <td>NaN</td>\n",
              "      <td>52.0</td>\n",
              "    </tr>\n",
              "  </tbody>\n",
              "</table>\n",
              "<p>2296320 rows × 7 columns</p>\n",
              "</div>"
            ],
            "text/plain": [
              "                                              song_id  song_length genre_ids  \\\n",
              "0        CXoTN1eb7AI+DntdU1vbcwGRV4SCIDxZu+YD8JP8r4E=       247640       465   \n",
              "1        o0kFgae9QtnYgRkVPqLJwa05zIhRlUjfF7O1tDw0ZDU=       197328       444   \n",
              "2        DwVvVurfpuz+XPuFvucclVQEyPqcpUkHR0ne1RQzPs0=       231781       465   \n",
              "3        dKMBWoZyScdxSkihKG+Vf47nc18N9q4m58+b4e7dSSE=       273554       465   \n",
              "4        W3bqWd3T+VeHFzHAUfARgW9AvVRaF4N5Yzm4Mr6Eo/o=       140329       726   \n",
              "...                                               ...          ...       ...   \n",
              "2296315  lg6rn7eV/ZNg0+P+x77kHUL7GDMfoL4eMtXxncseLNA=        20192       958   \n",
              "2296316  nXi1lrSJe+gLoTTNky7If0mNPrIyCQCLwagwR6XopGU=       273391       465   \n",
              "2296317  9KxSvIjbJyJzfEVWnkMbgR6dyn6d54ot0N5FKyKqii8=       445172      1609   \n",
              "2296318  UO8Y2MR2sjOn2q/Tp8/lzZTGKmLEvwZ20oWanG4XnYc=       172669       465   \n",
              "2296319  V/9qPSUOGT0FeIGBhDIZRRz5Y5yyjdXC2Z/+bJExo5s=       270466       829   \n",
              "\n",
              "               artist_name                            composer     lyricist  \\\n",
              "0         張信哲 (Jeff Chang)                                  董貞          何啟弘   \n",
              "1                BLACKPINK  TEDDY|  FUTURE BOUNCE|  Bekuh BOOM        TEDDY   \n",
              "2             SUPER JUNIOR                                 NaN          NaN   \n",
              "3                    S.H.E                                 湯小康          徐世珍   \n",
              "4                     貴族精選                         Traditional  Traditional   \n",
              "...                    ...                                 ...          ...   \n",
              "2296315  Catherine Collard         Robert Schumann (1810-1856)          NaN   \n",
              "2296316  紀文惠 (Justine Chi)                                 NaN          NaN   \n",
              "2296317    Various Artists                                 NaN          NaN   \n",
              "2296318  Peter Paul & Mary                                 NaN          NaN   \n",
              "2296319      Kim Robertson                                 NaN          NaN   \n",
              "\n",
              "        language  \n",
              "0            3.0  \n",
              "1           31.0  \n",
              "2           31.0  \n",
              "3            3.0  \n",
              "4           52.0  \n",
              "...          ...  \n",
              "2296315     -1.0  \n",
              "2296316      3.0  \n",
              "2296317     52.0  \n",
              "2296318     52.0  \n",
              "2296319     52.0  \n",
              "\n",
              "[2296320 rows x 7 columns]"
            ]
          },
          "metadata": {
            "tags": []
          },
          "execution_count": 81
        }
      ]
    },
    {
      "cell_type": "code",
      "metadata": {
        "id": "baghENrob8ZS",
        "outputId": "0c6e37af-c894-4b38-8741-60ffb6f61457"
      },
      "source": [
        "song_extra_info"
      ],
      "execution_count": null,
      "outputs": [
        {
          "output_type": "execute_result",
          "data": {
            "text/html": [
              "<div>\n",
              "<style scoped>\n",
              "    .dataframe tbody tr th:only-of-type {\n",
              "        vertical-align: middle;\n",
              "    }\n",
              "\n",
              "    .dataframe tbody tr th {\n",
              "        vertical-align: top;\n",
              "    }\n",
              "\n",
              "    .dataframe thead th {\n",
              "        text-align: right;\n",
              "    }\n",
              "</style>\n",
              "<table border=\"1\" class=\"dataframe\">\n",
              "  <thead>\n",
              "    <tr style=\"text-align: right;\">\n",
              "      <th></th>\n",
              "      <th>song_id</th>\n",
              "      <th>name</th>\n",
              "      <th>isrc</th>\n",
              "    </tr>\n",
              "  </thead>\n",
              "  <tbody>\n",
              "    <tr>\n",
              "      <th>0</th>\n",
              "      <td>LP7pLJoJFBvyuUwvu+oLzjT+bI+UeBPURCecJsX1jjs=</td>\n",
              "      <td>我們</td>\n",
              "      <td>TWUM71200043</td>\n",
              "    </tr>\n",
              "    <tr>\n",
              "      <th>1</th>\n",
              "      <td>ClazTFnk6r0Bnuie44bocdNMM3rdlrq0bCGAsGUWcHE=</td>\n",
              "      <td>Let Me Love You</td>\n",
              "      <td>QMZSY1600015</td>\n",
              "    </tr>\n",
              "    <tr>\n",
              "      <th>2</th>\n",
              "      <td>u2ja/bZE3zhCGxvbbOB3zOoUjx27u40cf5g09UXMoKQ=</td>\n",
              "      <td>原諒我</td>\n",
              "      <td>TWA530887303</td>\n",
              "    </tr>\n",
              "    <tr>\n",
              "      <th>3</th>\n",
              "      <td>92Fqsy0+p6+RHe2EoLKjHahORHR1Kq1TBJoClW9v+Ts=</td>\n",
              "      <td>Classic</td>\n",
              "      <td>USSM11301446</td>\n",
              "    </tr>\n",
              "    <tr>\n",
              "      <th>4</th>\n",
              "      <td>0QFmz/+rJy1Q56C1DuYqT9hKKqi5TUqx0sN0IwvoHrw=</td>\n",
              "      <td>愛投羅網</td>\n",
              "      <td>TWA471306001</td>\n",
              "    </tr>\n",
              "    <tr>\n",
              "      <th>...</th>\n",
              "      <td>...</td>\n",
              "      <td>...</td>\n",
              "      <td>...</td>\n",
              "    </tr>\n",
              "    <tr>\n",
              "      <th>2295966</th>\n",
              "      <td>hLnetpF6UbPg28sSfXnPE2vsdaGsLvddlXEdJR4VTIA=</td>\n",
              "      <td>Deep Breathing</td>\n",
              "      <td>PLL431720793</td>\n",
              "    </tr>\n",
              "    <tr>\n",
              "      <th>2295967</th>\n",
              "      <td>N+6vJ8actKQm0S3Fpf4elipTjoAo9ev28aA5FJN5e40=</td>\n",
              "      <td>In Hiding</td>\n",
              "      <td>US5UL1519827</td>\n",
              "    </tr>\n",
              "    <tr>\n",
              "      <th>2295968</th>\n",
              "      <td>pv35uG0ts05mWtirM/AMOWEzbHxIVart5ZzRXqKUY1c=</td>\n",
              "      <td>Il Est Ne Le Divin Enfant</td>\n",
              "      <td>PLL431502294</td>\n",
              "    </tr>\n",
              "    <tr>\n",
              "      <th>2295969</th>\n",
              "      <td>QSySnm8jt2Go7byY34/PxsZP6dPCins2j2cyYquNhBo=</td>\n",
              "      <td>The Exodus Song</td>\n",
              "      <td>DEPZ69316095</td>\n",
              "    </tr>\n",
              "    <tr>\n",
              "      <th>2295970</th>\n",
              "      <td>DYKJKSgDOKxb19XzOVO81176qTH0OIHCsfzFRm/BG+g=</td>\n",
              "      <td>Like This</td>\n",
              "      <td>US5UL1512426</td>\n",
              "    </tr>\n",
              "  </tbody>\n",
              "</table>\n",
              "<p>2295971 rows × 3 columns</p>\n",
              "</div>"
            ],
            "text/plain": [
              "                                              song_id  \\\n",
              "0        LP7pLJoJFBvyuUwvu+oLzjT+bI+UeBPURCecJsX1jjs=   \n",
              "1        ClazTFnk6r0Bnuie44bocdNMM3rdlrq0bCGAsGUWcHE=   \n",
              "2        u2ja/bZE3zhCGxvbbOB3zOoUjx27u40cf5g09UXMoKQ=   \n",
              "3        92Fqsy0+p6+RHe2EoLKjHahORHR1Kq1TBJoClW9v+Ts=   \n",
              "4        0QFmz/+rJy1Q56C1DuYqT9hKKqi5TUqx0sN0IwvoHrw=   \n",
              "...                                               ...   \n",
              "2295966  hLnetpF6UbPg28sSfXnPE2vsdaGsLvddlXEdJR4VTIA=   \n",
              "2295967  N+6vJ8actKQm0S3Fpf4elipTjoAo9ev28aA5FJN5e40=   \n",
              "2295968  pv35uG0ts05mWtirM/AMOWEzbHxIVart5ZzRXqKUY1c=   \n",
              "2295969  QSySnm8jt2Go7byY34/PxsZP6dPCins2j2cyYquNhBo=   \n",
              "2295970  DYKJKSgDOKxb19XzOVO81176qTH0OIHCsfzFRm/BG+g=   \n",
              "\n",
              "                              name          isrc  \n",
              "0                               我們  TWUM71200043  \n",
              "1                  Let Me Love You  QMZSY1600015  \n",
              "2                              原諒我  TWA530887303  \n",
              "3                          Classic  USSM11301446  \n",
              "4                             愛投羅網  TWA471306001  \n",
              "...                            ...           ...  \n",
              "2295966             Deep Breathing  PLL431720793  \n",
              "2295967                  In Hiding  US5UL1519827  \n",
              "2295968  Il Est Ne Le Divin Enfant  PLL431502294  \n",
              "2295969            The Exodus Song  DEPZ69316095  \n",
              "2295970                  Like This  US5UL1512426  \n",
              "\n",
              "[2295971 rows x 3 columns]"
            ]
          },
          "metadata": {
            "tags": []
          },
          "execution_count": 82
        }
      ]
    },
    {
      "cell_type": "code",
      "metadata": {
        "id": "1H_KimTzb8ZT",
        "outputId": "06c1dd20-5f33-46bf-9732-56feac43d1cc"
      },
      "source": [
        "train"
      ],
      "execution_count": null,
      "outputs": [
        {
          "output_type": "execute_result",
          "data": {
            "text/html": [
              "<div>\n",
              "<style scoped>\n",
              "    .dataframe tbody tr th:only-of-type {\n",
              "        vertical-align: middle;\n",
              "    }\n",
              "\n",
              "    .dataframe tbody tr th {\n",
              "        vertical-align: top;\n",
              "    }\n",
              "\n",
              "    .dataframe thead th {\n",
              "        text-align: right;\n",
              "    }\n",
              "</style>\n",
              "<table border=\"1\" class=\"dataframe\">\n",
              "  <thead>\n",
              "    <tr style=\"text-align: right;\">\n",
              "      <th></th>\n",
              "      <th>msno</th>\n",
              "      <th>song_id</th>\n",
              "      <th>source_system_tab</th>\n",
              "      <th>source_screen_name</th>\n",
              "      <th>source_type</th>\n",
              "      <th>target</th>\n",
              "    </tr>\n",
              "  </thead>\n",
              "  <tbody>\n",
              "    <tr>\n",
              "      <th>0</th>\n",
              "      <td>FGtllVqz18RPiwJj/edr2gV78zirAiY/9SmYvia+kCg=</td>\n",
              "      <td>BBzumQNXUHKdEBOB7mAJuzok+IJA1c2Ryg/yzTF6tik=</td>\n",
              "      <td>explore</td>\n",
              "      <td>Explore</td>\n",
              "      <td>online-playlist</td>\n",
              "      <td>1</td>\n",
              "    </tr>\n",
              "    <tr>\n",
              "      <th>1</th>\n",
              "      <td>Xumu+NIjS6QYVxDS4/t3SawvJ7viT9hPKXmf0RtLNx8=</td>\n",
              "      <td>bhp/MpSNoqoxOIB+/l8WPqu6jldth4DIpCm3ayXnJqM=</td>\n",
              "      <td>my library</td>\n",
              "      <td>Local playlist more</td>\n",
              "      <td>local-playlist</td>\n",
              "      <td>1</td>\n",
              "    </tr>\n",
              "    <tr>\n",
              "      <th>2</th>\n",
              "      <td>Xumu+NIjS6QYVxDS4/t3SawvJ7viT9hPKXmf0RtLNx8=</td>\n",
              "      <td>JNWfrrC7zNN7BdMpsISKa4Mw+xVJYNnxXh3/Epw7QgY=</td>\n",
              "      <td>my library</td>\n",
              "      <td>Local playlist more</td>\n",
              "      <td>local-playlist</td>\n",
              "      <td>1</td>\n",
              "    </tr>\n",
              "    <tr>\n",
              "      <th>3</th>\n",
              "      <td>Xumu+NIjS6QYVxDS4/t3SawvJ7viT9hPKXmf0RtLNx8=</td>\n",
              "      <td>2A87tzfnJTSWqD7gIZHisolhe4DMdzkbd6LzO1KHjNs=</td>\n",
              "      <td>my library</td>\n",
              "      <td>Local playlist more</td>\n",
              "      <td>local-playlist</td>\n",
              "      <td>1</td>\n",
              "    </tr>\n",
              "    <tr>\n",
              "      <th>4</th>\n",
              "      <td>FGtllVqz18RPiwJj/edr2gV78zirAiY/9SmYvia+kCg=</td>\n",
              "      <td>3qm6XTZ6MOCU11x8FIVbAGH5l5uMkT3/ZalWG1oo2Gc=</td>\n",
              "      <td>explore</td>\n",
              "      <td>Explore</td>\n",
              "      <td>online-playlist</td>\n",
              "      <td>1</td>\n",
              "    </tr>\n",
              "    <tr>\n",
              "      <th>...</th>\n",
              "      <td>...</td>\n",
              "      <td>...</td>\n",
              "      <td>...</td>\n",
              "      <td>...</td>\n",
              "      <td>...</td>\n",
              "      <td>...</td>\n",
              "    </tr>\n",
              "    <tr>\n",
              "      <th>7377413</th>\n",
              "      <td>6xdFzPlrasIDD95mQWXVC3Bg4ptnGYtBl4ztVEZMddU=</td>\n",
              "      <td>VJTxizih/o28kXCbtPbIyWXScoXGvxyYtl6R+0YB5JM=</td>\n",
              "      <td>my library</td>\n",
              "      <td>Local playlist more</td>\n",
              "      <td>local-playlist</td>\n",
              "      <td>1</td>\n",
              "    </tr>\n",
              "    <tr>\n",
              "      <th>7377414</th>\n",
              "      <td>ZxbVmt3Kh/XOH+h58c2Kdj6SjFZk+wnUO006IgWzMQE=</td>\n",
              "      <td>z1mqaU9YOX7T/PFDvUoWozdFq7rC3KwaQP7nFVprjMI=</td>\n",
              "      <td>search</td>\n",
              "      <td>Search</td>\n",
              "      <td>song</td>\n",
              "      <td>0</td>\n",
              "    </tr>\n",
              "    <tr>\n",
              "      <th>7377415</th>\n",
              "      <td>ZxbVmt3Kh/XOH+h58c2Kdj6SjFZk+wnUO006IgWzMQE=</td>\n",
              "      <td>750RprmFfLV0bymtDH88g24pLZGVi5VpBAI300P6UOA=</td>\n",
              "      <td>search</td>\n",
              "      <td>Search</td>\n",
              "      <td>song</td>\n",
              "      <td>1</td>\n",
              "    </tr>\n",
              "    <tr>\n",
              "      <th>7377416</th>\n",
              "      <td>0aH4Hd3ziPSRHClRX8rkeOEaAG5EPPkW1mKGCdXEok0=</td>\n",
              "      <td>G8wgqObgeAMER/rVCIlgcNeQ8mm0CzF/GsxiMK8TTnA=</td>\n",
              "      <td>discover</td>\n",
              "      <td>Discover Genre</td>\n",
              "      <td>online-playlist</td>\n",
              "      <td>1</td>\n",
              "    </tr>\n",
              "    <tr>\n",
              "      <th>7377417</th>\n",
              "      <td>0aH4Hd3ziPSRHClRX8rkeOEaAG5EPPkW1mKGCdXEok0=</td>\n",
              "      <td>Ju0VGkjWeBUZCd7r5Az2hUImhMoWxWLUicOedsmvG0g=</td>\n",
              "      <td>discover</td>\n",
              "      <td>Discover Genre</td>\n",
              "      <td>online-playlist</td>\n",
              "      <td>1</td>\n",
              "    </tr>\n",
              "  </tbody>\n",
              "</table>\n",
              "<p>7377418 rows × 6 columns</p>\n",
              "</div>"
            ],
            "text/plain": [
              "                                                 msno  \\\n",
              "0        FGtllVqz18RPiwJj/edr2gV78zirAiY/9SmYvia+kCg=   \n",
              "1        Xumu+NIjS6QYVxDS4/t3SawvJ7viT9hPKXmf0RtLNx8=   \n",
              "2        Xumu+NIjS6QYVxDS4/t3SawvJ7viT9hPKXmf0RtLNx8=   \n",
              "3        Xumu+NIjS6QYVxDS4/t3SawvJ7viT9hPKXmf0RtLNx8=   \n",
              "4        FGtllVqz18RPiwJj/edr2gV78zirAiY/9SmYvia+kCg=   \n",
              "...                                               ...   \n",
              "7377413  6xdFzPlrasIDD95mQWXVC3Bg4ptnGYtBl4ztVEZMddU=   \n",
              "7377414  ZxbVmt3Kh/XOH+h58c2Kdj6SjFZk+wnUO006IgWzMQE=   \n",
              "7377415  ZxbVmt3Kh/XOH+h58c2Kdj6SjFZk+wnUO006IgWzMQE=   \n",
              "7377416  0aH4Hd3ziPSRHClRX8rkeOEaAG5EPPkW1mKGCdXEok0=   \n",
              "7377417  0aH4Hd3ziPSRHClRX8rkeOEaAG5EPPkW1mKGCdXEok0=   \n",
              "\n",
              "                                              song_id source_system_tab  \\\n",
              "0        BBzumQNXUHKdEBOB7mAJuzok+IJA1c2Ryg/yzTF6tik=           explore   \n",
              "1        bhp/MpSNoqoxOIB+/l8WPqu6jldth4DIpCm3ayXnJqM=        my library   \n",
              "2        JNWfrrC7zNN7BdMpsISKa4Mw+xVJYNnxXh3/Epw7QgY=        my library   \n",
              "3        2A87tzfnJTSWqD7gIZHisolhe4DMdzkbd6LzO1KHjNs=        my library   \n",
              "4        3qm6XTZ6MOCU11x8FIVbAGH5l5uMkT3/ZalWG1oo2Gc=           explore   \n",
              "...                                               ...               ...   \n",
              "7377413  VJTxizih/o28kXCbtPbIyWXScoXGvxyYtl6R+0YB5JM=        my library   \n",
              "7377414  z1mqaU9YOX7T/PFDvUoWozdFq7rC3KwaQP7nFVprjMI=            search   \n",
              "7377415  750RprmFfLV0bymtDH88g24pLZGVi5VpBAI300P6UOA=            search   \n",
              "7377416  G8wgqObgeAMER/rVCIlgcNeQ8mm0CzF/GsxiMK8TTnA=          discover   \n",
              "7377417  Ju0VGkjWeBUZCd7r5Az2hUImhMoWxWLUicOedsmvG0g=          discover   \n",
              "\n",
              "          source_screen_name      source_type  target  \n",
              "0                    Explore  online-playlist       1  \n",
              "1        Local playlist more   local-playlist       1  \n",
              "2        Local playlist more   local-playlist       1  \n",
              "3        Local playlist more   local-playlist       1  \n",
              "4                    Explore  online-playlist       1  \n",
              "...                      ...              ...     ...  \n",
              "7377413  Local playlist more   local-playlist       1  \n",
              "7377414               Search             song       0  \n",
              "7377415               Search             song       1  \n",
              "7377416       Discover Genre  online-playlist       1  \n",
              "7377417       Discover Genre  online-playlist       1  \n",
              "\n",
              "[7377418 rows x 6 columns]"
            ]
          },
          "metadata": {
            "tags": []
          },
          "execution_count": 54
        }
      ]
    },
    {
      "cell_type": "markdown",
      "metadata": {
        "id": "s2vKdCo9b8ZV"
      },
      "source": [
        "Сделаем функцию, которая из датасета будет доставать фичи."
      ]
    },
    {
      "cell_type": "code",
      "metadata": {
        "code_folding": [
          0
        ],
        "init_cell": true,
        "id": "nmj_E1c-b8ZW"
      },
      "source": [
        "class FeatureExtractor:\n",
        "    def __init__(self, members, songs, song_extra_info):\n",
        "        self.members = members.copy()\n",
        "        self.songs = songs.copy()\n",
        "        self.song_extra_info = song_extra_info.copy()\n",
        "        self.prepare_members()\n",
        "        self.prepare_songs()\n",
        "        \n",
        "    def prepare_members(self):\n",
        "        print('Prepare members...')\n",
        "        # Убираю аутлайеры из возраста и завожу отдельную фичу для людей, которые не указали возраст\n",
        "        bd = self.members.loc[:, 'bd'].copy().astype(int)\n",
        "        bd_missing = (bd <= 0) | (bd > 100)\n",
        "        bd.loc[bd_missing] = 0\n",
        "        self.members.loc[:, 'bd'] = bd.astype(int)\n",
        "        self.members['bd_missing'] = bd_missing.astype(int)\n",
        "        \n",
        "        # Преобразую время\n",
        "        print('Prepare dates...')\n",
        "        dates = ['registration_init_time', 'expiration_date']\n",
        "        for d in dates:\n",
        "            self.members[d +'_year'] = self.members[d].dt.year\n",
        "            self.members[d +'_month'] = self.members[d].dt.month\n",
        "            self.members[d +'_day'] = self.members[d].dt.day\n",
        "        self.members.drop(columns=dates, inplace=True)\n",
        "        \n",
        "        # Убираю NaN'ы у пола\n",
        "        print('Prepare genders...')\n",
        "        self.members['gender'] = self.members['gender'].fillna('miss').astype('category')\n",
        "        \n",
        "    def prepare_songs(self):\n",
        "        print('Prepare songs...')\n",
        "        # Делаю one-hot фичи\n",
        "        # Попытался сделать ван хот, но не влезло в память :(\n",
        "        # one_hot_classes = ['genre_ids']\n",
        "        # to_one_hot = songs[one_hot_classes].copy()\n",
        "        # to_one_hot.fillna('miss', inplace=True)\n",
        "        # print('Songs to one-hot...')\n",
        "        # for cl in tqdm(one_hot_classes):\n",
        "        #     songs_one_hot_encoder = MultiLabelBinarizer()\n",
        "        #     one_hot = songs_one_hot_encoder.fit_transform(to_one_hot[cl].apply(FeatureExtractor.split_string))\n",
        "        #     categories = [cl + '_' + str(s) for s in songs_one_hot_encoder.classes_]\n",
        "        #     df = pd.DataFrame(one_hot, columns=categories)\n",
        "        #     self.songs = self.songs.merge(df, left_index=True, right_index=True, validate='1:1')\n",
        "        classes_to_delete = ['composer', 'lyricist']\n",
        "        self.songs.drop(columns=classes_to_delete, inplace = True)\n",
        "        self.songs['artist_name'] = self.songs['artist_name'].astype('category')\n",
        "        self.songs['genre_ids'] = self.songs['genre_ids'].astype('category')\n",
        "            \n",
        "        # Инфа из isrc\n",
        "        print('Extract data from isrc...')\n",
        "        isrc = self.song_extra_info['isrc'].transform([self.song_year, self.song_country])\n",
        "        print('Merging...')\n",
        "        self.song_extra_info['song_country'] = isrc.song_country.astype('category')\n",
        "        self.song_extra_info['song_year'] = isrc.song_year\n",
        "        self.song_extra_info.drop(columns=['name', 'isrc'], inplace=True)\n",
        "    \n",
        "    # Функция разделения строки по |, / и т.п символам\n",
        "    @staticmethod\n",
        "    def split_string(string):\n",
        "        return list(filter(None, map(lambda t: t.strip(), split(r'\\||/|\\(|\\)|feat.|,', string.lower()))))\n",
        "    \n",
        "    # isrc to year\n",
        "    def song_year(self, isrc):\n",
        "        if type(isrc) == str:\n",
        "            if int(isrc[5:7]) > 17:\n",
        "                return 1900 + int(isrc[5:7])\n",
        "            else:\n",
        "                return 2000 + int(isrc[5:7])\n",
        "        else:\n",
        "            return np.nan\n",
        "        \n",
        "    # isrc to country\n",
        "    def song_country(self, isrc):\n",
        "        if type(isrc) == str:\n",
        "            return isrc[:2]\n",
        "        else:\n",
        "            return 'miss'\n",
        "\n",
        "    def get_features(self, dataset):\n",
        "        return dataset.merge(self.members, on='msno', how='left').merge(self.songs, on='song_id', how='left').merge(self.song_extra_info, on='song_id', how='left')        "
      ],
      "execution_count": 14,
      "outputs": []
    },
    {
      "cell_type": "code",
      "metadata": {
        "scrolled": true,
        "id": "A9NjuzZ_b8ZX",
        "outputId": "96e81543-da42-4461-9d6f-dabed7290854",
        "colab": {
          "base_uri": "https://localhost:8080/"
        }
      },
      "source": [
        "features = FeatureExtractor(members, songs, song_extra_info)"
      ],
      "execution_count": 15,
      "outputs": [
        {
          "output_type": "stream",
          "text": [
            "Prepare members...\n",
            "Prepare dates...\n",
            "Prepare genders...\n",
            "Prepare songs...\n",
            "Extract data from isrc...\n",
            "Merging...\n"
          ],
          "name": "stdout"
        }
      ]
    },
    {
      "cell_type": "code",
      "metadata": {
        "id": "a4FYmDjab8Zb"
      },
      "source": [
        "X = features.get_features(train)"
      ],
      "execution_count": 17,
      "outputs": []
    },
    {
      "cell_type": "code",
      "metadata": {
        "id": "9oJWZUz7b8Ze"
      },
      "source": [
        "X_train, y_train = X.drop(columns=['msno', 'song_id', 'target']), X.target"
      ],
      "execution_count": 18,
      "outputs": []
    },
    {
      "cell_type": "markdown",
      "metadata": {
        "id": "GRHVwDOob8Zh"
      },
      "source": [
        "# Задача 1:\n",
        "\n",
        "Собрать более-менее приличную рекомендательную систему с помощью GBDT. Использование трюков из лекции (и не из неё), тюнинг и разумных объемов фича инжиниринг поощряется. "
      ]
    },
    {
      "cell_type": "code",
      "metadata": {
        "scrolled": true,
        "id": "5dujoEOlb8Zh"
      },
      "source": [
        "def train_lgb(X_train, X_test, y_train, y_test):\n",
        "    train = lgb.Dataset(X_train, y_train)\n",
        "    val = lgb.Dataset(X_test, y_test)\n",
        "    params = {'learning_rate': 0.2,\n",
        "              'objective': 'binary',\n",
        "              'metric': 'auc',\n",
        "              'max_depth': 10,\n",
        "              'num_leaves': 256,\n",
        "              'max_depth': 10}\n",
        "    model = lgb.train(params,\n",
        "                    train_set=train,\n",
        "                    num_boost_round=100,\n",
        "                    verbose_eval=10,\n",
        "                    valid_sets=[train, val])\n",
        "    y_pred = model.predict(X_test)\n",
        "    auc = roc_auc_score(y_test, y_pred)\n",
        "    return model, auc"
      ],
      "execution_count": 19,
      "outputs": []
    },
    {
      "cell_type": "code",
      "metadata": {
        "id": "bckLMwgrb8Zj"
      },
      "source": [
        "def k_fold(X, y, k=5):\n",
        "    scores = []\n",
        "    sc = 0\n",
        "    kf = StratifiedKFold(n_splits=k, shuffle=True)\n",
        "    for train_idxs, test_idxs in tqdm(kf.split(X, y), total=k):\n",
        "        print(f\"k={len(scores)+1}\")\n",
        "    \n",
        "        X_train, y_train = X.iloc[train_idxs], y.iloc[train_idxs]\n",
        "        X_test, y_test = X.iloc[test_idxs], y.iloc[test_idxs]\n",
        "\n",
        "        model, score = train_lgb(X_train, X_test, y_train, y_test)\n",
        "        scores.append(score)\n",
        "        if score > sc:\n",
        "            sc = score\n",
        "            best_model = model\n",
        "    print(f'Mean ROC-AUC: {np.mean(scores):.3f}')\n",
        "    return best_model"
      ],
      "execution_count": 20,
      "outputs": []
    },
    {
      "cell_type": "code",
      "metadata": {
        "id": "osdCzoMNb8Zl"
      },
      "source": [
        "data = train_test_split(X_train, y_train, test_size=0.1)"
      ],
      "execution_count": null,
      "outputs": []
    },
    {
      "cell_type": "code",
      "metadata": {
        "id": "sXVcSSm2H0f_",
        "outputId": "d7260545-3b69-42f3-ec3f-f5ef62ee6f76",
        "colab": {
          "base_uri": "https://localhost:8080/"
        }
      },
      "source": [
        "model, auc = train_lgb(*data)\n",
        "print(\"ROC-AUC:\", auc)"
      ],
      "execution_count": null,
      "outputs": [
        {
          "output_type": "stream",
          "text": [
            "/usr/local/lib/python3.6/dist-packages/lightgbm/basic.py:762: UserWarning: categorical_feature in param dict is overridden.\n",
            "  warnings.warn('categorical_feature in param dict is overridden.')\n"
          ],
          "name": "stderr"
        },
        {
          "output_type": "stream",
          "text": [
            "[10]\ttraining's auc: 0.703878\tvalid_1's auc: 0.700093\n",
            "[20]\ttraining's auc: 0.713306\tvalid_1's auc: 0.707716\n",
            "[30]\ttraining's auc: 0.719563\tvalid_1's auc: 0.71253\n",
            "[40]\ttraining's auc: 0.724246\tvalid_1's auc: 0.71592\n",
            "[50]\ttraining's auc: 0.727143\tvalid_1's auc: 0.717787\n",
            "[60]\ttraining's auc: 0.730934\tvalid_1's auc: 0.720303\n",
            "[70]\ttraining's auc: 0.733549\tvalid_1's auc: 0.721898\n",
            "[80]\ttraining's auc: 0.736204\tvalid_1's auc: 0.723666\n",
            "[90]\ttraining's auc: 0.739439\tvalid_1's auc: 0.7258\n",
            "[100]\ttraining's auc: 0.741651\tvalid_1's auc: 0.72713\n",
            "ROC-AUC: 0.7271303763707755\n"
          ],
          "name": "stdout"
        }
      ]
    },
    {
      "cell_type": "code",
      "metadata": {
        "id": "GChYHyGYS_Xd",
        "outputId": "66a96c2f-9721-4ad3-c245-f41c213e1787",
        "colab": {
          "base_uri": "https://localhost:8080/",
          "height": 1000,
          "referenced_widgets": [
            "b6fc8b9aac6e4d84846c11c07fdcc7bc",
            "d33ecfdce5f64a7489f1664a0f2b0aff",
            "db377a7b10294d338e0f178df92102d7",
            "e39635dfc6f24266ae7e4720e4945af9",
            "6ceb9d88539c4b7b98b32c5c2174f928",
            "d4dfb7817fd543999b8b137444e8f869",
            "cc38b6fc6e9f456a8a1190cf27385050",
            "0ceeed036fc64df1ac55c351fe2daf98"
          ]
        }
      },
      "source": [
        "bmodel = k_fold(X_train, y_train)"
      ],
      "execution_count": null,
      "outputs": [
        {
          "output_type": "display_data",
          "data": {
            "application/vnd.jupyter.widget-view+json": {
              "model_id": "b6fc8b9aac6e4d84846c11c07fdcc7bc",
              "version_minor": 0,
              "version_major": 2
            },
            "text/plain": [
              "HBox(children=(FloatProgress(value=1.0, bar_style='info', max=1.0), HTML(value='')))"
            ]
          },
          "metadata": {
            "tags": []
          }
        },
        {
          "output_type": "stream",
          "text": [
            "k=1\n"
          ],
          "name": "stdout"
        },
        {
          "output_type": "stream",
          "text": [
            "/usr/local/lib/python3.6/dist-packages/lightgbm/basic.py:762: UserWarning: categorical_feature in param dict is overridden.\n",
            "  warnings.warn('categorical_feature in param dict is overridden.')\n"
          ],
          "name": "stderr"
        },
        {
          "output_type": "stream",
          "text": [
            "[10]\ttraining's auc: 0.704678\tvalid_1's auc: 0.699262\n",
            "[20]\ttraining's auc: 0.713003\tvalid_1's auc: 0.705812\n",
            "[30]\ttraining's auc: 0.719154\tvalid_1's auc: 0.71042\n",
            "[40]\ttraining's auc: 0.724055\tvalid_1's auc: 0.713959\n",
            "[50]\ttraining's auc: 0.728221\tvalid_1's auc: 0.716856\n",
            "[60]\ttraining's auc: 0.731639\tvalid_1's auc: 0.719121\n",
            "[70]\ttraining's auc: 0.735795\tvalid_1's auc: 0.722076\n",
            "[80]\ttraining's auc: 0.738724\tvalid_1's auc: 0.72387\n",
            "[90]\ttraining's auc: 0.741964\tvalid_1's auc: 0.725875\n",
            "[100]\ttraining's auc: 0.744324\tvalid_1's auc: 0.727267\n",
            "k=2\n"
          ],
          "name": "stdout"
        },
        {
          "output_type": "stream",
          "text": [
            "/usr/local/lib/python3.6/dist-packages/lightgbm/basic.py:762: UserWarning: categorical_feature in param dict is overridden.\n",
            "  warnings.warn('categorical_feature in param dict is overridden.')\n"
          ],
          "name": "stderr"
        },
        {
          "output_type": "stream",
          "text": [
            "[10]\ttraining's auc: 0.704845\tvalid_1's auc: 0.70057\n",
            "[20]\ttraining's auc: 0.712836\tvalid_1's auc: 0.706412\n",
            "[30]\ttraining's auc: 0.719607\tvalid_1's auc: 0.711538\n",
            "[40]\ttraining's auc: 0.723638\tvalid_1's auc: 0.714271\n",
            "[50]\ttraining's auc: 0.727695\tvalid_1's auc: 0.717067\n",
            "[60]\ttraining's auc: 0.730431\tvalid_1's auc: 0.718806\n",
            "[70]\ttraining's auc: 0.732971\tvalid_1's auc: 0.720322\n",
            "[80]\ttraining's auc: 0.736103\tvalid_1's auc: 0.722322\n",
            "[90]\ttraining's auc: 0.739834\tvalid_1's auc: 0.724825\n",
            "[100]\ttraining's auc: 0.74302\tvalid_1's auc: 0.726773\n",
            "k=3\n"
          ],
          "name": "stdout"
        },
        {
          "output_type": "stream",
          "text": [
            "/usr/local/lib/python3.6/dist-packages/lightgbm/basic.py:762: UserWarning: categorical_feature in param dict is overridden.\n",
            "  warnings.warn('categorical_feature in param dict is overridden.')\n"
          ],
          "name": "stderr"
        },
        {
          "output_type": "stream",
          "text": [
            "[10]\ttraining's auc: 0.703638\tvalid_1's auc: 0.699906\n",
            "[20]\ttraining's auc: 0.711804\tvalid_1's auc: 0.706103\n",
            "[30]\ttraining's auc: 0.718173\tvalid_1's auc: 0.710947\n",
            "[40]\ttraining's auc: 0.722594\tvalid_1's auc: 0.714037\n",
            "[50]\ttraining's auc: 0.727244\tvalid_1's auc: 0.717306\n",
            "[60]\ttraining's auc: 0.730239\tvalid_1's auc: 0.719164\n",
            "[70]\ttraining's auc: 0.733029\tvalid_1's auc: 0.720991\n",
            "[80]\ttraining's auc: 0.735199\tvalid_1's auc: 0.722268\n",
            "[90]\ttraining's auc: 0.738366\tvalid_1's auc: 0.724281\n",
            "[100]\ttraining's auc: 0.74172\tvalid_1's auc: 0.72642\n",
            "k=4\n"
          ],
          "name": "stdout"
        },
        {
          "output_type": "stream",
          "text": [
            "/usr/local/lib/python3.6/dist-packages/lightgbm/basic.py:762: UserWarning: categorical_feature in param dict is overridden.\n",
            "  warnings.warn('categorical_feature in param dict is overridden.')\n"
          ],
          "name": "stderr"
        },
        {
          "output_type": "stream",
          "text": [
            "[10]\ttraining's auc: 0.703529\tvalid_1's auc: 0.698442\n",
            "[20]\ttraining's auc: 0.712674\tvalid_1's auc: 0.705603\n",
            "[30]\ttraining's auc: 0.719432\tvalid_1's auc: 0.710732\n",
            "[40]\ttraining's auc: 0.723228\tvalid_1's auc: 0.713264\n",
            "[50]\ttraining's auc: 0.727511\tvalid_1's auc: 0.716129\n",
            "[60]\ttraining's auc: 0.730346\tvalid_1's auc: 0.717919\n",
            "[70]\ttraining's auc: 0.733373\tvalid_1's auc: 0.719841\n",
            "[80]\ttraining's auc: 0.735953\tvalid_1's auc: 0.721389\n",
            "[90]\ttraining's auc: 0.740302\tvalid_1's auc: 0.724265\n",
            "[100]\ttraining's auc: 0.742356\tvalid_1's auc: 0.725323\n",
            "k=5\n"
          ],
          "name": "stdout"
        },
        {
          "output_type": "stream",
          "text": [
            "/usr/local/lib/python3.6/dist-packages/lightgbm/basic.py:762: UserWarning: categorical_feature in param dict is overridden.\n",
            "  warnings.warn('categorical_feature in param dict is overridden.')\n"
          ],
          "name": "stderr"
        },
        {
          "output_type": "stream",
          "text": [
            "[10]\ttraining's auc: 0.70397\tvalid_1's auc: 0.699127\n",
            "[20]\ttraining's auc: 0.71248\tvalid_1's auc: 0.705418\n",
            "[30]\ttraining's auc: 0.718336\tvalid_1's auc: 0.709753\n",
            "[40]\ttraining's auc: 0.723162\tvalid_1's auc: 0.713192\n",
            "[50]\ttraining's auc: 0.72754\tvalid_1's auc: 0.716145\n",
            "[60]\ttraining's auc: 0.731783\tvalid_1's auc: 0.719008\n",
            "[70]\ttraining's auc: 0.734266\tvalid_1's auc: 0.720522\n",
            "[80]\ttraining's auc: 0.736969\tvalid_1's auc: 0.722211\n",
            "[90]\ttraining's auc: 0.739846\tvalid_1's auc: 0.723938\n",
            "[100]\ttraining's auc: 0.743817\tvalid_1's auc: 0.726501\n",
            "\n",
            "Mean ROC-AUC: 0.726\n"
          ],
          "name": "stdout"
        }
      ]
    },
    {
      "cell_type": "markdown",
      "metadata": {
        "id": "dt5tjL9Zb8Zn"
      },
      "source": [
        "# Задача 2: \n",
        "Пользуясь информацией о треках построить неклассические эмбеддинги и попробовать использовать их:\n",
        "\n",
        "1. показать симилары глазами\n",
        "2. в качестве рекоммендера вместо GBDT (разницу в метриках) \n",
        "3. стек с GBDT (прирост / отсутствие / почему (советую поизучать SHAP values)"
      ]
    },
    {
      "cell_type": "code",
      "metadata": {
        "id": "CejKvcqof85f",
        "outputId": "7fbb3f57-589e-4408-866f-e608257e2ea4",
        "colab": {
          "base_uri": "https://localhost:8080/"
        }
      },
      "source": [
        "!pip install -q swifter\n",
        "import swifter"
      ],
      "execution_count": 21,
      "outputs": [
        {
          "output_type": "stream",
          "text": [
            "\u001b[K     |████████████████████████████████| 634kB 4.2MB/s \n",
            "\u001b[K     |████████████████████████████████| 471kB 11.0MB/s \n",
            "\u001b[K     |████████████████████████████████| 542kB 14.4MB/s \n",
            "\u001b[K     |████████████████████████████████| 92kB 8.6MB/s \n",
            "\u001b[K     |████████████████████████████████| 22.9MB 79kB/s \n",
            "\u001b[K     |████████████████████████████████| 71kB 8.5MB/s \n",
            "\u001b[K     |████████████████████████████████| 71kB 9.0MB/s \n",
            "\u001b[K     |████████████████████████████████| 204kB 51.0MB/s \n",
            "\u001b[K     |████████████████████████████████| 81kB 10.5MB/s \n",
            "\u001b[K     |████████████████████████████████| 1.3MB 41.0MB/s \n",
            "\u001b[K     |████████████████████████████████| 2.9MB 42.2MB/s \n",
            "\u001b[K     |████████████████████████████████| 133kB 44.1MB/s \n",
            "\u001b[K     |████████████████████████████████| 61kB 6.9MB/s \n",
            "\u001b[K     |████████████████████████████████| 296kB 50.6MB/s \n",
            "\u001b[K     |████████████████████████████████| 143kB 49.5MB/s \n",
            "\u001b[K     |████████████████████████████████| 102kB 10.7MB/s \n",
            "\u001b[?25h  Building wheel for swifter (setup.py) ... \u001b[?25l\u001b[?25hdone\n",
            "  Building wheel for psutil (setup.py) ... \u001b[?25l\u001b[?25hdone\n",
            "  Building wheel for locket (setup.py) ... \u001b[?25l\u001b[?25hdone\n",
            "  Building wheel for gpustat (setup.py) ... \u001b[?25l\u001b[?25hdone\n",
            "  Building wheel for idna-ssl (setup.py) ... \u001b[?25l\u001b[?25hdone\n",
            "  Building wheel for contextvars (setup.py) ... \u001b[?25l\u001b[?25hdone\n",
            "\u001b[31mERROR: modin 0.8.1.1 has requirement pandas==1.1.2, but you'll have pandas 1.1.3 which is incompatible.\u001b[0m\n"
          ],
          "name": "stdout"
        }
      ]
    },
    {
      "cell_type": "code",
      "metadata": {
        "id": "pM-pG5kIb8Zn"
      },
      "source": [
        "class W2V:\n",
        "    def __init__(self, embedding_size=32, user_songs=None, w2v=None, user_embeddings=None):\n",
        "        self.embedding_size = embedding_size\n",
        "        self.user_embeddings = user_embeddings\n",
        "        self.user_songs = user_songs\n",
        "        self.w2v = w2v\n",
        "\n",
        "    def build_user_embeddings(self, X_train):\n",
        "        print('Building user embeddings...')\n",
        "        user_ids = X_train.msno.unique().tolist()\n",
        "        for user_id in tqdm(user_ids):\n",
        "            if user_id in self.user_songs:\n",
        "                v = [self.w2v.wv[s_id] for s_id in self.user_songs[user_id] if s_id in self.w2v.wv]\n",
        "                if len(v) > 0:\n",
        "                    self.user_embeddings[user_id] = np.mean(v)\n",
        "\n",
        "    def build_sentenses(self, X_train, y_train):\n",
        "        print('Building user songs...')\n",
        "        for user_id, song_id, target in tqdm(zip(X_train.msno, X_train.song_id, y_train), total=y_train.size):\n",
        "            if target == 1:\n",
        "                self.user_songs[user_id].append(song_id)\n",
        "\n",
        "    def train(self, X_train, y_train):\n",
        "        if self.user_songs is None:\n",
        "            self.user_songs = defaultdict(list)\n",
        "            self.build_sentenses(X_train, y_train)\n",
        "\n",
        "        sentenses = list(self.user_songs.values())\n",
        "\n",
        "        if self.w2v is None:\n",
        "            self.w2v = Word2Vec(min_count=20,\n",
        "                     window=3,\n",
        "                     size=self.embedding_size,\n",
        "                     negative=20,\n",
        "                     sg=1,\n",
        "                     workers=multiprocessing.cpu_count())\n",
        "        \n",
        "            print('Building vocabulary...')\n",
        "            self.w2v.build_vocab(sentenses, progress_per=1000)\n",
        "            \n",
        "            print('Training Word2Vec...')\n",
        "            self.w2v.train(sentenses, total_examples=self.w2v.corpus_count, epochs=30, report_delay=1)\n",
        "            print(self.w2v)\n",
        "            \n",
        "            self.w2v.init_sims(replace=True)\n",
        "\n",
        "        if self.user_embeddings is None:\n",
        "            self.user_embeddings = defaultdict(lambda: np.zeros(self.embedding_size))\n",
        "            self.build_user_embeddings(X_train)\n",
        "\n",
        "    def most_similar(self, song_id):\n",
        "        return self.w2v.wv.most_similar(positive=song_id)\n",
        "\n",
        "    def predict_proba(self, X):\n",
        "        return [np.sum(self.w2v.wv.word_vec(song) * self.user_embeddings[user])\n",
        "                       if song in self.w2v.wv.vocab else 0 for user, song in tqdm(zip(X.msno, X.song_id), total=X.msno.size)]\n",
        "\n",
        "    def roc_auc(self, X_train, y_train):\n",
        "        return roc_auc_score(self.predict_proba(X_train), y_train)"
      ],
      "execution_count": 36,
      "outputs": []
    },
    {
      "cell_type": "code",
      "metadata": {
        "id": "zox3XfWCzpPe"
      },
      "source": [
        "user_songs = word2vec.user_songs\n",
        "w2v = word2vec.w2v\n",
        "user_embeddings = word2vec.user_embeddings"
      ],
      "execution_count": 33,
      "outputs": []
    },
    {
      "cell_type": "code",
      "metadata": {
        "id": "flOl5fU0WAJh"
      },
      "source": [
        "# user_songs = None\n",
        "# w2v = None\n",
        "# user_embeddings = None"
      ],
      "execution_count": 41,
      "outputs": []
    },
    {
      "cell_type": "code",
      "metadata": {
        "id": "aH3F0a_ArljI",
        "outputId": "267cd82a-884d-4f8d-e8b6-e05e4e0af09a",
        "colab": {
          "base_uri": "https://localhost:8080/",
          "height": 200,
          "referenced_widgets": [
            "ee53eb2cbb1341eb8fa27198c2a59ae9",
            "679de50caa0243e89d393c882481f364",
            "516a27961b704bcd94e4e6a4d86c8160",
            "1a6ca8146c054d0497d501cd6e2f6a8d",
            "1003c5ec26d346158b5325b04a572329",
            "b9b06c40523d4381b6229dc15cc51e7a",
            "0489f89f5b314868ac52d707a77b082e",
            "bfafcff81bc74e149f8c43544b5600b0",
            "167255cea9a141fdbe314c75495b0c20",
            "36c21506ae9745d79e52fa033304c488",
            "8b4a3236a85d4e598ef4ff7fe6423ce9",
            "7f97de79006a4c8eb80b31c733b1b369",
            "b6c627e9f15a44f6b0ee9959da2e1ee7",
            "80d47b9f154f44b0918519c912dde712",
            "7dd1c70509b64dd7a821441e5a075606",
            "c92f8a156f5445b288588f32df92c97b"
          ]
        }
      },
      "source": [
        "word2vec = W2V(32, user_songs, w2v, user_embeddings)\n",
        "word2vec.train(train.drop(columns='target'), train.target)"
      ],
      "execution_count": 42,
      "outputs": [
        {
          "output_type": "stream",
          "text": [
            "Building user songs...\n"
          ],
          "name": "stdout"
        },
        {
          "output_type": "display_data",
          "data": {
            "application/vnd.jupyter.widget-view+json": {
              "model_id": "ee53eb2cbb1341eb8fa27198c2a59ae9",
              "version_minor": 0,
              "version_major": 2
            },
            "text/plain": [
              "HBox(children=(FloatProgress(value=0.0, max=7377418.0), HTML(value='')))"
            ]
          },
          "metadata": {
            "tags": []
          }
        },
        {
          "output_type": "stream",
          "text": [
            "\n",
            "Building vocabulary...\n",
            "Training Word2Vec...\n",
            "Word2Vec(vocab=19273, size=32, alpha=0.025)\n",
            "Building user embeddings...\n"
          ],
          "name": "stdout"
        },
        {
          "output_type": "display_data",
          "data": {
            "application/vnd.jupyter.widget-view+json": {
              "model_id": "167255cea9a141fdbe314c75495b0c20",
              "version_minor": 0,
              "version_major": 2
            },
            "text/plain": [
              "HBox(children=(FloatProgress(value=0.0, max=30755.0), HTML(value='')))"
            ]
          },
          "metadata": {
            "tags": []
          }
        },
        {
          "output_type": "stream",
          "text": [
            "\n"
          ],
          "name": "stdout"
        }
      ]
    },
    {
      "cell_type": "markdown",
      "metadata": {
        "id": "B8ZNPPfcxfWB"
      },
      "source": [
        "1) Симилары для Eminem"
      ]
    },
    {
      "cell_type": "code",
      "metadata": {
        "id": "9NDssgPlskfp",
        "outputId": "d1ffe254-bb02-492d-9113-39dc76330fe2",
        "colab": {
          "base_uri": "https://localhost:8080/"
        }
      },
      "source": [
        "i = 0\n",
        "for s_id in songs[songs['artist_name'] == 'Eminem']['song_id']:\n",
        "    if i== 10: break\n",
        "    if s_id in word2vec.w2v.wv:\n",
        "        print('Song_id:', s_id, 'Vector:', word2vec.w2v.wv[s_id])\n",
        "        i += 1"
      ],
      "execution_count": 28,
      "outputs": [
        {
          "output_type": "stream",
          "text": [
            "Song_id: p+WxS35GIo9lHYpW17Bz/PRW+UcGH9R+bq+wU2caYnY= Vector: [ 9.2203081e-02  6.6691577e-01  9.5115013e-02 -1.3549367e-01\n",
            "  6.5574087e-02  2.0244013e-04 -2.1324162e-01  2.5803030e-01\n",
            " -2.2137409e-01 -4.0690815e-01 -1.1960796e-01 -2.4048124e-02\n",
            "  2.9098222e-01  4.3524802e-02 -1.3086119e-01  2.6421595e-01]\n",
            "Song_id: nfhjNo8jBDgSEFM0c05FVA2vxoaYAJnD+UCgJgLcwMo= Vector: [ 0.11473353  0.6115336  -0.08747589 -0.0468206  -0.02115557  0.12398185\n",
            " -0.36561465  0.19383731 -0.29286182 -0.18826152 -0.00066283  0.25756392\n",
            "  0.10499793 -0.0788727  -0.44035622  0.13131441]\n",
            "Song_id: Y6L4QRgWFt+9pMxGusbAiWXIwzGRj29hWN85F1tN+p4= Vector: [ 0.10933757  0.700953   -0.13754742 -0.07569166  0.00102858 -0.09474275\n",
            " -0.29158154  0.33858496 -0.19529119 -0.28812972 -0.19971333 -0.08675107\n",
            "  0.29339993 -0.02456145 -0.07393446  0.05199248]\n",
            "Song_id: GPm2YkwRycWDMXNs1qJNk2LQnfPVtdeyM8az0CXk5yU= Vector: [ 1.60109207e-01  6.93097174e-01 -5.13262562e-02  5.62601089e-02\n",
            "  1.03028677e-01  5.65213595e-05 -2.47361258e-01 -3.63454670e-02\n",
            " -3.27522308e-01 -9.63376164e-02 -1.02484815e-01  3.76791984e-01\n",
            "  1.71238467e-01 -1.84049726e-01 -2.22700819e-01  1.82314470e-01]\n",
            "Song_id: w0tmrjRwEJA1CkQ6G9w38jBp5ZAAcCQnzxSgE2ezooU= Vector: [ 0.02545147  0.6022603  -0.1237086   0.0885292  -0.14390965  0.14373413\n",
            " -0.29356858  0.34727764 -0.11870933 -0.33865586 -0.22434987  0.13665257\n",
            " -0.05472771 -0.11085233 -0.3200752   0.22320792]\n",
            "Song_id: +fw4zHi7EeZ55SumyQLYKd9/psegnn1WYQRfdoPtDDs= Vector: [ 0.21144637  0.66662616 -0.21401514  0.02363184  0.04788786  0.00504198\n",
            " -0.4211144   0.17769971 -0.2693377  -0.36300787  0.0709257   0.07183859\n",
            "  0.16054736 -0.0707167  -0.04492287  0.0774781 ]\n",
            "Song_id: qsr+miUqNpMrf+DQBIUrhs9SPtL8lKAmT0I67w2nLCk= Vector: [-0.06264891  0.69718933 -0.07309047 -0.15193501 -0.01210275  0.06543802\n",
            " -0.28257653  0.25800708 -0.08734585 -0.36550057 -0.21182668 -0.13429631\n",
            "  0.27188256  0.04580244 -0.16085708  0.15719686]\n",
            "Song_id: OOarkaG0Xyy2XApXZH6fhr4MYYEHpff1PehLT+beSSo= Vector: [ 0.08075766  0.6634937  -0.08607285 -0.05747771  0.04683721  0.02919024\n",
            " -0.3838618   0.2661603  -0.1501521  -0.38905454 -0.19718128 -0.12969618\n",
            "  0.17048495  0.11821155 -0.20378144  0.08443101]\n",
            "Song_id: gET0e9X1wUcrjalriOT7N3/Tlo2c+qO2WFHd5+LZs4s= Vector: [ 0.23904663  0.6435683   0.14556487 -0.02193775  0.18057299 -0.01780815\n",
            " -0.2536555   0.40100917 -0.2031887  -0.34915006 -0.11329602 -0.01950162\n",
            "  0.02386447  0.05295094 -0.18273115  0.18910667]\n",
            "Song_id: PH31DqczUQ+G+hd76U9W7pdDZLqzvl5QaFNjazhj51w= Vector: [ 0.14398512  0.64426976 -0.16582318 -0.13479738  0.14381348 -0.00294103\n",
            " -0.3584088   0.2513955  -0.15084143 -0.253529   -0.10559427 -0.14184557\n",
            "  0.3209141  -0.05441304 -0.1556803   0.24017927]\n"
          ],
          "name": "stdout"
        }
      ]
    },
    {
      "cell_type": "code",
      "metadata": {
        "id": "n997K7Vzym_i",
        "outputId": "2e6936ef-364b-4dcf-94a4-f1625fa023ca",
        "colab": {
          "base_uri": "https://localhost:8080/",
          "height": 988
        }
      },
      "source": [
        "song_id = 'p+WxS35GIo9lHYpW17Bz/PRW+UcGH9R+bq+wU2caYnY='\n",
        "sims, sc = tuple(zip((song_id, 1), *word2vec.most_similar(song_id)))\n",
        "res = songs.set_index('song_id').loc[list(sims)].reset_index()\n",
        "res['scores'] = sc\n",
        "res"
      ],
      "execution_count": 29,
      "outputs": [
        {
          "output_type": "execute_result",
          "data": {
            "text/html": [
              "<div>\n",
              "<style scoped>\n",
              "    .dataframe tbody tr th:only-of-type {\n",
              "        vertical-align: middle;\n",
              "    }\n",
              "\n",
              "    .dataframe tbody tr th {\n",
              "        vertical-align: top;\n",
              "    }\n",
              "\n",
              "    .dataframe thead th {\n",
              "        text-align: right;\n",
              "    }\n",
              "</style>\n",
              "<table border=\"1\" class=\"dataframe\">\n",
              "  <thead>\n",
              "    <tr style=\"text-align: right;\">\n",
              "      <th></th>\n",
              "      <th>song_id</th>\n",
              "      <th>song_length</th>\n",
              "      <th>genre_ids</th>\n",
              "      <th>artist_name</th>\n",
              "      <th>composer</th>\n",
              "      <th>lyricist</th>\n",
              "      <th>language</th>\n",
              "      <th>scores</th>\n",
              "    </tr>\n",
              "  </thead>\n",
              "  <tbody>\n",
              "    <tr>\n",
              "      <th>0</th>\n",
              "      <td>p+WxS35GIo9lHYpW17Bz/PRW+UcGH9R+bq+wU2caYnY=</td>\n",
              "      <td>326426</td>\n",
              "      <td>1259</td>\n",
              "      <td>Eminem</td>\n",
              "      <td>Jeff Bass| Luis Resto| Marshall Mathers</td>\n",
              "      <td>NaN</td>\n",
              "      <td>52.0</td>\n",
              "      <td>1.000000</td>\n",
              "    </tr>\n",
              "    <tr>\n",
              "      <th>1</th>\n",
              "      <td>mQiuYoYa7M4AXaoBIdnsYdWsQvdxO4+iOLEJDPH2uHA=</td>\n",
              "      <td>248081</td>\n",
              "      <td>1259</td>\n",
              "      <td>Eminem</td>\n",
              "      <td>Marshall Mathers| Luis Resto| M. Samuels| J. E...</td>\n",
              "      <td>NaN</td>\n",
              "      <td>52.0</td>\n",
              "      <td>0.970101</td>\n",
              "    </tr>\n",
              "    <tr>\n",
              "      <th>2</th>\n",
              "      <td>usxhePiY7pfrwzq2hv8ZWdFLiRVTfK5T0Byt6SeRWdc=</td>\n",
              "      <td>280218</td>\n",
              "      <td>1259</td>\n",
              "      <td>Kanye West</td>\n",
              "      <td>Kanye West| Paul McCartney| Noah Goldstein| Mi...</td>\n",
              "      <td>NaN</td>\n",
              "      <td>52.0</td>\n",
              "      <td>0.960895</td>\n",
              "    </tr>\n",
              "    <tr>\n",
              "      <th>3</th>\n",
              "      <td>9BeV27zlPCuIJvG9m1mzEBBO49fDMfeCqpiYpwz0d8c=</td>\n",
              "      <td>252540</td>\n",
              "      <td>465</td>\n",
              "      <td>Will.I.Am</td>\n",
              "      <td>will.i.am| Cody Wise| Damien Leroy| A.R. Rahma...</td>\n",
              "      <td>NaN</td>\n",
              "      <td>52.0</td>\n",
              "      <td>0.941009</td>\n",
              "    </tr>\n",
              "    <tr>\n",
              "      <th>4</th>\n",
              "      <td>O8JT/4VLLpZIkQGXXUFaGVQL2FbfFHPHU8YOLEISBQU=</td>\n",
              "      <td>173127</td>\n",
              "      <td>1259</td>\n",
              "      <td>Drake</td>\n",
              "      <td>NaN</td>\n",
              "      <td>NaN</td>\n",
              "      <td>-1.0</td>\n",
              "      <td>0.939436</td>\n",
              "    </tr>\n",
              "    <tr>\n",
              "      <th>5</th>\n",
              "      <td>qsr+miUqNpMrf+DQBIUrhs9SPtL8lKAmT0I67w2nLCk=</td>\n",
              "      <td>299444</td>\n",
              "      <td>1259</td>\n",
              "      <td>Eminem</td>\n",
              "      <td>Marshall Mathers| D Carter| J. Smith| Dee Dee ...</td>\n",
              "      <td>NaN</td>\n",
              "      <td>52.0</td>\n",
              "      <td>0.939192</td>\n",
              "    </tr>\n",
              "    <tr>\n",
              "      <th>6</th>\n",
              "      <td>pBwVrte2VIS1O76/z7Km699cNPbwtsoHoKoFMQZPT8Q=</td>\n",
              "      <td>179800</td>\n",
              "      <td>1259</td>\n",
              "      <td>B.o.B</td>\n",
              "      <td>NaN</td>\n",
              "      <td>NaN</td>\n",
              "      <td>52.0</td>\n",
              "      <td>0.933547</td>\n",
              "    </tr>\n",
              "    <tr>\n",
              "      <th>7</th>\n",
              "      <td>4L5G2OzB1D1yecg4aIA69qjZ7C4CRgsFp66ZFb7ZKQI=</td>\n",
              "      <td>235624</td>\n",
              "      <td>1259</td>\n",
              "      <td>Macklemore &amp; Ryan Lewis</td>\n",
              "      <td>NaN</td>\n",
              "      <td>NaN</td>\n",
              "      <td>52.0</td>\n",
              "      <td>0.931971</td>\n",
              "    </tr>\n",
              "    <tr>\n",
              "      <th>8</th>\n",
              "      <td>nYo7Vg+L8TvlFXWOjab5MaVY/dDn0ReI0tsuGZ0cLWA=</td>\n",
              "      <td>303809</td>\n",
              "      <td>1259</td>\n",
              "      <td>Bad Meets Evil</td>\n",
              "      <td>Marshall Mathers| R. Montgomery| P. Hernandez|...</td>\n",
              "      <td>NaN</td>\n",
              "      <td>52.0</td>\n",
              "      <td>0.930498</td>\n",
              "    </tr>\n",
              "    <tr>\n",
              "      <th>9</th>\n",
              "      <td>Zv5fAuQi8cuxIRqubmMxGMTBuf5i0jBMkCp1Z2AXg4M=</td>\n",
              "      <td>299653</td>\n",
              "      <td>1259</td>\n",
              "      <td>Kanye West</td>\n",
              "      <td>Kanye West| Jeff Bhasker| Stacy Ferguson| Mali...</td>\n",
              "      <td>NaN</td>\n",
              "      <td>52.0</td>\n",
              "      <td>0.930361</td>\n",
              "    </tr>\n",
              "    <tr>\n",
              "      <th>10</th>\n",
              "      <td>78w25Ysgx+7z9JWQwlA3ypIpPvKBz6afDGLnp1OZUcw=</td>\n",
              "      <td>250125</td>\n",
              "      <td>1259</td>\n",
              "      <td>Eminem</td>\n",
              "      <td>Marshall Mathers| B. Fryzel| A. Kleinstub| M. ...</td>\n",
              "      <td>NaN</td>\n",
              "      <td>52.0</td>\n",
              "      <td>0.926385</td>\n",
              "    </tr>\n",
              "  </tbody>\n",
              "</table>\n",
              "</div>"
            ],
            "text/plain": [
              "                                         song_id  ...    scores\n",
              "0   p+WxS35GIo9lHYpW17Bz/PRW+UcGH9R+bq+wU2caYnY=  ...  1.000000\n",
              "1   mQiuYoYa7M4AXaoBIdnsYdWsQvdxO4+iOLEJDPH2uHA=  ...  0.970101\n",
              "2   usxhePiY7pfrwzq2hv8ZWdFLiRVTfK5T0Byt6SeRWdc=  ...  0.960895\n",
              "3   9BeV27zlPCuIJvG9m1mzEBBO49fDMfeCqpiYpwz0d8c=  ...  0.941009\n",
              "4   O8JT/4VLLpZIkQGXXUFaGVQL2FbfFHPHU8YOLEISBQU=  ...  0.939436\n",
              "5   qsr+miUqNpMrf+DQBIUrhs9SPtL8lKAmT0I67w2nLCk=  ...  0.939192\n",
              "6   pBwVrte2VIS1O76/z7Km699cNPbwtsoHoKoFMQZPT8Q=  ...  0.933547\n",
              "7   4L5G2OzB1D1yecg4aIA69qjZ7C4CRgsFp66ZFb7ZKQI=  ...  0.931971\n",
              "8   nYo7Vg+L8TvlFXWOjab5MaVY/dDn0ReI0tsuGZ0cLWA=  ...  0.930498\n",
              "9   Zv5fAuQi8cuxIRqubmMxGMTBuf5i0jBMkCp1Z2AXg4M=  ...  0.930361\n",
              "10  78w25Ysgx+7z9JWQwlA3ypIpPvKBz6afDGLnp1OZUcw=  ...  0.926385\n",
              "\n",
              "[11 rows x 8 columns]"
            ]
          },
          "metadata": {
            "tags": []
          },
          "execution_count": 29
        }
      ]
    },
    {
      "cell_type": "markdown",
      "metadata": {
        "id": "Q8YVzDiTGiNK"
      },
      "source": [
        "Eminem есть в симиларах, значит все хорошо"
      ]
    },
    {
      "cell_type": "markdown",
      "metadata": {
        "id": "-J-Bb9TWxkkj"
      },
      "source": [
        "2) Подсчет метрик"
      ]
    },
    {
      "cell_type": "code",
      "metadata": {
        "id": "nzHfINa8uGqP",
        "outputId": "ffb81dc1-aa6a-49e3-9b7a-2bf3c13a6f88",
        "colab": {
          "base_uri": "https://localhost:8080/",
          "height": 66,
          "referenced_widgets": [
            "0fb12254b4eb4fafbfd419d9a46e01f0",
            "4853d78ec4ff4e7899fc8ed752d4bfa7",
            "0402643eb7c2431ca235104dbb058b69",
            "dd22692dc70d455fa5fa53d02cf537b8",
            "e1911aaf9c8149019afdcfde3237cf15",
            "b72533878c8b40b4aa752e58747029b7",
            "3f1c11b9bf2b422b84d60ff5ad5f0362",
            "314f00d637b04fb78c4761a5614f98ab"
          ]
        }
      },
      "source": [
        "predicted_scores = word2vec.predict_proba(train)"
      ],
      "execution_count": 46,
      "outputs": [
        {
          "output_type": "display_data",
          "data": {
            "application/vnd.jupyter.widget-view+json": {
              "model_id": "0fb12254b4eb4fafbfd419d9a46e01f0",
              "version_minor": 0,
              "version_major": 2
            },
            "text/plain": [
              "HBox(children=(FloatProgress(value=0.0, max=7377418.0), HTML(value='')))"
            ]
          },
          "metadata": {
            "tags": []
          }
        },
        {
          "output_type": "stream",
          "text": [
            "\n"
          ],
          "name": "stdout"
        }
      ]
    },
    {
      "cell_type": "code",
      "metadata": {
        "id": "xj2e-r_ixUon",
        "outputId": "817e618d-165f-496e-e6ee-0f2ad29101a2",
        "colab": {
          "base_uri": "https://localhost:8080/"
        }
      },
      "source": [
        "roc_auc_score(train.target, predicted_scores)"
      ],
      "execution_count": 47,
      "outputs": [
        {
          "output_type": "execute_result",
          "data": {
            "text/plain": [
              "0.5450622171909617"
            ]
          },
          "metadata": {
            "tags": []
          },
          "execution_count": 47
        }
      ]
    },
    {
      "cell_type": "markdown",
      "metadata": {
        "id": "2ZJueS6Jxpra"
      },
      "source": [
        "3) использование `predicted_scores` в качестве фичи"
      ]
    },
    {
      "cell_type": "code",
      "metadata": {
        "id": "E6bUuKtdxyja"
      },
      "source": [
        "X['predicted_scores'] = predicted_scores"
      ],
      "execution_count": 48,
      "outputs": []
    },
    {
      "cell_type": "code",
      "metadata": {
        "id": "DMyc8JC1yKCB"
      },
      "source": [
        "X_train, y_train = X.drop(columns=['msno', 'song_id', 'target']), X.target"
      ],
      "execution_count": 49,
      "outputs": []
    },
    {
      "cell_type": "code",
      "metadata": {
        "id": "vIm5WX9EXYZ-",
        "outputId": "9ffae756-76a1-4ba8-8307-1dcb72c31f7f",
        "colab": {
          "base_uri": "https://localhost:8080/",
          "height": 1000,
          "referenced_widgets": [
            "67d9a47d65f646a488624b5543d8d3d9",
            "49f444d45f634661a46166c234d1bc71",
            "1eddba43bfc942039328d7d38a6f590e",
            "fd748ee664d44f38911528faa69e5943",
            "ee2cba03a358422b965452f13a465638",
            "dd8de7279f4940208fde6a3b3f9a5f17",
            "6eb434d758d849eb9038e26a35b24e4c",
            "268ec992f2bc443a88f99adec99e0e62"
          ]
        }
      },
      "source": [
        "bmodel = k_fold(X_train, y_train)"
      ],
      "execution_count": 50,
      "outputs": [
        {
          "output_type": "display_data",
          "data": {
            "application/vnd.jupyter.widget-view+json": {
              "model_id": "67d9a47d65f646a488624b5543d8d3d9",
              "version_minor": 0,
              "version_major": 2
            },
            "text/plain": [
              "HBox(children=(FloatProgress(value=0.0, max=5.0), HTML(value='')))"
            ]
          },
          "metadata": {
            "tags": []
          }
        },
        {
          "output_type": "stream",
          "text": [
            "k=1\n"
          ],
          "name": "stdout"
        },
        {
          "output_type": "stream",
          "text": [
            "categorical_feature in param dict is overridden.\n"
          ],
          "name": "stderr"
        },
        {
          "output_type": "stream",
          "text": [
            "[10]\ttraining's auc: 0.708081\tvalid_1's auc: 0.704378\n",
            "[20]\ttraining's auc: 0.718193\tvalid_1's auc: 0.712174\n",
            "[30]\ttraining's auc: 0.723753\tvalid_1's auc: 0.716085\n",
            "[40]\ttraining's auc: 0.727918\tvalid_1's auc: 0.718858\n",
            "[50]\ttraining's auc: 0.731327\tvalid_1's auc: 0.721044\n",
            "[60]\ttraining's auc: 0.734955\tvalid_1's auc: 0.723436\n",
            "[70]\ttraining's auc: 0.737794\tvalid_1's auc: 0.725253\n",
            "[80]\ttraining's auc: 0.740572\tvalid_1's auc: 0.726911\n",
            "[90]\ttraining's auc: 0.74243\tvalid_1's auc: 0.727921\n",
            "[100]\ttraining's auc: 0.745519\tvalid_1's auc: 0.729917\n",
            "k=2\n"
          ],
          "name": "stdout"
        },
        {
          "output_type": "stream",
          "text": [
            "categorical_feature in param dict is overridden.\n"
          ],
          "name": "stderr"
        },
        {
          "output_type": "stream",
          "text": [
            "[10]\ttraining's auc: 0.707953\tvalid_1's auc: 0.703166\n",
            "[20]\ttraining's auc: 0.717761\tvalid_1's auc: 0.710771\n",
            "[30]\ttraining's auc: 0.723586\tvalid_1's auc: 0.714895\n",
            "[40]\ttraining's auc: 0.727322\tvalid_1's auc: 0.717404\n",
            "[50]\ttraining's auc: 0.730932\tvalid_1's auc: 0.719759\n",
            "[60]\ttraining's auc: 0.734328\tvalid_1's auc: 0.721904\n",
            "[70]\ttraining's auc: 0.738493\tvalid_1's auc: 0.724656\n",
            "[80]\ttraining's auc: 0.740927\tvalid_1's auc: 0.72614\n",
            "[90]\ttraining's auc: 0.744495\tvalid_1's auc: 0.728571\n",
            "[100]\ttraining's auc: 0.747241\tvalid_1's auc: 0.730196\n",
            "k=3\n"
          ],
          "name": "stdout"
        },
        {
          "output_type": "stream",
          "text": [
            "categorical_feature in param dict is overridden.\n"
          ],
          "name": "stderr"
        },
        {
          "output_type": "stream",
          "text": [
            "[10]\ttraining's auc: 0.707773\tvalid_1's auc: 0.70294\n",
            "[20]\ttraining's auc: 0.717052\tvalid_1's auc: 0.710065\n",
            "[30]\ttraining's auc: 0.722988\tvalid_1's auc: 0.714398\n",
            "[40]\ttraining's auc: 0.728096\tvalid_1's auc: 0.718107\n",
            "[50]\ttraining's auc: 0.731883\tvalid_1's auc: 0.72053\n",
            "[60]\ttraining's auc: 0.735101\tvalid_1's auc: 0.722535\n",
            "[70]\ttraining's auc: 0.738029\tvalid_1's auc: 0.72442\n",
            "[80]\ttraining's auc: 0.740682\tvalid_1's auc: 0.725958\n",
            "[90]\ttraining's auc: 0.743076\tvalid_1's auc: 0.727379\n",
            "[100]\ttraining's auc: 0.745299\tvalid_1's auc: 0.728573\n",
            "k=4\n"
          ],
          "name": "stdout"
        },
        {
          "output_type": "stream",
          "text": [
            "categorical_feature in param dict is overridden.\n"
          ],
          "name": "stderr"
        },
        {
          "output_type": "stream",
          "text": [
            "[10]\ttraining's auc: 0.708178\tvalid_1's auc: 0.702757\n",
            "[20]\ttraining's auc: 0.717367\tvalid_1's auc: 0.709783\n",
            "[30]\ttraining's auc: 0.723399\tvalid_1's auc: 0.714118\n",
            "[40]\ttraining's auc: 0.728085\tvalid_1's auc: 0.717368\n",
            "[50]\ttraining's auc: 0.732273\tvalid_1's auc: 0.72012\n",
            "[60]\ttraining's auc: 0.735433\tvalid_1's auc: 0.72204\n",
            "[70]\ttraining's auc: 0.738597\tvalid_1's auc: 0.724016\n",
            "[80]\ttraining's auc: 0.741571\tvalid_1's auc: 0.725838\n",
            "[90]\ttraining's auc: 0.74517\tvalid_1's auc: 0.728163\n",
            "[100]\ttraining's auc: 0.748661\tvalid_1's auc: 0.730536\n",
            "k=5\n"
          ],
          "name": "stdout"
        },
        {
          "output_type": "stream",
          "text": [
            "categorical_feature in param dict is overridden.\n"
          ],
          "name": "stderr"
        },
        {
          "output_type": "stream",
          "text": [
            "[10]\ttraining's auc: 0.708558\tvalid_1's auc: 0.704624\n",
            "[20]\ttraining's auc: 0.71791\tvalid_1's auc: 0.711736\n",
            "[30]\ttraining's auc: 0.723706\tvalid_1's auc: 0.715778\n",
            "[40]\ttraining's auc: 0.72854\tvalid_1's auc: 0.719064\n",
            "[50]\ttraining's auc: 0.732942\tvalid_1's auc: 0.722034\n",
            "[60]\ttraining's auc: 0.735768\tvalid_1's auc: 0.723765\n",
            "[70]\ttraining's auc: 0.73887\tvalid_1's auc: 0.725656\n",
            "[80]\ttraining's auc: 0.741799\tvalid_1's auc: 0.727476\n",
            "[90]\ttraining's auc: 0.744016\tvalid_1's auc: 0.728706\n",
            "[100]\ttraining's auc: 0.746652\tvalid_1's auc: 0.730226\n",
            "\n",
            "Mean ROC-AUC: 0.730\n"
          ],
          "name": "stdout"
        }
      ]
    },
    {
      "cell_type": "markdown",
      "metadata": {
        "id": "pJH73s4pmVOa"
      },
      "source": [
        "`Mean ROC-AUC` немного вырос."
      ]
    },
    {
      "cell_type": "markdown",
      "metadata": {
        "id": "HYoPQwd5mT1g"
      },
      "source": [
        ""
      ]
    },
    {
      "cell_type": "markdown",
      "metadata": {
        "id": "hgqqlPqJl744"
      },
      "source": [
        "Беру маленькую часть датасета, обучаю на нем `GBDT`, смотрю на `shap values`. На всем датасете слишком долго считается."
      ]
    },
    {
      "cell_type": "code",
      "metadata": {
        "id": "0co7ftjmXzKO"
      },
      "source": [
        "data = train_test_split(X_train, y_train, test_size=0.999)"
      ],
      "execution_count": 51,
      "outputs": []
    },
    {
      "cell_type": "code",
      "metadata": {
        "id": "WFdyzdv2XzKQ",
        "outputId": "8baeed77-b947-4b00-f090-0c582cece1af",
        "colab": {
          "base_uri": "https://localhost:8080/"
        }
      },
      "source": [
        "model, auc = train_lgb(*data)\n",
        "print(\"ROC-AUC:\", auc)"
      ],
      "execution_count": 52,
      "outputs": [
        {
          "output_type": "stream",
          "text": [
            "categorical_feature in param dict is overridden.\n"
          ],
          "name": "stderr"
        },
        {
          "output_type": "stream",
          "text": [
            "[10]\ttraining's auc: 0.908023\tvalid_1's auc: 0.649202\n",
            "[20]\ttraining's auc: 0.957297\tvalid_1's auc: 0.645813\n",
            "[30]\ttraining's auc: 0.985889\tvalid_1's auc: 0.641149\n",
            "[40]\ttraining's auc: 0.994649\tvalid_1's auc: 0.638589\n",
            "[50]\ttraining's auc: 0.998804\tvalid_1's auc: 0.636477\n",
            "[60]\ttraining's auc: 0.999753\tvalid_1's auc: 0.635278\n",
            "[70]\ttraining's auc: 0.999953\tvalid_1's auc: 0.634934\n",
            "[80]\ttraining's auc: 0.999993\tvalid_1's auc: 0.634244\n",
            "[90]\ttraining's auc: 0.999999\tvalid_1's auc: 0.633663\n",
            "[100]\ttraining's auc: 1\tvalid_1's auc: 0.633211\n",
            "ROC-AUC: 0.6332108433427742\n"
          ],
          "name": "stdout"
        }
      ]
    },
    {
      "cell_type": "code",
      "metadata": {
        "id": "9YbKSFF8XZoU"
      },
      "source": [
        "explainer = shap.TreeExplainer(model)\n",
        "shap_values = explainer.shap_values(X_train)"
      ],
      "execution_count": null,
      "outputs": []
    },
    {
      "cell_type": "code",
      "metadata": {
        "id": "t5R8BAQMYBil"
      },
      "source": [
        "shap.summary_plot(shap_values, X_train)"
      ],
      "execution_count": null,
      "outputs": []
    },
    {
      "cell_type": "markdown",
      "metadata": {
        "id": "FfaTwfcPDsB0"
      },
      "source": [
        "Шапы не считаются("
      ]
    },
    {
      "cell_type": "code",
      "metadata": {
        "id": "1VceaDXOYNlS"
      },
      "source": [
        ""
      ],
      "execution_count": null,
      "outputs": []
    }
  ]
}